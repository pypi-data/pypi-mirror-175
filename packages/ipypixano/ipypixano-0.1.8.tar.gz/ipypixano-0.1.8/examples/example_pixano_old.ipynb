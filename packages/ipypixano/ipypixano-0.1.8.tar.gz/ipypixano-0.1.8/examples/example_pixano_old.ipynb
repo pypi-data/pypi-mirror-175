{
 "cells": [
  {
   "cell_type": "markdown",
   "id": "c1e95281",
   "metadata": {},
   "source": [
    "ipypixano exposes the 2D elements of Pixano Elements in a jupyter notebook. \n",
    "\n",
    "Pixano Elements is a library of web components dedicated to data annotation task. \n",
    "\n",
    "https://github.com/pixano/pixano-elements\n",
    "\n",
    "Currently the following items are available:\n",
    "\n",
    "* pxn-rectangle\n",
    "* pxn-polygon\n",
    "* pxn-segmentation\n",
    "* pxn-smart-rectangle\n",
    "* pxn-smart-segmentation\n",
    "\n",
    "\n",
    "To use ipypixano , just install it with pip\n",
    "\n",
    "\n",
    "\n",
    "\n",
    "```\n",
    "pip install ipypixano\n",
    "```\n",
    "\n",
    "This notebook presents how to create elements, configure them and how to retrieve annotation data in the python side.\n"
   ]
  },
  {
   "cell_type": "code",
   "execution_count": 2,
   "id": "194d40ea",
   "metadata": {},
   "outputs": [],
   "source": [
    "from  ipypixano import Pixano\n"
   ]
  },
  {
   "cell_type": "markdown",
   "id": "eb08b637",
   "metadata": {},
   "source": [
    "For now the package has some limitations and undesirable behaviors:\n",
    "\n",
    "Keyboard shortcuts used in pixano elements are always active even outside the cell displaying the element. For example,  the 'm', 'p' and 'h' keys will respectively darken, lighten and hide/show the annotations in the element. \n",
    "\n",
    "Similarly ctr-C and ctr-V will copy the annotations or the segmentation mask when they are used (in this case use the copy/paste from the context menu displayed by the right mouse button).\n",
    "\n",
    "Moreover, if the same element is displayed twice, the annotations are lost when the second element is displayed.\n"
   ]
  },
  {
   "cell_type": "markdown",
   "id": "e9ac6150",
   "metadata": {},
   "source": [
    "### Element creation : \n",
    "\n",
    "* 'element' indicates the type of element to create (see list above)\n",
    "* 'image' indicates the image to display, image can be a filename (regardless of its location on your disk), a url, a numpy array or an Image loaded by PIL"
   ]
  },
  {
   "cell_type": "code",
   "execution_count": 3,
   "id": "7d893e78",
   "metadata": {},
   "outputs": [
    {
     "data": {
      "application/vnd.jupyter.widget-view+json": {
       "model_id": "03f589a66ceb4eb49fff1f61ef4555c5",
       "version_major": 2,
       "version_minor": 0
      },
      "text/plain": [
       "Pixano(value=None, element='pxn-smart-rectangle', image='/9j/4AAQSkZJRgABAQAAAQABAAD/2wCEAAoHBwgHBgoICAgLCgoLD…"
      ]
     },
     "metadata": {},
     "output_type": "display_data"
    }
   ],
   "source": [
    "w_rect = Pixano(element='pxn-smart-rectangle',image='image.jpg')\n",
    "w_rect"
   ]
  },
  {
   "cell_type": "code",
   "execution_count": 32,
   "id": "cfa0aeda",
   "metadata": {},
   "outputs": [
    {
     "data": {
      "text/plain": [
       "[{'id': 'kk2hr',\n",
       "  'color': 'red',\n",
       "  'geometry': {'vertices': [0.23828125,\n",
       "    0.16944444444444445,\n",
       "    0.340625,\n",
       "    0.35833333333333334],\n",
       "   'type': 'rectangle'},\n",
       "  'category': 'class4',\n",
       "  'options': {}},\n",
       " {'id': '9ubx9d',\n",
       "  'color': '#eca0a0',\n",
       "  'geometry': {'vertices': [0.44140625,\n",
       "    0.13194444444444445,\n",
       "    0.54296875,\n",
       "    0.2791666666666667],\n",
       "   'type': 'rectangle'},\n",
       "  'category': 'class2',\n",
       "  'options': {}},\n",
       " {'id': '19ezwk',\n",
       "  'color': 'blue',\n",
       "  'geometry': {'vertices': [0.49453125,\n",
       "    0.5055555555555555,\n",
       "    0.60703125,\n",
       "    0.6958333333333333],\n",
       "   'type': 'rectangle'},\n",
       "  'category': 'class1',\n",
       "  'options': {}},\n",
       " {'id': 'rg38rh',\n",
       "  'color': 'green',\n",
       "  'geometry': {'vertices': [0.1484375,\n",
       "    0.5222222222222223,\n",
       "    0.23515625,\n",
       "    0.6458333333333334],\n",
       "   'type': 'rectangle'},\n",
       "  'category': 'class3',\n",
       "  'options': {'checkbox example': False,\n",
       "   'dropdown example': 'something',\n",
       "   'textfield example': 'some text'}},\n",
       " {'id': 's0fqin',\n",
       "  'color': 'green',\n",
       "  'geometry': {'vertices': [0.309375,\n",
       "    0.22083333333333333,\n",
       "    0.42734375,\n",
       "    0.43333333333333335],\n",
       "   'type': 'rectangle'},\n",
       "  'category': 'class3',\n",
       "  'options': {'checkbox example': False,\n",
       "   'dropdown example': 'something',\n",
       "   'textfield example': 'some text'}},\n",
       " {'id': 'un6v8s',\n",
       "  'color': 'green',\n",
       "  'geometry': {'vertices': [0.5546875,\n",
       "    0.3819444444444444,\n",
       "    0.646875,\n",
       "    0.4597222222222222],\n",
       "   'type': 'rectangle'},\n",
       "  'category': 'class3',\n",
       "  'options': {'checkbox example': False,\n",
       "   'dropdown example': 'something',\n",
       "   'textfield example': 'some text'}},\n",
       " {'id': '6kmh3',\n",
       "  'color': 'green',\n",
       "  'geometry': {'vertices': [0.75078125, 0.55, 0.81484375, 0.6861111111111111],\n",
       "   'type': 'rectangle'},\n",
       "  'category': 'class3',\n",
       "  'options': {'checkbox example': False,\n",
       "   'dropdown example': 'something',\n",
       "   'textfield example': 'some text'}},\n",
       " {'id': '9v6ipz',\n",
       "  'color': 'green',\n",
       "  'geometry': {'vertices': [0.82265625,\n",
       "    0.31527777777777777,\n",
       "    0.859375,\n",
       "    0.4527777777777778],\n",
       "   'type': 'rectangle'},\n",
       "  'category': 'class3',\n",
       "  'options': {'checkbox example': False,\n",
       "   'dropdown example': 'something',\n",
       "   'textfield example': 'some text'}},\n",
       " {'id': 'uycwu',\n",
       "  'color': 'green',\n",
       "  'geometry': {'vertices': [0.74921875,\n",
       "    0.13055555555555556,\n",
       "    0.834375,\n",
       "    0.23333333333333334],\n",
       "   'type': 'rectangle'},\n",
       "  'category': 'class3',\n",
       "  'options': {'checkbox example': False,\n",
       "   'dropdown example': 'something',\n",
       "   'textfield example': 'some text'}},\n",
       " {'id': 'vubzwp',\n",
       "  'color': '#eca0a0',\n",
       "  'geometry': {'vertices': [0.14609375,\n",
       "    0.25416666666666665,\n",
       "    0.20234375,\n",
       "    0.4152777777777778],\n",
       "   'type': 'rectangle'},\n",
       "  'category': 'class2',\n",
       "  'options': {}},\n",
       " {'id': 'sooxnd',\n",
       "  'color': '#eca0a0',\n",
       "  'geometry': {'vertices': [0.30390625,\n",
       "    0.5055555555555555,\n",
       "    0.3625,\n",
       "    0.6930555555555555],\n",
       "   'type': 'rectangle'},\n",
       "  'category': 'class2',\n",
       "  'options': {}},\n",
       " {'id': 'mv08tf',\n",
       "  'color': '#eca0a0',\n",
       "  'geometry': {'vertices': [0.4125, 0.5972222222222222, 0.4640625, 0.8125],\n",
       "   'type': 'rectangle'},\n",
       "  'category': 'class2',\n",
       "  'options': {}},\n",
       " {'id': 'z3o6f',\n",
       "  'color': '#eca0a0',\n",
       "  'geometry': {'vertices': [0.55625,\n",
       "    0.8194444444444444,\n",
       "    0.60625,\n",
       "    0.9152777777777777],\n",
       "   'type': 'rectangle'},\n",
       "  'category': 'class2',\n",
       "  'options': {}}]"
      ]
     },
     "execution_count": 32,
     "metadata": {},
     "output_type": "execute_result"
    }
   ],
   "source": [
    "w_rect.shapes"
   ]
  },
  {
   "cell_type": "code",
   "execution_count": null,
   "id": "070358e8",
   "metadata": {},
   "outputs": [],
   "source": [
    "w_poly = Pixano(element='pxn-polygon',image='https://raw.githubusercontent.com/pixano/pixano-elements/master/demos/rectangle/image.jpg')\n",
    "w_poly"
   ]
  },
  {
   "cell_type": "code",
   "execution_count": 21,
   "id": "ae689dc1",
   "metadata": {},
   "outputs": [
    {
     "name": "stderr",
     "output_type": "stream",
     "text": [
      "/home/nallezard/anaconda3/lib/python3.6/site-packages/traitlets/traitlets.py:567: FutureWarning: elementwise comparison failed; returning scalar instead, but in the future will perform elementwise comparison\n",
      "  silent = bool(old_value == new_value)\n"
     ]
    },
    {
     "data": {
      "application/vnd.jupyter.widget-view+json": {
       "model_id": "6f424c9cc02f4054b74fd17e069057e0",
       "version_major": 2,
       "version_minor": 0
      },
      "text/plain": [
       "Pixano(value=None, element='pxn-segmentation', image='iVBORw0KGgoAAAANSUhEUgAABkAAAAH0CAIAAADqknYdAAAgAElEQVR4…"
      ]
     },
     "metadata": {},
     "output_type": "display_data"
    }
   ],
   "source": [
    "import cv2\n",
    "img=cv2.imread(\"traffic.jpg\")\n",
    "w_seg = Pixano(element='pxn-segmentation',image=img)\n",
    "w_seg"
   ]
  },
  {
   "cell_type": "markdown",
   "id": "ca733d68",
   "metadata": {},
   "source": [
    "###  Annotations retrieval\n",
    "\n",
    "\n"
   ]
  },
  {
   "cell_type": "markdown",
   "id": "ea3fbb7b",
   "metadata": {},
   "source": [
    "#### Rectangle et Polygon elements\n",
    "\n",
    "Annotations created in *-rectangle or *-polygon elements can be retrieved by the ```shapes``` attribute.\n",
    "\n",
    "```shapes``` is a list of dictionaries describing each rectangle or polygon."
   ]
  },
  {
   "cell_type": "code",
   "execution_count": null,
   "id": "843113cb",
   "metadata": {},
   "outputs": [],
   "source": [
    "w_rect.shapes"
   ]
  },
  {
   "cell_type": "markdown",
   "id": "ead3d053",
   "metadata": {},
   "source": [
    "Annotation data can be modified from python using the ```setShapes(annot)``` method where annot is a list of annotations with the same structure as that returned by shapes"
   ]
  },
  {
   "cell_type": "code",
   "execution_count": null,
   "id": "52b5946c",
   "metadata": {},
   "outputs": [],
   "source": [
    "new_annot=[{'id': 'toto',\n",
    "  'color': 'blue',\n",
    "  'geometry': {'vertices': [0.2,0.2,0.5,0.5],'type': 'rectangle'}}]\n",
    "\n",
    "w_rect.setShapes(new_annot)"
   ]
  },
  {
   "cell_type": "markdown",
   "id": "e3ce0adc",
   "metadata": {},
   "source": [
    "You can choose the category of new annotations created using the attribute ```current_category``` "
   ]
  },
  {
   "cell_type": "code",
   "execution_count": null,
   "id": "2ce5d7d2",
   "metadata": {},
   "outputs": [],
   "source": [
    "w_rect.current_category='dog'"
   ]
  },
  {
   "cell_type": "markdown",
   "id": "e8d1bdfc",
   "metadata": {},
   "source": [
    "The color of categories can be changed using the attribute ```categories_colors```"
   ]
  },
  {
   "cell_type": "code",
   "execution_count": null,
   "id": "840fd134",
   "metadata": {},
   "outputs": [],
   "source": [
    "w_rect.categories_colors={'dog':'green','cat':'gray','car':'yellow'}"
   ]
  },
  {
   "cell_type": "markdown",
   "id": "1ae2e064",
   "metadata": {},
   "source": [
    "Use ```clearShapes()``` to delete annotations"
   ]
  },
  {
   "cell_type": "code",
   "execution_count": null,
   "id": "89b903d2",
   "metadata": {},
   "outputs": [],
   "source": [
    "w_rect.clearShapes()"
   ]
  },
  {
   "cell_type": "markdown",
   "id": "52d0aeed",
   "metadata": {},
   "source": [
    "Selected annotations can be found in the ```selectedShapeIds``` attribute which returns a list of ids"
   ]
  },
  {
   "cell_type": "code",
   "execution_count": null,
   "id": "38eee22e",
   "metadata": {},
   "outputs": [],
   "source": [
    "w_rect.selectedShapeIds"
   ]
  },
  {
   "cell_type": "markdown",
   "id": "ed2206d5",
   "metadata": {},
   "source": [
    "#### Integration example\n",
    "\n",
    "The following example shows how to observe changes on ```selectedShapeIds```  and call a function displaying informations of selected items in an ipywidgets Label\n",
    "\n",
    "First create somes annotations in the pixano element, then select them to see changes displayed below the element."
   ]
  },
  {
   "cell_type": "code",
   "execution_count": null,
   "id": "2fa0d442",
   "metadata": {},
   "outputs": [],
   "source": [
    "from ipywidgets import Label,VBox\n",
    "selected=Label(value=\"shape selected\")\n",
    "w_rect = Pixano(element='pxn-rectangle',image='image.jpg')\n",
    "\n",
    "    \n",
    "def on_change_selected(change):\n",
    "    if len(change['new'])>0:\n",
    "        idseleted=change['new'][0]\n",
    "        shapes=w_rect.shapes\n",
    "        for s in shapes:\n",
    "            if s['id']==idseleted:\n",
    "                vertices=s[\"geometry\"][\"vertices\"] \n",
    "                vertices_str=\",\".join(list(map(lambda x:\"{:.2f}\".format(x),vertices)))\n",
    "                selected.value=\"Shape selected : \"+change['new'][0]+ \"\\nvertices :\\n\"+vertices_str      \n",
    "    else:\n",
    "        selected.value=\"Shape selected : None\"\n",
    "    \n",
    "w_rect.observe(on_change_selected, names='selectedShapeIds')\n",
    "\n",
    "VBox([w_rect,selected])"
   ]
  },
  {
   "cell_type": "markdown",
   "id": "dcb59596",
   "metadata": {},
   "source": [
    "### Segmentation Element\n"
   ]
  },
  {
   "cell_type": "markdown",
   "id": "02e4e700",
   "metadata": {},
   "source": [
    "Segmentation annotations are returned as a mask in ndarray format using the ```getMask()``` method."
   ]
  },
  {
   "cell_type": "code",
   "execution_count": null,
   "id": "05766c9a",
   "metadata": {},
   "outputs": [],
   "source": [
    "import numpy as nP\n",
    "\n",
    "mask=w_seg.getMask()\n",
    "\n",
    "print(mask.shape,np.unique(mask))\n",
    "\n",
    "from PIL import Image as pImage\n",
    "pImage.fromarray(mask)"
   ]
  },
  {
   "cell_type": "markdown",
   "id": "e5270abe",
   "metadata": {},
   "source": [
    "The current category number when creating annotations is set by the ```targetClass``` attribute."
   ]
  },
  {
   "cell_type": "code",
   "execution_count": null,
   "id": "5b8ef433",
   "metadata": {},
   "outputs": [],
   "source": [
    "w.targetClass=4"
   ]
  },
  {
   "cell_type": "markdown",
   "id": "aaa911bb",
   "metadata": {},
   "source": [
    "It is possible to modify the clsMap attribute which indicates the color of each class in the segmentation mask and if the class is in 'instance' or 'semantic' mode.\n",
    "\n",
    "For each class number we associate a dictionary of 4 values, the first 3 encode the RGB color, the last indicates if we are in 'instance' (1) or 'semantic' (0) mode"
   ]
  },
  {
   "cell_type": "code",
   "execution_count": null,
   "id": "b6c9d8f3",
   "metadata": {},
   "outputs": [],
   "source": [
    "w.clsMap={0:{0,0,0,0},1:{255,0,0,0},2:{255,255,0,0},3:{0,0,255,0},4:{0,255,255,1},}\n"
   ]
  }
 ],
 "metadata": {
  "hide_input": false,
  "kernelspec": {
   "display_name": "test_pixano",
   "language": "python",
   "name": "test_pixano"
  },
  "language_info": {
   "codemirror_mode": {
    "name": "ipython",
    "version": 3
   },
   "file_extension": ".py",
   "mimetype": "text/x-python",
   "name": "python",
   "nbconvert_exporter": "python",
   "pygments_lexer": "ipython3",
   "version": "3.6.8"
  },
  "toc": {
   "base_numbering": 1,
   "nav_menu": {},
   "number_sections": true,
   "sideBar": true,
   "skip_h1_title": false,
   "title_cell": "Table of Contents",
   "title_sidebar": "Contents",
   "toc_cell": false,
   "toc_position": {},
   "toc_section_display": true,
   "toc_window_display": false
  },
  "varInspector": {
   "cols": {
    "lenName": 16,
    "lenType": 16,
    "lenVar": 40
   },
   "kernels_config": {
    "python": {
     "delete_cmd_postfix": "",
     "delete_cmd_prefix": "del ",
     "library": "var_list.py",
     "varRefreshCmd": "print(var_dic_list())"
    },
    "r": {
     "delete_cmd_postfix": ") ",
     "delete_cmd_prefix": "rm(",
     "library": "var_list.r",
     "varRefreshCmd": "cat(var_dic_list()) "
    }
   },
   "types_to_exclude": [
    "module",
    "function",
    "builtin_function_or_method",
    "instance",
    "_Feature"
   ],
   "window_display": false
  }
 },
 "nbformat": 4,
 "nbformat_minor": 5
}
