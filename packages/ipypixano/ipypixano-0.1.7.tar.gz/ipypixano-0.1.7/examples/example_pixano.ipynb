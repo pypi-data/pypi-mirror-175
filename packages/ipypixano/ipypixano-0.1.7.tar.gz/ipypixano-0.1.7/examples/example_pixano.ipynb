{
 "cells": [
  {
   "cell_type": "markdown",
   "id": "a77c283f",
   "metadata": {},
   "source": [
    "# Ipypixano Jupyter widget\n",
    "\n",
    "\n",
    "\n",
    "ipypixano Jupyter widget exposes the 2D elements of Pixano Elements in a jupyter notebook. \n",
    "\n",
    "Pixano Elements itself is a library of web components dedicated to data annotation task. \n",
    "\n",
    "https://github.com/pixano/pixano-elements\n",
    "\n",
    "Currently the following items are available:\n",
    "\n",
    "* pxn-rectangle\n",
    "* pxn-polygon\n",
    "* pxn-segmentation\n",
    "* pxn-smart-rectangle\n",
    "* pxn-smart-segmentation\n",
    "\n",
    "\n",
    "To use ipypixano , just install it with pip\n",
    "\n",
    "\n",
    "\n",
    "```\n",
    "pip install ipypixano\n",
    "```\n",
    "\n",
    "This notebook presents how to create elements, configure them and how to retrieve annotations data on the python side.\n"
   ]
  },
  {
   "cell_type": "code",
   "execution_count": 1,
   "id": "a7682f00",
   "metadata": {},
   "outputs": [],
   "source": [
    "from  ipypixano import Pixano\n",
    "\n",
    "\n",
    "import json\n",
    "from ipywidgets import VBox,Text,Layout,Box\n",
    "from PIL import Image as pImage\n"
   ]
  },
  {
   "cell_type": "code",
   "execution_count": null,
   "id": "4c5e85d1",
   "metadata": {},
   "outputs": [],
   "source": [
    "import voila\n",
    "voila.__version__"
   ]
  },
  {
   "cell_type": "code",
   "execution_count": 2,
   "id": "d0023128",
   "metadata": {},
   "outputs": [
    {
     "data": {
      "text/plain": [
       "'0.1.6'"
      ]
     },
     "execution_count": 2,
     "metadata": {},
     "output_type": "execute_result"
    }
   ],
   "source": [
    "import ipypixano\n",
    "ipypixano.__version__"
   ]
  },
  {
   "cell_type": "markdown",
   "id": "f794faa5",
   "metadata": {},
   "source": [
    "For now the package has some limitations and undesirable behaviors:\n",
    "\n",
    "Keyboard shortcuts used in pixano elements are always active even outside the cell displaying the element. For example,  the 'm', 'p' and 'h' keys will respectively darken, lighten and hide/show the annotations in the element. \n",
    "\n",
    "Similarly ctr-C and ctr-V will copy the annotations or the segmentation mask when they are used (in this case use the copy/paste from the context menu displayed by the right mouse button).\n",
    "\n",
    "Moreover, if the same element is displayed twice, the annotations are lost when the second element is displayed.\n"
   ]
  },
  {
   "cell_type": "markdown",
   "id": "de14bba3",
   "metadata": {},
   "source": [
    "## Element creation : \n",
    "```\n",
    "pixano_widget=Pixano(element,image,label_schema)\n",
    "```\n",
    "* 'element' : the type of element to create (see list above)\n",
    "* 'image' : the image to display, image can be a filename (regardless of its location on your disk), a url, a numpy array or an Image loaded by PIL\n",
    "* label_schema : the descriptions of the annotations categories : name, color, and optionaly properties (see below). For segmentation task you must set the category index (idx) and if it uses instance mode."
   ]
  },
  {
   "cell_type": "code",
   "execution_count": 3,
   "id": "5d124834",
   "metadata": {},
   "outputs": [],
   "source": [
    "\n",
    "my_schema_seg={'category': [{'name': 'person', 'color': '#405b4e',  'idx': 1, 'instance': True,'properties': []},\n",
    "  {'name': 'bicycle', 'color': '#045e79', 'idx': 2, 'instance': True,'properties': []},\n",
    "  {'name': 'car', 'color': '#b4ca52', 'idx': 3, 'instance': True,'properties': []},\n",
    "  {'name': 'motorcycle', 'color': '#2a2072', 'idx': 4, 'instance': True,'properties': []},\n",
    "  {'name': 'airplane', 'color': '#f0e229', 'idx': 5, 'instance': True,'properties': []},\n",
    "  {'name': 'bus', 'color': '#0b5c13', 'idx': 6, 'instance': True,'properties': []},\n",
    "  {'name': 'train', 'color': '#a593bb', 'idx': 7, 'instance': True,'properties': []},\n",
    "  {'name': 'truck', 'color': '#0da178', 'idx': 8, 'instance': True,'properties': []},\n",
    "  {'name': 'boat', 'color': '#63ab56', 'idx': 9, 'instance': False,'properties': []},\n",
    "  {'name': 'traffic light', 'color': '#db6e77', 'idx': 10, 'instance': False,'properties': []},\n",
    "  \n",
    "]}\n",
    "\n",
    "\n",
    "my_schema_shape={'category': [{'name': 'car', 'color': '#3c6127', \n",
    "                               'properties': [\n",
    "                                            {\"name\": 'occluded',    \"type\": 'checkbox' , \"default\": False },\n",
    "                                            { \"name\": 'model type', \"type\": 'dropdown' , \"enum\": ['toyota', 'chery', 'ford'], \"default\": 'toyota' },\n",
    "                                            { \"name\": 'color',      \"type\": 'textfield', \"default\": 'gray' }]},\n",
    "              {'name': 'bicycle', 'color': '#89c2bc', 'properties': []},\n",
    "              {'name': 'person', 'color': '#971ad2', 'properties': []},\n",
    "              {'name': 'motorcycle', 'color': '#e7e8d1', 'properties': []},\n",
    "              {'name': 'airplane', 'color': '#df753a', 'properties': []},\n",
    "              {'name': 'bus', 'color': '#075c52', 'properties': []},\n",
    "              {'name': 'train', 'color': '#a0da30', 'properties': []},\n",
    "              {'name': 'truck', 'color': '#7b0915', 'properties': []},\n",
    "              {'name': 'boat', 'color': '#2567cd', 'properties': []},\n",
    "              {'name': 'traffic sign', 'color': '#928520', 'properties': []},\n",
    "              {'name': 'fire hydrant', 'color': '#459511', 'properties': []},\n",
    "              {'name': 'stop sign', 'color': '#80e278', 'properties': []}]}"
   ]
  },
  {
   "cell_type": "code",
   "execution_count": 4,
   "id": "cf182e6a",
   "metadata": {
    "scrolled": false
   },
   "outputs": [
    {
     "data": {
      "application/vnd.jupyter.widget-view+json": {
       "model_id": "fc799cda020f4b0f94471c123afe60df",
       "version_major": 2,
       "version_minor": 0
      },
      "text/plain": [
       "Pixano(value=None, element='pxn-rectangle', image='/9j/4AAQSkZJRgABAQAAAQABAAD/2wCEAAoHBwgHBgoICAgLCgoLDhgQDg0…"
      ]
     },
     "metadata": {},
     "output_type": "display_data"
    }
   ],
   "source": [
    "\n",
    "w_rect = Pixano(element='pxn-rectangle',image='image.jpg',label_schema=my_schema_shape,layout=Layout(width='100%'))\n",
    "\n",
    "w_rect"
   ]
  },
  {
   "cell_type": "markdown",
   "id": "d77d01f5",
   "metadata": {},
   "source": [
    "### Loading Annotations"
   ]
  },
  {
   "cell_type": "code",
   "execution_count": 9,
   "id": "b9f08e65",
   "metadata": {},
   "outputs": [],
   "source": [
    "w_rect.load(\"annotations_shape_cars.json\")"
   ]
  },
  {
   "cell_type": "markdown",
   "id": "340f69e8",
   "metadata": {},
   "source": [
    "### Getting Annotations\n",
    "\n",
    "Annotations are accesible via the annotations widget's attribute "
   ]
  },
  {
   "cell_type": "code",
   "execution_count": 10,
   "id": "610552dc",
   "metadata": {},
   "outputs": [
    {
     "data": {
      "text/plain": [
       "[{'id': '0.oe3gp9ab1tj',\n",
       "  'geometry': {'vertices': [0.36796875,\n",
       "    0.21666666666666667,\n",
       "    0.509375,\n",
       "    0.4013888888888889],\n",
       "   'type': 'rectangle'},\n",
       "  'category': 'traffic sign',\n",
       "  'options': {},\n",
       "  'color': '#928520'},\n",
       " {'id': '0.p78qnvymhch',\n",
       "  'geometry': {'vertices': [0.553125,\n",
       "    0.22916666666666666,\n",
       "    0.69453125,\n",
       "    0.40694444444444444],\n",
       "   'type': 'rectangle'},\n",
       "  'category': 'traffic sign',\n",
       "  'options': {},\n",
       "  'color': '#928520'},\n",
       " {'id': '0.4t9erth91t',\n",
       "  'geometry': {'vertices': [0.5140625, 0.4111111111111111, 0.5484375, 0.625],\n",
       "   'type': 'rectangle'},\n",
       "  'category': 'traffic sign',\n",
       "  'options': {},\n",
       "  'color': '#928520'}]"
      ]
     },
     "execution_count": 10,
     "metadata": {},
     "output_type": "execute_result"
    }
   ],
   "source": [
    "w_rect.annotations"
   ]
  },
  {
   "cell_type": "markdown",
   "id": "541c5ce7",
   "metadata": {},
   "source": [
    "### Setting annotations\n",
    "\n",
    "Annotations can be set from python by using the setAnnotations method.\n",
    "\n",
    "Modify the objects caterogies to see changes in the pixano widget.\n",
    "\n",
    "Be careful, no validation checking is made when the list is passed to the widget. Annotations that do not respect the label schema can lead to aberrant results"
   ]
  },
  {
   "cell_type": "code",
   "execution_count": 12,
   "id": "1fedd914",
   "metadata": {},
   "outputs": [],
   "source": [
    "w_rect.setAnnotations([{'id': '0.oe3gp9ab1tj',\n",
    "  'geometry': {'vertices': [0.36796875,\n",
    "    0.21666666666666667,\n",
    "    0.509375,\n",
    "    0.4013888888888889],\n",
    "   'type': 'rectangle'},\n",
    "  'category': 'traffic sign',\n",
    "  'options': {}},\n",
    " {'id': '0.p78qnvymhch',\n",
    "  'geometry': {'vertices': [0.553125,\n",
    "    0.22916666666666666,\n",
    "    0.69453125,\n",
    "    0.40694444444444444],\n",
    "   'type': 'rectangle'},\n",
    "  'category': 'airplane',\n",
    "  'options': {}},\n",
    " {'id': '0.4t9erth91t',\n",
    "  'geometry': {'vertices': [0.5140625, 0.4111111111111111, 0.5484375, 0.625],\n",
    "   'type': 'rectangle'},\n",
    "  'category': 'traffic sign',\n",
    "  'options': {}}])"
   ]
  },
  {
   "cell_type": "markdown",
   "id": "565762bd",
   "metadata": {},
   "source": [
    "### Saving Annotations\n",
    "\n",
    "The annotations can be directly saved to disk in json format"
   ]
  },
  {
   "cell_type": "code",
   "execution_count": 11,
   "id": "9d55a75a",
   "metadata": {},
   "outputs": [],
   "source": [
    "w_rect.save(\"annotations_shape_cars_modified.json\")"
   ]
  },
  {
   "cell_type": "markdown",
   "id": "519a10a2",
   "metadata": {},
   "source": [
    "Then the annotations can be loaded directly from files and set in pixano\n",
    "\n",
    "Be Careful to first display the widget before setting annotations"
   ]
  },
  {
   "cell_type": "code",
   "execution_count": 13,
   "id": "e2e705a5",
   "metadata": {
    "scrolled": false
   },
   "outputs": [
    {
     "data": {
      "application/vnd.jupyter.widget-view+json": {
       "model_id": "f1ab65a5cf45451b98c8c4d444f05c8e",
       "version_major": 2,
       "version_minor": 0
      },
      "text/plain": [
       "Pixano(value=None, element='pxn-rectangle', image='/9j/4AAQSkZJRgABAQAAAQABAAD/2wCEAAoHBwgHBgoICAgLCgoLDhgQDg0…"
      ]
     },
     "metadata": {},
     "output_type": "display_data"
    }
   ],
   "source": [
    "\n",
    "w_rect2 = Pixano(element='pxn-rectangle',image='image.jpg',label_schema=my_schema_shape)\n",
    "\n",
    "with open(\"annotations_shape_cars.json\",\"r\") as f:\n",
    "    annotations=json.load(f)\n",
    "    \n",
    "## the widget MUST be display before setting the annotations\n",
    "display(w_rect2)\n",
    "\n",
    "w_rect2.setAnnotations(annotations)\n"
   ]
  },
  {
   "cell_type": "markdown",
   "id": "21920bed",
   "metadata": {},
   "source": [
    "-------\n",
    "\n",
    "## Segmentation task \n",
    "\n",
    "\n",
    "---"
   ]
  },
  {
   "cell_type": "code",
   "execution_count": 17,
   "id": "95d45de6",
   "metadata": {
    "scrolled": false
   },
   "outputs": [
    {
     "data": {
      "application/vnd.jupyter.widget-view+json": {
       "model_id": "c550f31897b94f2d9a6619cba0c2b25f",
       "version_major": 2,
       "version_minor": 0
      },
      "text/plain": [
       "Pixano(value=None, element='pxn-segmentation', image='iVBORw0KGgoAAAANSUhEUgAABkAAAAH0CAIAAADqknYdAAAgAElEQVR4…"
      ]
     },
     "metadata": {},
     "output_type": "display_data"
    }
   ],
   "source": [
    "import cv2\n",
    "img=cv2.imread(\"traffic.jpg\")\n",
    "w_seg = Pixano(element='pxn-segmentation',image=img,label_schema=my_schema_seg)\n",
    "w_seg"
   ]
  },
  {
   "cell_type": "markdown",
   "id": "3efc0cfc",
   "metadata": {},
   "source": [
    "### loading annotations"
   ]
  },
  {
   "cell_type": "code",
   "execution_count": 18,
   "id": "b6158bd6",
   "metadata": {},
   "outputs": [],
   "source": [
    "w_seg.load(\"annotations_segmentation.json\")"
   ]
  },
  {
   "cell_type": "markdown",
   "id": "a5478175",
   "metadata": {},
   "source": [
    "### Saving annotations"
   ]
  },
  {
   "cell_type": "code",
   "execution_count": 37,
   "id": "e718a456",
   "metadata": {},
   "outputs": [],
   "source": [
    "w_seg.save(\"annotations_segmentation.json\")"
   ]
  },
  {
   "cell_type": "markdown",
   "id": "10f31593",
   "metadata": {},
   "source": [
    "### Getting segmentation informations\n",
    "\n",
    "Return the list of annoted categories with their id ([indice_instance_1,indice_instance_2,class idx])"
   ]
  },
  {
   "cell_type": "code",
   "execution_count": 9,
   "id": "bc1a139c",
   "metadata": {
    "scrolled": false
   },
   "outputs": [
    {
     "data": {
      "text/plain": [
       "[{'category': 'car', 'options': {}, 'id': '[1,0,3]'},\n",
       " {'category': 'bicycle', 'options': {}, 'id': '[2,0,2]'}]"
      ]
     },
     "execution_count": 9,
     "metadata": {},
     "output_type": "execute_result"
    }
   ],
   "source": [
    "w_seg.getSegmentationInfos()"
   ]
  },
  {
   "cell_type": "markdown",
   "id": "10312b46",
   "metadata": {},
   "source": [
    "### Getting segmentations mask\n",
    "\n",
    "\n",
    "\n",
    "Segmentation annotations are returned as a mask in ndarray format using the getMask() method."
   ]
  },
  {
   "cell_type": "code",
   "execution_count": 19,
   "id": "bb2d829e",
   "metadata": {},
   "outputs": [
    {
     "name": "stdout",
     "output_type": "stream",
     "text": [
      "Mask shape (500, 1600, 4)\n",
      "Mask unique values : [0 2 3]\n"
     ]
    },
    {
     "data": {
      "image/png": "[encoded data removed]",
      "text/plain": [
       "<PIL.Image.Image image mode=L size=1600x500 at 0x7FB67CE0FFD0>"
      ]
     },
     "execution_count": 19,
     "metadata": {},
     "output_type": "execute_result"
    }
   ],
   "source": [
    "\n",
    "im=w_seg.getMask()\n",
    "\n",
    "# for each pixel we got 4 values : [idx, indice_instance_1, indice_instance_2, 255]\n",
    "print(\"Mask shape\",im.shape)\n",
    "print(\"Mask unique values :\",np.unique(im[:,:,0]))\n",
    "\n",
    "pImage.fromarray(im[:,:,0]*20)"
   ]
  },
  {
   "cell_type": "markdown",
   "id": "c94ec30d",
   "metadata": {},
   "source": [
    "### Segmentation mask modification \n",
    "\n",
    "Here we change the wrong category (bicycle:2) of an object to the correct one (car:3) "
   ]
  },
  {
   "cell_type": "code",
   "execution_count": 17,
   "id": "f5290ae2",
   "metadata": {},
   "outputs": [
    {
     "name": "stdout",
     "output_type": "stream",
     "text": [
      "Mask unique values : [0 3]\n"
     ]
    },
    {
     "data": {
      "image/png": "[encoded data removed]",
      "text/plain": [
       "<PIL.Image.Image image mode=L size=1600x500 at 0x7F981ADCBFD0>"
      ]
     },
     "execution_count": 17,
     "metadata": {},
     "output_type": "execute_result"
    }
   ],
   "source": [
    "im2=np.copy(im)\n",
    "im_idx=im2[:,:,0]\n",
    "# The mask values and segmentation informations must be modified accordingly\n",
    "im_idx[im_idx==2]=3\n",
    "w_seg.setMask(im2,[{'category': 'car', 'options': {}, 'id': '[1,0,3]'},{'category': 'car', 'options': {}, 'id': '[2,0,3]'}])\n",
    "\n",
    "print(\"Mask unique values :\",np.unique(im2[:,:,0]))\n",
    "\n",
    "pImage.fromarray(im2[:,:,0]*20)\n"
   ]
  },
  {
   "cell_type": "markdown",
   "id": "a0be2463",
   "metadata": {},
   "source": [
    "### Modification verification"
   ]
  },
  {
   "cell_type": "code",
   "execution_count": 18,
   "id": "dad4f6c4",
   "metadata": {},
   "outputs": [
    {
     "name": "stdout",
     "output_type": "stream",
     "text": [
      "[{'category': 'car', 'options': {}, 'id': '[1,0,3]'}, {'category': 'car', 'options': {}, 'id': '[2,0,3]'}]\n",
      "Mask shape: (500, 1600, 4)\n",
      "Mask unique values : [0 3]\n"
     ]
    },
    {
     "data": {
      "image/png": "[encoded data removed]",
      "text/plain": [
       "<PIL.Image.Image image mode=L size=1600x500 at 0x7F981ADCBF70>"
      ]
     },
     "execution_count": 18,
     "metadata": {},
     "output_type": "execute_result"
    }
   ],
   "source": [
    "print(w_seg.getSegmentationInfos())\n",
    "\n",
    "im_verif=w_seg.getMask()\n",
    "\n",
    "# for each pixel we got 4 values : [idx, indice_instance_1, indice_instance_2, 255]\n",
    "print(\"Mask shape:\",im_verif.shape)\n",
    "print(\"Mask unique values :\",np.unique(im_verif[:,:,0]))\n",
    "\n",
    "pImage.fromarray(im_verif[:,:,0]*20)"
   ]
  },
  {
   "cell_type": "markdown",
   "id": "e5d396da",
   "metadata": {},
   "source": [
    "# Integration example\n",
    "\n",
    "The following example shows how to observe changes on ```annotations``` and ```selectedIds```  and call functions displaying the list of annotations and selected items.\n",
    "\n",
    "Create somes annotations and  select them to see changes displayed below the element."
   ]
  },
  {
   "cell_type": "code",
   "execution_count": 22,
   "id": "b42f443d",
   "metadata": {
    "scrolled": false
   },
   "outputs": [
    {
     "data": {
      "application/vnd.jupyter.widget-view+json": {
       "model_id": "b00b6f61e7044fbe90b7368f28cafe56",
       "version_major": 2,
       "version_minor": 0
      },
      "text/plain": [
       "VBox(children=(Pixano(value=None, element='pxn-smart-segmentation', image='/9j/4AAQSkZJRgABAQEASABIAAD//gAMQXB…"
      ]
     },
     "metadata": {},
     "output_type": "display_data"
    }
   ],
   "source": [
    "from ipywidgets import Label,VBox,Output\n",
    "from IPython.display import clear_output\n",
    "\n",
    "mode=\"segmentation\"\n",
    "\n",
    "if mode==\"segmentation\":\n",
    "    w_pixano = Pixano(element='pxn-smart-segmentation',image='/media/nallezard/My Passport1/Sofia_dataset/data/images/OA 13_NDOC14922_document 14922.JPG',label_schema=my_schema_seg)\n",
    "else:\n",
    "    w_pixano = Pixano(element='pxn-smart-rectangle',image='image.jpg',label_schema=my_schema_shape)\n",
    "\n",
    "    \n",
    "out=Output()\n",
    "out2=Output()\n",
    "    \n",
    "def on_shapes_change(change):\n",
    "    with out:\n",
    "        clear_output(wait=True)\n",
    "        if  \"new\" in change:\n",
    "            print(\"Elements list :\")\n",
    "            annotations=change['new']\n",
    "            for s in annotations:\n",
    "                category=s['category']\n",
    "                vertices=s[\"geometry\"][\"vertices\"] \n",
    "                vertices_str=\",\".join(list(map(lambda x:\"{:.2f}\".format(x),vertices)))\n",
    "                print(\"ID: \"+s['id']+ \", Category : \"+category+\", Vertices :\"+vertices_str )    \n",
    "        else:\n",
    "            selected.value=\"Shape selected : None\"\n",
    "            \n",
    "def on_select_change(change):\n",
    "    with out2:\n",
    "        clear_output(wait=True)\n",
    "        if \"new\" in change:\n",
    "            print(\"Element selected :\",change['new'])\n",
    "            \n",
    "if mode==\"shape\":      \n",
    "    w_pixano.observe(on_shapes_change, names='annotations')\n",
    "    \n",
    "w_pixano.observe(on_select_change, names='selectedIds')\n",
    "\n",
    "VBox([w_pixano,out,out2])"
   ]
  },
  {
   "cell_type": "code",
   "execution_count": 20,
   "id": "00edd363",
   "metadata": {},
   "outputs": [
    {
     "name": "stdout",
     "output_type": "stream",
     "text": [
      "[{'category': 'person', 'options': {}, 'id': '[1,0,1]'}]\n",
      "Mask shape (720, 1280, 4)\n",
      "Mask unique values : [0 1]\n"
     ]
    },
    {
     "data": {
      "image/png": "[encoded data removed]",
      "text/plain": [
       "<PIL.Image.Image image mode=L size=1280x720 at 0x7F1411204E20>"
      ]
     },
     "metadata": {},
     "output_type": "display_data"
    }
   ],
   "source": [
    "print(w_pixano.getSegmentationInfos())\n",
    "mask=w_pixano.getMask()\n",
    "if mask is not None:\n",
    "    # for each pixel we got 4 values : [idx, indice_instance_1, indice_instance_2, 255]\n",
    "    print(\"Mask shape\",mask.shape)\n",
    "    print(\"Mask unique values :\",np.unique(mask[:,:,0]))\n",
    "\n",
    "    display(pImage.fromarray(mask[:,:,0]*20))"
   ]
  }
 ],
 "metadata": {
  "hide_input": false,
  "kernelspec": {
   "display_name": "ipyemail",
   "language": "python",
   "name": "ipyemail"
  },
  "language_info": {
   "codemirror_mode": {
    "name": "ipython",
    "version": 3
   },
   "file_extension": ".py",
   "mimetype": "text/x-python",
   "name": "python",
   "nbconvert_exporter": "python",
   "pygments_lexer": "ipython3",
   "version": "3.10.2"
  },
  "toc": {
   "base_numbering": 1,
   "nav_menu": {},
   "number_sections": false,
   "sideBar": true,
   "skip_h1_title": false,
   "title_cell": "Table of Contents",
   "title_sidebar": "Contents",
   "toc_cell": false,
   "toc_position": {},
   "toc_section_display": true,
   "toc_window_display": false
  },
  "varInspector": {
   "cols": {
    "lenName": 16,
    "lenType": 16,
    "lenVar": 40
   },
   "kernels_config": {
    "python": {
     "delete_cmd_postfix": "",
     "delete_cmd_prefix": "del ",
     "library": "var_list.py",
     "varRefreshCmd": "print(var_dic_list())"
    },
    "r": {
     "delete_cmd_postfix": ") ",
     "delete_cmd_prefix": "rm(",
     "library": "var_list.r",
     "varRefreshCmd": "cat(var_dic_list()) "
    }
   },
   "types_to_exclude": [
    "module",
    "function",
    "builtin_function_or_method",
    "instance",
    "_Feature"
   ],
   "window_display": false
  }
 },
 "nbformat": 4,
 "nbformat_minor": 5
}
