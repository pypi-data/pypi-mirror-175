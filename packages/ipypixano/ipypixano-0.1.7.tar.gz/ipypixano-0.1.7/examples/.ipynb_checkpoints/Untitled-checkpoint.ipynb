{
 "cells": [
  {
   "cell_type": "code",
   "execution_count": 9,
   "id": "076669b8",
   "metadata": {},
   "outputs": [
    {
     "data": {
      "application/javascript": [
       "\n",
       "\n",
       "require.undef('polaroid');\n",
       "\n",
       "\n",
       "\n",
       "define('polaroid', [\"@jupyter-widgets/base\"], function(widgets) {\n",
       "\n",
       "    var PolaroidView = widgets.DOMWidgetView.extend({\n",
       "\n",
       "        // Render the view.\n",
       "        render: function() {\n",
       "           \n",
       "            this.email_input = document.createElement('input');\n",
       "            this.email_input.type = 'email';\n",
       "            this.email_input.value = this.model.get('value');\n",
       "            this.email_input.disabled = this.model.get('disabled');\n",
       "\n",
       "           \n",
       "            // Python -> JavaScript update\n",
       "            this.model.on('change:value', this.value_changed, this);\n",
       "            this.model.on('change:disabled', this.disabled_changed, this);\n",
       "\n",
       "            // JavaScript -> Python update\n",
       "            this.email_input.onchange = this.input_changed.bind(this);\n",
       "        },\n",
       "\n",
       "        value_changed: function() {\n",
       "            this.email_input.value = this.model.get('value');\n",
       "        },\n",
       "\n",
       "        disabled_changed: function() {\n",
       "            this.email_input.disabled = this.model.get('disabled');\n",
       "        },\n",
       "\n",
       "        input_changed: function() {\n",
       "            this.model.set('value', this.email_input.value);\n",
       "            this.model.save_changes();\n",
       "        },\n",
       "    });\n",
       "\n",
       "    return {\n",
       "        EmailView: EmailView\n",
       "    };\n",
       "});\n"
      ],
      "text/plain": [
       "<IPython.core.display.Javascript object>"
      ]
     },
     "metadata": {},
     "output_type": "display_data"
    }
   ],
   "source": [
    "%%javascript\n",
    "\n",
    "\n",
    "require.undef('polaroid');\n",
    "\n",
    "\n",
    "\n",
    "define('polaroid', [\"@jupyter-widgets/base\"], function(widgets) {\n",
    "\n",
    "    var PolaroidView = widgets.DOMWidgetView.extend({\n",
    "\n",
    "        // Render the view.\n",
    "        render: function() {\n",
    "           \n",
    "            this.email_input = document.createElement('input');\n",
    "            this.email_input.type = 'email';\n",
    "            this.email_input.value = this.model.get('value');\n",
    "            this.email_input.disabled = this.model.get('disabled');\n",
    "\n",
    "           \n",
    "            // Python -> JavaScript update\n",
    "            this.model.on('change:value', this.value_changed, this);\n",
    "            this.model.on('change:disabled', this.disabled_changed, this);\n",
    "\n",
    "            // JavaScript -> Python update\n",
    "            this.email_input.onchange = this.input_changed.bind(this);\n",
    "        },\n",
    "\n",
    "        value_changed: function() {\n",
    "            this.email_input.value = this.model.get('value');\n",
    "        },\n",
    "\n",
    "        disabled_changed: function() {\n",
    "            this.email_input.disabled = this.model.get('disabled');\n",
    "        },\n",
    "\n",
    "        input_changed: function() {\n",
    "            this.model.set('value', this.email_input.value);\n",
    "            this.model.save_changes();\n",
    "        },\n",
    "    });\n",
    "\n",
    "    return {\n",
    "        PolaroidView: PolaroidView\n",
    "    };\n",
    "});"
   ]
  },
  {
   "cell_type": "code",
   "execution_count": 10,
   "id": "06667b33",
   "metadata": {},
   "outputs": [],
   "source": [
    "from ipywidgets import DOMWidget, register\n",
    "from traitlets import Unicode, Bool, validate, TraitError\n",
    "\n",
    "\n",
    "@register\n",
    "class Polaroid(DOMWidget):\n",
    "    _view_name = Unicode('PolaroidView').tag(sync=True)\n",
    "    _view_module = Unicode('Polaroid').tag(sync=True)\n",
    "    _view_module_version = Unicode('0.1.0').tag(sync=True)\n",
    "\n",
    "    # Attributes\n",
    "    value = Unicode('example@example.com', help=\"The Polaroid value.\").tag(sync=True)\n",
    "    disabled = Bool(False, help=\"Enable or disable user changes.\").tag(sync=True)\n",
    "\n",
    "    # Basic validator for the Polaroid value\n",
    "    @validate('value')\n",
    "    def _valid_value(self, proposal):\n",
    "        if proposal['value'].count(\"@\") != 1:\n",
    "            raise TraitError('Invalid Polaroid value: it must contain an \"@\" character')\n",
    "        if proposal['value'].count(\".\") == 0:\n",
    "            raise TraitError('Invalid Polaroid value: it must contain at least one \".\" character')\n",
    "        return proposal['value']"
   ]
  },
  {
   "cell_type": "code",
   "execution_count": 11,
   "id": "4fe56154",
   "metadata": {},
   "outputs": [
    {
     "data": {
      "application/vnd.jupyter.widget-view+json": {
       "model_id": "4558a607ed554288a51b30a894b2d861",
       "version_major": 2,
       "version_minor": 0
      },
      "text/plain": [
       "Polaroid(value='john.doe@domain.com')"
      ]
     },
     "metadata": {},
     "output_type": "display_data"
    }
   ],
   "source": [
    "polaroid = Polaroid(value='john.doe@domain.com', disabled=False)\n",
    "polaroid"
   ]
  },
  {
   "cell_type": "code",
   "execution_count": null,
   "id": "4e5565b3",
   "metadata": {},
   "outputs": [],
   "source": []
  }
 ],
 "metadata": {
  "hide_input": false,
  "kernelspec": {
   "display_name": "ipyemail",
   "language": "python",
   "name": "ipyemail"
  },
  "language_info": {
   "codemirror_mode": {
    "name": "ipython",
    "version": 3
   },
   "file_extension": ".py",
   "mimetype": "text/x-python",
   "name": "python",
   "nbconvert_exporter": "python",
   "pygments_lexer": "ipython3",
   "version": "3.10.2"
  },
  "toc": {
   "base_numbering": 1,
   "nav_menu": {},
   "number_sections": true,
   "sideBar": true,
   "skip_h1_title": false,
   "title_cell": "Table of Contents",
   "title_sidebar": "Contents",
   "toc_cell": false,
   "toc_position": {},
   "toc_section_display": true,
   "toc_window_display": false
  },
  "varInspector": {
   "cols": {
    "lenName": 16,
    "lenType": 16,
    "lenVar": 40
   },
   "kernels_config": {
    "python": {
     "delete_cmd_postfix": "",
     "delete_cmd_prefix": "del ",
     "library": "var_list.py",
     "varRefreshCmd": "print(var_dic_list())"
    },
    "r": {
     "delete_cmd_postfix": ") ",
     "delete_cmd_prefix": "rm(",
     "library": "var_list.r",
     "varRefreshCmd": "cat(var_dic_list()) "
    }
   },
   "types_to_exclude": [
    "module",
    "function",
    "builtin_function_or_method",
    "instance",
    "_Feature"
   ],
   "window_display": false
  }
 },
 "nbformat": 4,
 "nbformat_minor": 5
}
