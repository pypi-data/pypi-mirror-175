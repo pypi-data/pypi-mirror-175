{
 "cells": [
  {
   "cell_type": "raw",
   "metadata": {},
   "source": [
    "# ASSIGNMENT CONFIG\n",
    "files:\n",
    "    - defaults.csv\n",
    "tests:\n",
    "    ok_format: false"
   ]
  },
  {
   "cell_type": "markdown",
   "metadata": {
    "tags": [
     "ignore"
    ]
   },
   "source": [
    "<table style=\"width: 100%;\">\n",
    "    <tr style=\"background-color: transparent;\"><td>\n",
    "        <img src=\"https://data-88e.github.io/assets/images/blue_text.png\" width=\"250px\" style=\"margin-left: 0;\" />\n",
    "    </td><td>\n",
    "        <p style=\"text-align: right; font-size: 10pt;\"><strong>Economic Models</strong>, Spring 2020<br>\n",
    "            Dr. Eric Van Dusen<br>\n",
    "            Notebook by Chris Pyles</p></td></tr>\n",
    "</table>"
   ]
  },
  {
   "cell_type": "markdown",
   "metadata": {},
   "source": [
    "# Project 3: Econometrics and Data Science"
   ]
  },
  {
   "cell_type": "markdown",
   "metadata": {
    "tags": [
     "ignore"
    ]
   },
   "source": [
    "This project focuses on the application of the data science techniques from lecture. You will practice single variable ordinary least squares regression in the Data 8 style, go through a guided introduction to multivariate OLS using the package `statsmodels`, and finally create your own multivariate OLS model.\n",
    "\n",
    "After this project, you should be able to\n",
    "\n",
    "1. Write and apply the necesssary functions to perform single variable OLS\n",
    "2. Use the `statsmodels` package to create multivariate OLS models\n",
    "3. Understand how to quantitatively evaluate models using the root-mean-squared error\n",
    "4. Look for and use relationships between variables to select features for regression"
   ]
  },
  {
   "cell_type": "code",
   "execution_count": 3,
   "metadata": {},
   "outputs": [],
   "source": [
    "import pandas as pd\n",
    "import matplotlib.pyplot as plt\n",
    "import numpy as np\n",
    "import statsmodels.api as sm\n",
    "import warnings\n",
    "\n",
    "from ipywidgets import interact, Dropdown, IntSlider\n",
    "\n",
    "warnings.simplefilter(action='ignore')\n",
    "%matplotlib inline\n",
    "plt.style.use('seaborn-muted')\n",
    "plt.rcParams[\"figure.figsize\"] = [10,7]"
   ]
  },
  {
   "cell_type": "markdown",
   "metadata": {
    "tags": [
     "ignore"
    ]
   },
   "source": [
    "In this project, we will be working with data on credit card defaults and billing. The data covers April to September 2005, with one row for each cardholder. It has the following columns:\n",
    "\n",
    "| Column | Description |\n",
    "|-----|-----|\n",
    "| `credit` | Total amount of credit |\n",
    "| `sex` | Cardholder sex |\n",
    "| `education` | Cardholder education level |\n",
    "| `martial_status` | Cardholder marital status |\n",
    "| `age` | Cardholder age |\n",
    "| `bill_{month}05` | Bill amount for specific month |\n",
    "| `paid_{month}05` | Amount paid in specified month |\n",
    "| `default` | Whether the cardholder defaulted |\n",
    "\n",
    "In the cell below, we load the dataset."
   ]
  },
  {
   "cell_type": "code",
   "execution_count": 4,
   "metadata": {},
   "outputs": [
    {
     "data": {
      "text/html": [
       "<div>\n",
       "<style scoped>\n",
       "    .dataframe tbody tr th:only-of-type {\n",
       "        vertical-align: middle;\n",
       "    }\n",
       "\n",
       "    .dataframe tbody tr th {\n",
       "        vertical-align: top;\n",
       "    }\n",
       "\n",
       "    .dataframe thead th {\n",
       "        text-align: right;\n",
       "    }\n",
       "</style>\n",
       "<table border=\"1\" class=\"dataframe\">\n",
       "  <thead>\n",
       "    <tr style=\"text-align: right;\">\n",
       "      <th></th>\n",
       "      <th>credit</th>\n",
       "      <th>sex</th>\n",
       "      <th>education</th>\n",
       "      <th>marital_status</th>\n",
       "      <th>age</th>\n",
       "      <th>bill_sep05</th>\n",
       "      <th>bill_aug05</th>\n",
       "      <th>bill_jul05</th>\n",
       "      <th>bill_jun05</th>\n",
       "      <th>bill_may05</th>\n",
       "      <th>bill_apr05</th>\n",
       "      <th>paid_sep05</th>\n",
       "      <th>paid_aug05</th>\n",
       "      <th>paid_jul05</th>\n",
       "      <th>paid_jun05</th>\n",
       "      <th>paid_may05</th>\n",
       "      <th>paid_apr05</th>\n",
       "      <th>default</th>\n",
       "    </tr>\n",
       "  </thead>\n",
       "  <tbody>\n",
       "    <tr>\n",
       "      <th>0</th>\n",
       "      <td>20000</td>\n",
       "      <td>female</td>\n",
       "      <td>undergraduate</td>\n",
       "      <td>married</td>\n",
       "      <td>24</td>\n",
       "      <td>3913</td>\n",
       "      <td>3102</td>\n",
       "      <td>689</td>\n",
       "      <td>0</td>\n",
       "      <td>0</td>\n",
       "      <td>0</td>\n",
       "      <td>0</td>\n",
       "      <td>689</td>\n",
       "      <td>0</td>\n",
       "      <td>0</td>\n",
       "      <td>0</td>\n",
       "      <td>0</td>\n",
       "      <td>1</td>\n",
       "    </tr>\n",
       "    <tr>\n",
       "      <th>1</th>\n",
       "      <td>120000</td>\n",
       "      <td>female</td>\n",
       "      <td>undergraduate</td>\n",
       "      <td>single</td>\n",
       "      <td>26</td>\n",
       "      <td>2682</td>\n",
       "      <td>1725</td>\n",
       "      <td>2682</td>\n",
       "      <td>3272</td>\n",
       "      <td>3455</td>\n",
       "      <td>3261</td>\n",
       "      <td>0</td>\n",
       "      <td>1000</td>\n",
       "      <td>1000</td>\n",
       "      <td>1000</td>\n",
       "      <td>0</td>\n",
       "      <td>2000</td>\n",
       "      <td>1</td>\n",
       "    </tr>\n",
       "    <tr>\n",
       "      <th>2</th>\n",
       "      <td>90000</td>\n",
       "      <td>female</td>\n",
       "      <td>undergraduate</td>\n",
       "      <td>single</td>\n",
       "      <td>34</td>\n",
       "      <td>29239</td>\n",
       "      <td>14027</td>\n",
       "      <td>13559</td>\n",
       "      <td>14331</td>\n",
       "      <td>14948</td>\n",
       "      <td>15549</td>\n",
       "      <td>1518</td>\n",
       "      <td>1500</td>\n",
       "      <td>1000</td>\n",
       "      <td>1000</td>\n",
       "      <td>1000</td>\n",
       "      <td>5000</td>\n",
       "      <td>0</td>\n",
       "    </tr>\n",
       "    <tr>\n",
       "      <th>3</th>\n",
       "      <td>50000</td>\n",
       "      <td>female</td>\n",
       "      <td>undergraduate</td>\n",
       "      <td>married</td>\n",
       "      <td>37</td>\n",
       "      <td>46990</td>\n",
       "      <td>48233</td>\n",
       "      <td>49291</td>\n",
       "      <td>28314</td>\n",
       "      <td>28959</td>\n",
       "      <td>29547</td>\n",
       "      <td>2000</td>\n",
       "      <td>2019</td>\n",
       "      <td>1200</td>\n",
       "      <td>1100</td>\n",
       "      <td>1069</td>\n",
       "      <td>1000</td>\n",
       "      <td>0</td>\n",
       "    </tr>\n",
       "    <tr>\n",
       "      <th>4</th>\n",
       "      <td>50000</td>\n",
       "      <td>male</td>\n",
       "      <td>undergraduate</td>\n",
       "      <td>married</td>\n",
       "      <td>57</td>\n",
       "      <td>8617</td>\n",
       "      <td>5670</td>\n",
       "      <td>35835</td>\n",
       "      <td>20940</td>\n",
       "      <td>19146</td>\n",
       "      <td>19131</td>\n",
       "      <td>2000</td>\n",
       "      <td>36681</td>\n",
       "      <td>10000</td>\n",
       "      <td>9000</td>\n",
       "      <td>689</td>\n",
       "      <td>679</td>\n",
       "      <td>0</td>\n",
       "    </tr>\n",
       "    <tr>\n",
       "      <th>...</th>\n",
       "      <td>...</td>\n",
       "      <td>...</td>\n",
       "      <td>...</td>\n",
       "      <td>...</td>\n",
       "      <td>...</td>\n",
       "      <td>...</td>\n",
       "      <td>...</td>\n",
       "      <td>...</td>\n",
       "      <td>...</td>\n",
       "      <td>...</td>\n",
       "      <td>...</td>\n",
       "      <td>...</td>\n",
       "      <td>...</td>\n",
       "      <td>...</td>\n",
       "      <td>...</td>\n",
       "      <td>...</td>\n",
       "      <td>...</td>\n",
       "      <td>...</td>\n",
       "    </tr>\n",
       "    <tr>\n",
       "      <th>29995</th>\n",
       "      <td>220000</td>\n",
       "      <td>male</td>\n",
       "      <td>diploma</td>\n",
       "      <td>married</td>\n",
       "      <td>39</td>\n",
       "      <td>188948</td>\n",
       "      <td>192815</td>\n",
       "      <td>208365</td>\n",
       "      <td>88004</td>\n",
       "      <td>31237</td>\n",
       "      <td>15980</td>\n",
       "      <td>8500</td>\n",
       "      <td>20000</td>\n",
       "      <td>5003</td>\n",
       "      <td>3047</td>\n",
       "      <td>5000</td>\n",
       "      <td>1000</td>\n",
       "      <td>0</td>\n",
       "    </tr>\n",
       "    <tr>\n",
       "      <th>29996</th>\n",
       "      <td>150000</td>\n",
       "      <td>male</td>\n",
       "      <td>diploma</td>\n",
       "      <td>single</td>\n",
       "      <td>43</td>\n",
       "      <td>1683</td>\n",
       "      <td>1828</td>\n",
       "      <td>3502</td>\n",
       "      <td>8979</td>\n",
       "      <td>5190</td>\n",
       "      <td>0</td>\n",
       "      <td>1837</td>\n",
       "      <td>3526</td>\n",
       "      <td>8998</td>\n",
       "      <td>129</td>\n",
       "      <td>0</td>\n",
       "      <td>0</td>\n",
       "      <td>0</td>\n",
       "    </tr>\n",
       "    <tr>\n",
       "      <th>29997</th>\n",
       "      <td>30000</td>\n",
       "      <td>male</td>\n",
       "      <td>undergraduate</td>\n",
       "      <td>single</td>\n",
       "      <td>37</td>\n",
       "      <td>3565</td>\n",
       "      <td>3356</td>\n",
       "      <td>2758</td>\n",
       "      <td>20878</td>\n",
       "      <td>20582</td>\n",
       "      <td>19357</td>\n",
       "      <td>0</td>\n",
       "      <td>0</td>\n",
       "      <td>22000</td>\n",
       "      <td>4200</td>\n",
       "      <td>2000</td>\n",
       "      <td>3100</td>\n",
       "      <td>1</td>\n",
       "    </tr>\n",
       "    <tr>\n",
       "      <th>29998</th>\n",
       "      <td>80000</td>\n",
       "      <td>male</td>\n",
       "      <td>diploma</td>\n",
       "      <td>married</td>\n",
       "      <td>41</td>\n",
       "      <td>-1645</td>\n",
       "      <td>78379</td>\n",
       "      <td>76304</td>\n",
       "      <td>52774</td>\n",
       "      <td>11855</td>\n",
       "      <td>48944</td>\n",
       "      <td>85900</td>\n",
       "      <td>3409</td>\n",
       "      <td>1178</td>\n",
       "      <td>1926</td>\n",
       "      <td>52964</td>\n",
       "      <td>1804</td>\n",
       "      <td>1</td>\n",
       "    </tr>\n",
       "    <tr>\n",
       "      <th>29999</th>\n",
       "      <td>50000</td>\n",
       "      <td>male</td>\n",
       "      <td>undergraduate</td>\n",
       "      <td>married</td>\n",
       "      <td>46</td>\n",
       "      <td>47929</td>\n",
       "      <td>48905</td>\n",
       "      <td>49764</td>\n",
       "      <td>36535</td>\n",
       "      <td>32428</td>\n",
       "      <td>15313</td>\n",
       "      <td>2078</td>\n",
       "      <td>1800</td>\n",
       "      <td>1430</td>\n",
       "      <td>1000</td>\n",
       "      <td>1000</td>\n",
       "      <td>1000</td>\n",
       "      <td>1</td>\n",
       "    </tr>\n",
       "  </tbody>\n",
       "</table>\n",
       "<p>30000 rows × 18 columns</p>\n",
       "</div>"
      ],
      "text/plain": [
       "       credit     sex      education marital_status  age  bill_sep05  \\\n",
       "0       20000  female  undergraduate        married   24        3913   \n",
       "1      120000  female  undergraduate         single   26        2682   \n",
       "2       90000  female  undergraduate         single   34       29239   \n",
       "3       50000  female  undergraduate        married   37       46990   \n",
       "4       50000    male  undergraduate        married   57        8617   \n",
       "...       ...     ...            ...            ...  ...         ...   \n",
       "29995  220000    male        diploma        married   39      188948   \n",
       "29996  150000    male        diploma         single   43        1683   \n",
       "29997   30000    male  undergraduate         single   37        3565   \n",
       "29998   80000    male        diploma        married   41       -1645   \n",
       "29999   50000    male  undergraduate        married   46       47929   \n",
       "\n",
       "       bill_aug05  bill_jul05  bill_jun05  bill_may05  bill_apr05  paid_sep05  \\\n",
       "0            3102         689           0           0           0           0   \n",
       "1            1725        2682        3272        3455        3261           0   \n",
       "2           14027       13559       14331       14948       15549        1518   \n",
       "3           48233       49291       28314       28959       29547        2000   \n",
       "4            5670       35835       20940       19146       19131        2000   \n",
       "...           ...         ...         ...         ...         ...         ...   \n",
       "29995      192815      208365       88004       31237       15980        8500   \n",
       "29996        1828        3502        8979        5190           0        1837   \n",
       "29997        3356        2758       20878       20582       19357           0   \n",
       "29998       78379       76304       52774       11855       48944       85900   \n",
       "29999       48905       49764       36535       32428       15313        2078   \n",
       "\n",
       "       paid_aug05  paid_jul05  paid_jun05  paid_may05  paid_apr05  default  \n",
       "0             689           0           0           0           0        1  \n",
       "1            1000        1000        1000           0        2000        1  \n",
       "2            1500        1000        1000        1000        5000        0  \n",
       "3            2019        1200        1100        1069        1000        0  \n",
       "4           36681       10000        9000         689         679        0  \n",
       "...           ...         ...         ...         ...         ...      ...  \n",
       "29995       20000        5003        3047        5000        1000        0  \n",
       "29996        3526        8998         129           0           0        0  \n",
       "29997           0       22000        4200        2000        3100        1  \n",
       "29998        3409        1178        1926       52964        1804        1  \n",
       "29999        1800        1430        1000        1000        1000        1  \n",
       "\n",
       "[30000 rows x 18 columns]"
      ]
     },
     "execution_count": 4,
     "metadata": {},
     "output_type": "execute_result"
    }
   ],
   "source": [
    "defaults = pd.read_csv(\"defaults.csv\")\n",
    "defaults"
   ]
  },
  {
   "cell_type": "raw",
   "metadata": {},
   "source": [
    "# BEGIN QUESTION\n",
    "name: q0_1"
   ]
  },
  {
   "cell_type": "markdown",
   "metadata": {
    "tags": [
     "ignore"
    ]
   },
   "source": [
    "**Question 0.1:** Which of the columns in `defaults` would we need dummies for in order to use in an OLS model? Assign `q0_1` to an list of these column _labels_."
   ]
  },
  {
   "cell_type": "raw",
   "metadata": {},
   "source": [
    "# BEGIN SOLUTION"
   ]
  },
  {
   "cell_type": "code",
   "execution_count": 5,
   "metadata": {
    "tags": [
     "ignore"
    ]
   },
   "outputs": [
    {
     "data": {
      "text/plain": [
       "['sex', 'education', 'marital_status']"
      ]
     },
     "execution_count": 5,
     "metadata": {},
     "output_type": "execute_result"
    }
   ],
   "source": [
    "q0_1 = [\"sex\", \"education\", \"marital_status\"] # SOLUTION\n",
    "q0_1"
   ]
  },
  {
   "cell_type": "raw",
   "metadata": {},
   "source": [
    "# END SOLUTION"
   ]
  },
  {
   "cell_type": "raw",
   "metadata": {},
   "source": [
    "# BEGIN TESTS"
   ]
  },
  {
   "cell_type": "code",
   "execution_count": 6,
   "metadata": {},
   "outputs": [],
   "source": [
    "def test_q0_1(q0_1):\n",
    "    assert len(q0_1) in [3, 4]\n",
    "    assert \"sex\" in q0_1\n",
    "    assert \"education\" in q0_1\n",
    "    assert \"marital_status\" in q0_1\n",
    "\n",
    "test_q0_1(q0_1) # IGNORE"
   ]
  },
  {
   "cell_type": "raw",
   "metadata": {},
   "source": [
    "# END TESTS"
   ]
  },
  {
   "cell_type": "raw",
   "metadata": {},
   "source": [
    "# END QUESTION"
   ]
  },
  {
   "cell_type": "markdown",
   "metadata": {
    "tags": [
     "ignore"
    ]
   },
   "source": [
    "In order to use the columns you chose, we will need to create dummies for them. In lecture, we showed a function (defined in the imports cell) that will get dummies for a variable for you."
   ]
  },
  {
   "cell_type": "raw",
   "metadata": {},
   "source": [
    "# BEGIN QUESTION\n",
    "name: q0_2"
   ]
  },
  {
   "cell_type": "markdown",
   "metadata": {},
   "source": [
    "**Question 0.2:** Use `pd.get_dummies` to get dummies for the variables you listed in `q0_1`."
   ]
  },
  {
   "cell_type": "raw",
   "metadata": {},
   "source": [
    "# BEGIN SOLUTION"
   ]
  },
  {
   "cell_type": "code",
   "execution_count": 7,
   "metadata": {},
   "outputs": [],
   "source": [
    "defaults = pd.get_dummies(defaults, columns=q0_1) # SOLUTION"
   ]
  },
  {
   "cell_type": "raw",
   "metadata": {},
   "source": [
    "# END SOLUTION"
   ]
  },
  {
   "cell_type": "raw",
   "metadata": {},
   "source": [
    "# BEGIN TESTS"
   ]
  },
  {
   "cell_type": "code",
   "execution_count": 8,
   "metadata": {},
   "outputs": [],
   "source": [
    "def test_q0_2(defaults):\n",
    "    assert \"education\" not in defaults.columns\n",
    "    assert \"marital_status\" not in defaults.columns\n",
    "    assert \"sex_male\" in defaults.columns\n",
    "\n",
    "test_q0_2(defaults) # IGNORE"
   ]
  },
  {
   "cell_type": "raw",
   "metadata": {},
   "source": [
    "# END TESTS"
   ]
  },
  {
   "cell_type": "raw",
   "metadata": {},
   "source": [
    "# END QUESTION"
   ]
  },
  {
   "cell_type": "markdown",
   "metadata": {
    "tags": [
     "ignore"
    ]
   },
   "source": [
    "## Part 1: Single Variable OLS\n",
    "\n",
    "We'll start by doing some single variable linear regression, ala Data 8. To begin, recall that we can model $y$ based on $x$ using the form\n",
    "\n",
    "$$\\Large\n",
    "\\hat{y} = \\hat{\\beta}_0 + \\hat{\\beta}_1 x\n",
    "$$\n",
    "\n",
    "We can define the **correlation coefficient** of two values to be the mean of the product of their values in standard units."
   ]
  },
  {
   "cell_type": "raw",
   "metadata": {},
   "source": [
    "# BEGIN QUESTION\n",
    "name: q1_1"
   ]
  },
  {
   "cell_type": "markdown",
   "metadata": {},
   "source": [
    "**Question 1.1:** Complete the `corr` function below to compute the correlation coefficient of two arrays `x` and `y` based on the formula\n",
    "\n",
    "$$\\Large\n",
    "r = \\text{mean} \\left ( x_\\text{SU} \\cdot y_\\text{SU} \\right )\n",
    "$$\n",
    "\n",
    "_Hint:_ You may find the `su` function, which converts an array to standard units, helpful."
   ]
  },
  {
   "cell_type": "raw",
   "metadata": {},
   "source": [
    "# BEGIN SOLUTION"
   ]
  },
  {
   "cell_type": "code",
   "execution_count": 9,
   "metadata": {},
   "outputs": [],
   "source": [
    "def su(arr):\n",
    "    \"\"\"Converts array arr to standard units\"\"\"\n",
    "    return (arr - np.mean(arr)) / np.std(arr)\n",
    "\n",
    "def corr(x, y):\n",
    "    \"\"\"Calculates the correlation coefficient of two arrays\"\"\"\n",
    "    return np.mean(su(x) * su(y)) # SOLUTION"
   ]
  },
  {
   "cell_type": "raw",
   "metadata": {},
   "source": [
    "# END SOLUTION"
   ]
  },
  {
   "cell_type": "raw",
   "metadata": {},
   "source": [
    "# BEGIN TESTS"
   ]
  },
  {
   "cell_type": "code",
   "execution_count": 10,
   "metadata": {},
   "outputs": [],
   "source": [
    "def test_q1_1_1(np, corr):\n",
    "    np.random.seed(1234)\n",
    "    x2 = np.random.uniform(0, 10, 5)\n",
    "    y2 = np.random.uniform(0, 10, 5)\n",
    "    assert np.isclose(corr(x2, y2), 0.6410799722591175)\n",
    "\n",
    "test_q1_1_1(np, corr) # IGNORE"
   ]
  },
  {
   "cell_type": "code",
   "execution_count": 11,
   "metadata": {},
   "outputs": [],
   "source": [
    "\"\"\" # BEGIN TEST CONFIG\n",
    "points: 1\n",
    "hidden: true\n",
    "\"\"\" # END TEST CONFIG\n",
    "def test_q1_1_2(np, corr):\n",
    "    np.random.seed(2345)\n",
    "    x2 = np.random.uniform(0, 10, 5)\n",
    "    y2 = np.random.uniform(0, 10, 5)\n",
    "    assert np.isclose(corr(x2, y2), -0.4008555019904271)\n",
    "\n",
    "test_q1_1_2(np, corr) # IGNORE"
   ]
  },
  {
   "cell_type": "raw",
   "metadata": {},
   "source": [
    "# END TESTS"
   ]
  },
  {
   "cell_type": "raw",
   "metadata": {},
   "source": [
    "# END QUESTION"
   ]
  },
  {
   "cell_type": "markdown",
   "metadata": {
    "tags": [
     "ignore"
    ]
   },
   "source": [
    "From this $r$ value that we have calculated above, we can compute the slope $\\beta_1$ and intercept $\\beta_0$ of the best-fit line using the formulas below.\n",
    "\n",
    "$$\\Large\n",
    "\\beta_1 = r \\frac{\\hat{\\sigma}_y}{\\hat{\\sigma}_x}\n",
    "\\qquad \\text{ and } \\qquad\n",
    "\\beta_0 = \\hat{\\mu}_y - \\beta_1 \\cdot \\hat{\\mu}_x\n",
    "$$"
   ]
  },
  {
   "cell_type": "raw",
   "metadata": {},
   "source": [
    "# BEGIN QUESTION\n",
    "name: q1_2"
   ]
  },
  {
   "cell_type": "markdown",
   "metadata": {},
   "source": [
    "**Question 1.2:** Using your `corr` function, fill in the `slope` and `intercept` functions below which compute the values of $\\beta_1$ and $\\beta_0$ for the line of best fit that predicts `y` based on `x`. Your function should use vectorized arithmetic (i.e. no `for` loops).\n",
    "\n",
    "_Hint:_ You may find your `slope` function useful in `intercept`."
   ]
  },
  {
   "cell_type": "raw",
   "metadata": {},
   "source": [
    "# BEGIN SOLUTION"
   ]
  },
  {
   "cell_type": "code",
   "execution_count": 12,
   "metadata": {},
   "outputs": [],
   "source": [
    "def slope(x, y):\n",
    "    \"\"\"Computes the slope of the best-fit line of y based on x\"\"\"\n",
    "    return np.std(y) * corr(x, y) / np.std(x) # SOLUTION\n",
    "\n",
    "def intercept(x, y):\n",
    "    \"\"\"Computes the intercept of the best-fit line of y based on x\"\"\"\n",
    "    return np.mean(y) - slope(x, y) * np.mean(x) # SOLUTION"
   ]
  },
  {
   "cell_type": "raw",
   "metadata": {},
   "source": [
    "# END SOLUTION"
   ]
  },
  {
   "cell_type": "raw",
   "metadata": {},
   "source": [
    "# BEGIN TESTS"
   ]
  },
  {
   "cell_type": "code",
   "execution_count": 13,
   "metadata": {},
   "outputs": [],
   "source": [
    "def test_q1_2_1(np, slope):\n",
    "    np.random.seed(1234)\n",
    "    x2 = np.random.uniform(0, 10, 5)\n",
    "    y2 = np.random.uniform(0, 10, 5)\n",
    "    assert np.isclose(slope(x2, y2), 0.853965497371089)\n",
    "\n",
    "test_q1_2_1(np, slope) # IGNORE"
   ]
  },
  {
   "cell_type": "code",
   "execution_count": 14,
   "metadata": {},
   "outputs": [],
   "source": [
    "def test_q1_2_2(np, intercept):\n",
    "    np.random.seed(1234)\n",
    "    x2 = np.random.uniform(0, 10, 5)\n",
    "    y2 = np.random.uniform(0, 10, 5)\n",
    "    assert np.isclose(intercept(x2, y2), 1.5592892975597108)\n",
    "\n",
    "test_q1_2_2(np, intercept) # IGNORE"
   ]
  },
  {
   "cell_type": "code",
   "execution_count": 15,
   "metadata": {},
   "outputs": [],
   "source": [
    "\"\"\" # BEGIN TEST CONFIG\n",
    "points: 0.5\n",
    "hidden: true\n",
    "\"\"\" # END TEST CONFIG\n",
    "def test_q1_2_3(np, slope):\n",
    "    np.random.seed(2345)\n",
    "    x2 = np.random.uniform(0, 10, 5)\n",
    "    y2 = np.random.uniform(0, 10, 5)\n",
    "    assert np.isclose(slope(x2, y2), -0.5183482739336265)\n",
    "\n",
    "test_q1_2_3(np, slope) # IGNORE"
   ]
  },
  {
   "cell_type": "code",
   "execution_count": 16,
   "metadata": {
    "tags": []
   },
   "outputs": [],
   "source": [
    "\"\"\" # BEGIN TEST CONFIG\n",
    "points: 0.5\n",
    "hidden: true\n",
    "\"\"\" # END TEST CONFIG\n",
    "def test_q1_2_4(np, intercept):\n",
    "    np.random.seed(2345)\n",
    "    x2 = np.random.uniform(0, 10, 5)\n",
    "    y2 = np.random.uniform(0, 10, 5)\n",
    "    assert np.isclose(intercept(x2, y2), 7.777051922080558)\n",
    "\n",
    "test_q1_2_4(np, intercept) # IGNORE"
   ]
  },
  {
   "cell_type": "raw",
   "metadata": {},
   "source": [
    "# END TESTS"
   ]
  },
  {
   "cell_type": "raw",
   "metadata": {},
   "source": [
    "# END QUESTION"
   ]
  },
  {
   "cell_type": "markdown",
   "metadata": {
    "tags": [
     "ignore"
    ]
   },
   "source": [
    "---\n",
    "\n",
    "### References\n",
    "\n",
    "* Data from https://archive.ics.uci.edu/ml/datasets/default+of+credit+card+clients#"
   ]
  }
 ],
 "metadata": {
  "@webio": {
   "lastCommId": null,
   "lastKernelId": null
  },
  "kernelspec": {
   "display_name": "Python 3 (ipykernel)",
   "language": "python",
   "name": "python3"
  },
  "language_info": {
   "codemirror_mode": {
    "name": "ipython",
    "version": 3
   },
   "file_extension": ".py",
   "mimetype": "text/x-python",
   "name": "python",
   "nbconvert_exporter": "python",
   "pygments_lexer": "ipython3",
   "version": "3.7.7"
  },
  "varInspector": {
   "cols": {
    "lenName": 16,
    "lenType": 16,
    "lenVar": 40
   },
   "kernels_config": {
    "python": {
     "delete_cmd_postfix": "",
     "delete_cmd_prefix": "del ",
     "library": "var_list.py",
     "varRefreshCmd": "print(var_dic_list())"
    },
    "r": {
     "delete_cmd_postfix": ") ",
     "delete_cmd_prefix": "rm(",
     "library": "var_list.r",
     "varRefreshCmd": "cat(var_dic_list()) "
    }
   },
   "types_to_exclude": [
    "module",
    "function",
    "builtin_function_or_method",
    "instance",
    "_Feature"
   ],
   "window_display": false
  }
 },
 "nbformat": 4,
 "nbformat_minor": 4
}
