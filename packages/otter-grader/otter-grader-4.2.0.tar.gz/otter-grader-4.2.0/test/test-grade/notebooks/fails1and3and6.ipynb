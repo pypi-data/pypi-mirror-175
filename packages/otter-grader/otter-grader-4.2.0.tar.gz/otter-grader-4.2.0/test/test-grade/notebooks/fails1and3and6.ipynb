{
 "cells": [
  {
   "cell_type": "code",
   "execution_count": 1,
   "metadata": {},
   "outputs": [],
   "source": [
    "import matplotlib.pyplot as plt\n",
    "import numpy as np\n",
    "%matplotlib inline\n",
    "import otter\n",
    "grader = otter.Notebook(\"fails1and3and6.ipynb\")"
   ]
  },
  {
   "cell_type": "markdown",
   "metadata": {},
   "source": [
    "**Question 1:** Write a function `square` that squares its argument."
   ]
  },
  {
   "cell_type": "code",
   "execution_count": 2,
   "metadata": {},
   "outputs": [],
   "source": [
    "def square(x):\n",
    "    return x**5"
   ]
  },
  {
   "cell_type": "code",
   "execution_count": 3,
   "metadata": {},
   "outputs": [
    {
     "data": {
      "text/html": [
       "\n",
       "    \n",
       "    \n",
       "        <p>0 of 1 tests passed</p>\n",
       "        \n",
       "        \n",
       "        <p> <strong>Tests failed: </strong>\n",
       "            <ul>\n",
       "            \n",
       "                <li> \n",
       "    <p><strong style='color: red;'>../tests/q1.py</strong></p>\n",
       "    <p><strong>Test code:</strong><pre><div class=\"highlight\" style=\"background: #f8f8f8\"><pre style=\"line-height: 125%\"><span></span><span style=\"color: #000080; font-weight: bold\">&gt;&gt;&gt; </span>square(<span style=\"color: #666666\">6</span>)\n",
       "<span style=\"color: #888888\">36</span>\n",
       "</pre></div>\n",
       "</pre></p>\n",
       "    <p><strong>Test result:</strong><pre>Trying:\n",
       "    square(6)\n",
       "Expecting:\n",
       "    36\n",
       "**********************************************************************\n",
       "Line 2, in ../tests/q1.py 0\n",
       "Failed example:\n",
       "    square(6)\n",
       "Expected:\n",
       "    36\n",
       "Got:\n",
       "    7776\n",
       "</pre></p>\n",
       "     </li>\n",
       "            \n",
       "            </ul>\n",
       "        \n",
       "    \n",
       "    "
      ],
      "text/plain": [
       "\n",
       "    \n",
       "    0 of 1 tests passed\n",
       "    \n",
       "    \n",
       "    Tests failed:\n",
       "    \n",
       "           ../tests/q1.py\n",
       "\n",
       "Test result:\n",
       "Trying:\n",
       "    square(6)\n",
       "Expecting:\n",
       "    36\n",
       "**********************************************************************\n",
       "Line 2, in ../tests/q1.py 0\n",
       "Failed example:\n",
       "    square(6)\n",
       "Expected:\n",
       "    36\n",
       "Got:\n",
       "    7776\n",
       "\n",
       "    \n",
       "    \n",
       "    \n",
       "    "
      ]
     },
     "execution_count": 3,
     "metadata": {},
     "output_type": "execute_result"
    }
   ],
   "source": [
    "grader.check(\"q1\")"
   ]
  },
  {
   "cell_type": "markdown",
   "metadata": {},
   "source": [
    "**Question 2:** Write a function `negate` that negates its argument."
   ]
  },
  {
   "cell_type": "code",
   "execution_count": 4,
   "metadata": {
    "otter": {
     "tests": [
      "q2b"
     ]
    }
   },
   "outputs": [],
   "source": [
    "def negate(x):\n",
    "    return not x"
   ]
  },
  {
   "cell_type": "code",
   "execution_count": 5,
   "metadata": {},
   "outputs": [
    {
     "data": {
      "text/html": [
       "\n",
       "    \n",
       "    \n",
       "        <p>All tests passed!</p>\n",
       "    \n",
       "    "
      ],
      "text/plain": [
       "\n",
       "    All tests passed!\n",
       "    "
      ]
     },
     "execution_count": 5,
     "metadata": {},
     "output_type": "execute_result"
    }
   ],
   "source": [
    "grader.check(\"q2\")"
   ]
  },
  {
   "cell_type": "markdown",
   "metadata": {},
   "source": [
    "**Question 3:** Assign `x` to the negation of `[]`. Use `negate`."
   ]
  },
  {
   "cell_type": "code",
   "execution_count": 6,
   "metadata": {},
   "outputs": [
    {
     "ename": "NameError",
     "evalue": "name 'x' is not defined",
     "output_type": "error",
     "traceback": [
      "\u001b[0;31m---------------------------------------------------------------------------\u001b[0m",
      "\u001b[0;31mNameError\u001b[0m                                 Traceback (most recent call last)",
      "\u001b[0;32m<ipython-input-6-a75b278660d3>\u001b[0m in \u001b[0;36m<module>\u001b[0;34m()\u001b[0m\n\u001b[1;32m      1\u001b[0m \u001b[0my\u001b[0m \u001b[0;34m=\u001b[0m \u001b[0mnegate\u001b[0m\u001b[0;34m(\u001b[0m\u001b[0;34m[\u001b[0m\u001b[0;34m]\u001b[0m\u001b[0;34m)\u001b[0m\u001b[0;34m\u001b[0m\u001b[0m\n\u001b[0;32m----> 2\u001b[0;31m \u001b[0mx\u001b[0m\u001b[0;34m\u001b[0m\u001b[0m\n\u001b[0m",
      "\u001b[0;31mNameError\u001b[0m: name 'x' is not defined"
     ]
    }
   ],
   "source": [
    "y = negate([])\n",
    "x"
   ]
  },
  {
   "cell_type": "code",
   "execution_count": 7,
   "metadata": {},
   "outputs": [
    {
     "data": {
      "text/html": [
       "\n",
       "    \n",
       "    \n",
       "        <p>0 of 1 tests passed</p>\n",
       "        \n",
       "        \n",
       "        <p> <strong>Tests failed: </strong>\n",
       "            <ul>\n",
       "            \n",
       "                <li> \n",
       "    <p><strong style='color: red;'>../tests/q3.py</strong></p>\n",
       "    <p><strong>Test code:</strong><pre><div class=\"highlight\" style=\"background: #f8f8f8\"><pre style=\"line-height: 125%\"><span></span><span style=\"color: #000080; font-weight: bold\">&gt;&gt;&gt; </span><span style=\"color: #008000; font-weight: bold\">if</span> x:\n",
       "<span style=\"color: #000080; font-weight: bold\">... </span>\t<span style=\"color: #008000\">print</span>(<span style=\"color: #BA2121\">&quot;yep&quot;</span>)\n",
       "<span style=\"color: #000080; font-weight: bold\">... </span><span style=\"color: #008000; font-weight: bold\">else</span>:\n",
       "<span style=\"color: #000080; font-weight: bold\">... </span>\t<span style=\"color: #008000\">print</span>(<span style=\"color: #BA2121\">&quot;nope&quot;</span>)\n",
       "<span style=\"color: #000080; font-weight: bold\">... </span>\n",
       "<span style=\"color: #888888\">yep</span>\n",
       "</pre></div>\n",
       "</pre></p>\n",
       "    <p><strong>Test result:</strong><pre>Trying:\n",
       "    if x:\n",
       "        print(\"yep\")\n",
       "    else:\n",
       "        print(\"nope\")\n",
       "Expecting:\n",
       "    yep\n",
       "**********************************************************************\n",
       "Line 2, in ../tests/q3.py 0\n",
       "Failed example:\n",
       "    if x:\n",
       "        print(\"yep\")\n",
       "    else:\n",
       "        print(\"nope\")\n",
       "Exception raised:\n",
       "    Traceback (most recent call last):\n",
       "      File \"/Library/Frameworks/Python.framework/Versions/3.6/lib/python3.6/doctest.py\", line 1330, in __run\n",
       "        compileflags, 1), test.globs)\n",
       "      File \"<doctest ../tests/q3.py 0[0]>\", line 1, in <module>\n",
       "        if x:\n",
       "    NameError: name 'x' is not defined\n",
       "</pre></p>\n",
       "     </li>\n",
       "            \n",
       "            </ul>\n",
       "        \n",
       "    \n",
       "    "
      ],
      "text/plain": [
       "\n",
       "    \n",
       "    0 of 1 tests passed\n",
       "    \n",
       "    \n",
       "    Tests failed:\n",
       "    \n",
       "           ../tests/q3.py\n",
       "\n",
       "Test result:\n",
       "Trying:\n",
       "    if x:\n",
       "        print(\"yep\")\n",
       "    else:\n",
       "        print(\"nope\")\n",
       "Expecting:\n",
       "    yep\n",
       "**********************************************************************\n",
       "Line 2, in ../tests/q3.py 0\n",
       "Failed example:\n",
       "    if x:\n",
       "        print(\"yep\")\n",
       "    else:\n",
       "        print(\"nope\")\n",
       "Exception raised:\n",
       "    Traceback (most recent call last):\n",
       "      File \"/Library/Frameworks/Python.framework/Versions/3.6/lib/python3.6/doctest.py\", line 1330, in __run\n",
       "        compileflags, 1), test.globs)\n",
       "      File \"<doctest ../tests/q3.py 0[0]>\", line 1, in <module>\n",
       "        if x:\n",
       "    NameError: name 'x' is not defined\n",
       "\n",
       "    \n",
       "    \n",
       "    \n",
       "    "
      ]
     },
     "execution_count": 7,
     "metadata": {},
     "output_type": "execute_result"
    }
   ],
   "source": [
    "grader.check(\"q3\")"
   ]
  },
  {
   "cell_type": "markdown",
   "metadata": {},
   "source": [
    "**Question 4:** Assign `x` to the square of 6.25. Use `square`."
   ]
  },
  {
   "cell_type": "code",
   "execution_count": 10,
   "metadata": {},
   "outputs": [
    {
     "data": {
      "text/plain": [
       "39.0625"
      ]
     },
     "execution_count": 10,
     "metadata": {},
     "output_type": "execute_result"
    }
   ],
   "source": [
    "x = 6.25**2\n",
    "x"
   ]
  },
  {
   "cell_type": "code",
   "execution_count": 11,
   "metadata": {},
   "outputs": [
    {
     "data": {
      "text/html": [
       "\n",
       "    \n",
       "    \n",
       "        <p>All tests passed!</p>\n",
       "    \n",
       "    "
      ],
      "text/plain": [
       "\n",
       "    All tests passed!\n",
       "    "
      ]
     },
     "execution_count": 11,
     "metadata": {},
     "output_type": "execute_result"
    }
   ],
   "source": [
    "grader.check(\"q4\")"
   ]
  },
  {
   "cell_type": "markdown",
   "metadata": {},
   "source": [
    "**Question 5:** Plot $f(x) = \\cos (x  e^x)$ on $(0,10)$."
   ]
  },
  {
   "cell_type": "code",
   "execution_count": 12,
   "metadata": {},
   "outputs": [
    {
     "data": {
      "text/plain": [
       "[<matplotlib.lines.Line2D at 0x11e379278>]"
      ]
     },
     "execution_count": 12,
     "metadata": {},
     "output_type": "execute_result"
    },
    {
     "data": {
      "image/png": "[encoded data removed]",
      "text/plain": [
       "<Figure size 432x288 with 1 Axes>"
      ]
     },
     "metadata": {
      "needs_background": "light"
     },
     "output_type": "display_data"
    }
   ],
   "source": [
    "x = np.linspace(0, 10, 100)\n",
    "y = np.cos(x * np.exp(x))\n",
    "plt.plot(x, y)"
   ]
  },
  {
   "cell_type": "markdown",
   "metadata": {},
   "source": [
    "**Question 6:** Write a non-recursive infinite generator for the Fibonacci sequence `fiberator`."
   ]
  },
  {
   "cell_type": "code",
   "execution_count": 13,
   "metadata": {},
   "outputs": [],
   "source": [
    "def fiberator():\n",
    "    yield 0\n",
    "    yield 0"
   ]
  },
  {
   "cell_type": "code",
   "execution_count": 14,
   "metadata": {},
   "outputs": [
    {
     "data": {
      "text/html": [
       "\n",
       "    \n",
       "    \n",
       "        <p>0 of 1 tests passed</p>\n",
       "        \n",
       "        \n",
       "        <p> <strong>Tests failed: </strong>\n",
       "            <ul>\n",
       "            \n",
       "                <li> \n",
       "    <p><strong style='color: red;'>../tests/q6.py</strong></p>\n",
       "    <p><strong>Test code:</strong><pre><div class=\"highlight\" style=\"background: #f8f8f8\"><pre style=\"line-height: 125%\"><span></span><span style=\"color: #000080; font-weight: bold\">&gt;&gt;&gt; </span>fib <span style=\"color: #666666\">=</span> fiberator()\n",
       "<span style=\"color: #000080; font-weight: bold\">&gt;&gt;&gt; </span><span style=\"color: #008000; font-weight: bold\">for</span> _ <span style=\"color: #AA22FF; font-weight: bold\">in</span> <span style=\"color: #008000\">range</span>(<span style=\"color: #666666\">10</span>):\n",
       "<span style=\"color: #000080; font-weight: bold\">... </span>\t<span style=\"color: #008000\">print</span>(<span style=\"color: #008000\">next</span>(fib))\n",
       "<span style=\"color: #888888\">0</span>\n",
       "<span style=\"color: #888888\">1</span>\n",
       "<span style=\"color: #888888\">1</span>\n",
       "<span style=\"color: #888888\">2</span>\n",
       "<span style=\"color: #888888\">3</span>\n",
       "<span style=\"color: #888888\">5</span>\n",
       "<span style=\"color: #888888\">8</span>\n",
       "<span style=\"color: #888888\">13</span>\n",
       "<span style=\"color: #888888\">21</span>\n",
       "<span style=\"color: #888888\">34</span>\n",
       "</pre></div>\n",
       "</pre></p>\n",
       "    <p><strong>Test result:</strong><pre>Trying:\n",
       "    fib = fiberator()\n",
       "Expecting nothing\n",
       "ok\n",
       "Trying:\n",
       "    for _ in range(10):\n",
       "        print(next(fib))\n",
       "Expecting:\n",
       "    0\n",
       "    1\n",
       "    1\n",
       "    2\n",
       "    3\n",
       "    5\n",
       "    8\n",
       "    13\n",
       "    21\n",
       "    34\n",
       "**********************************************************************\n",
       "Line 3, in ../tests/q6.py 0\n",
       "Failed example:\n",
       "    for _ in range(10):\n",
       "        print(next(fib))\n",
       "Exception raised:\n",
       "    Traceback (most recent call last):\n",
       "      File \"/Library/Frameworks/Python.framework/Versions/3.6/lib/python3.6/doctest.py\", line 1330, in __run\n",
       "        compileflags, 1), test.globs)\n",
       "      File \"<doctest ../tests/q6.py 0[1]>\", line 2, in <module>\n",
       "        print(next(fib))\n",
       "    StopIteration\n",
       "</pre></p>\n",
       "     </li>\n",
       "            \n",
       "            </ul>\n",
       "        \n",
       "    \n",
       "    "
      ],
      "text/plain": [
       "\n",
       "    \n",
       "    0 of 1 tests passed\n",
       "    \n",
       "    \n",
       "    Tests failed:\n",
       "    \n",
       "           ../tests/q6.py\n",
       "\n",
       "Test result:\n",
       "Trying:\n",
       "    fib = fiberator()\n",
       "Expecting nothing\n",
       "ok\n",
       "Trying:\n",
       "    for _ in range(10):\n",
       "        print(next(fib))\n",
       "Expecting:\n",
       "    0\n",
       "    1\n",
       "    1\n",
       "    2\n",
       "    3\n",
       "    5\n",
       "    8\n",
       "    13\n",
       "    21\n",
       "    34\n",
       "**********************************************************************\n",
       "Line 3, in ../tests/q6.py 0\n",
       "Failed example:\n",
       "    for _ in range(10):\n",
       "        print(next(fib))\n",
       "Exception raised:\n",
       "    Traceback (most recent call last):\n",
       "      File \"/Library/Frameworks/Python.framework/Versions/3.6/lib/python3.6/doctest.py\", line 1330, in __run\n",
       "        compileflags, 1), test.globs)\n",
       "      File \"<doctest ../tests/q6.py 0[1]>\", line 2, in <module>\n",
       "        print(next(fib))\n",
       "    StopIteration\n",
       "\n",
       "    \n",
       "    \n",
       "    \n",
       "    "
      ]
     },
     "execution_count": 14,
     "metadata": {},
     "output_type": "execute_result"
    }
   ],
   "source": [
    "grader.check(\"q6\")"
   ]
  },
  {
   "cell_type": "markdown",
   "metadata": {},
   "source": [
    " "
   ]
  }
 ],
 "metadata": {
  "kernelspec": {
   "display_name": "Python 3",
   "language": "python",
   "name": "python3"
  },
  "language_info": {
   "codemirror_mode": {
    "name": "ipython",
    "version": 3
   },
   "file_extension": ".py",
   "mimetype": "text/x-python",
   "name": "python",
   "nbconvert_exporter": "python",
   "pygments_lexer": "ipython3",
   "version": "3.6.5"
  },
  "varInspector": {
   "cols": {
    "lenName": 16,
    "lenType": 16,
    "lenVar": 40
   },
   "kernels_config": {
    "python": {
     "delete_cmd_postfix": "",
     "delete_cmd_prefix": "del ",
     "library": "var_list.py",
     "varRefreshCmd": "print(var_dic_list())"
    },
    "r": {
     "delete_cmd_postfix": ") ",
     "delete_cmd_prefix": "rm(",
     "library": "var_list.r",
     "varRefreshCmd": "cat(var_dic_list()) "
    }
   },
   "types_to_exclude": [
    "module",
    "function",
    "builtin_function_or_method",
    "instance",
    "_Feature"
   ],
   "window_display": false
  }
 },
 "nbformat": 4,
 "nbformat_minor": 4
}
