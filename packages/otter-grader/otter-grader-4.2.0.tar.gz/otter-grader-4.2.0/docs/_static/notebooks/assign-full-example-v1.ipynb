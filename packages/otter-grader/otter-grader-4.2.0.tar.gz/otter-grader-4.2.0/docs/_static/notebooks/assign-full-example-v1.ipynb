{
 "cells": [
  {
   "cell_type": "raw",
   "metadata": {},
   "source": [
    "# ASSIGNMENT CONFIG\n",
    "generate: true\n",
    "export_cell:\n",
    "    run_tests: true\n",
    "    pdf: false\n",
    "seed:\n",
    "    variable: rng_seed\n",
    "    autograder_value: 42\n",
    "    student_value: 90"
   ]
  },
  {
   "cell_type": "code",
   "execution_count": 1,
   "metadata": {},
   "outputs": [],
   "source": [
    "import matplotlib.pyplot as plt\n",
    "import numpy as np\n",
    "%matplotlib inline\n",
    "rng_seed = 42"
   ]
  },
  {
   "cell_type": "raw",
   "metadata": {},
   "source": [
    "# BEGIN QUESTION\n",
    "name: q1"
   ]
  },
  {
   "cell_type": "markdown",
   "metadata": {},
   "source": [
    "**Question 1.** Write a function called `sieve` that takes in a positive integer `n` and returns a `set` of the prime numbers less than or equal to `n`. Use the Sieve of Eratosthenes to find the primes."
   ]
  },
  {
   "cell_type": "raw",
   "metadata": {},
   "source": [
    "# BEGIN SOLUTION"
   ]
  },
  {
   "cell_type": "code",
   "execution_count": 2,
   "metadata": {},
   "outputs": [],
   "source": [
    "def sieve(n):\n",
    "    \"\"\"\n",
    "    Generate a set of prime numbers less than or equal to a positive integer.\n",
    "    \"\"\"\n",
    "    # BEGIN SOLUTION\n",
    "    is_prime = [True for _ in range(n + 1)]\n",
    "    p = 2\n",
    "    while p ** 2 <= n:\n",
    "        if is_prime[p]:\n",
    "            for i in range(p ** 2, n + 1, p):\n",
    "                is_prime[i] = False\n",
    "        p += 1\n",
    "\n",
    "    is_prime[0]= False\n",
    "    is_prime[1]= False\n",
    "\n",
    "    return set(i for i in range(n + 1) if is_prime[i])\n",
    "    # END SOLUTION"
   ]
  },
  {
   "cell_type": "raw",
   "metadata": {},
   "source": [
    "# END SOLUTION"
   ]
  },
  {
   "cell_type": "raw",
   "metadata": {},
   "source": [
    "# BEGIN TESTS"
   ]
  },
  {
   "cell_type": "code",
   "execution_count": 3,
   "metadata": {},
   "outputs": [],
   "source": [
    "def test_low_primes(sieve):\n",
    "    assert sieve(1) == set()\n",
    "    assert sieve(2) == {2}\n",
    "    assert sieve(3) == {2, 3}\n",
    "\n",
    "test_low_primes(sieve)  # IGNORE"
   ]
  },
  {
   "cell_type": "code",
   "execution_count": 4,
   "metadata": {},
   "outputs": [],
   "source": [
    "\"\"\" # BEGIN TEST CONFIG\n",
    "points: 2\n",
    "hidden: true\n",
    "\"\"\" # END TEST CONFIG\n",
    "def test_higher_primes(sieve):\n",
    "    assert sieve(20) == {2, 3, 5, 7, 11, 13, 17, 19}\n",
    "    assert sieve(100) == {2, 3, 5, 7, 11, 13, 17, 19, 23, 29, 31, 37, 41, 43, 47, 53, 59, 61, 67, 71, 73, 79, 83, 89, 97}\n",
    "\n",
    "test_higher_primes(sieve)  # IGNORE"
   ]
  },
  {
   "cell_type": "raw",
   "metadata": {},
   "source": [
    "# END TESTS"
   ]
  },
  {
   "cell_type": "raw",
   "metadata": {},
   "source": [
    "# END QUESTION"
   ]
  },
  {
   "cell_type": "raw",
   "metadata": {},
   "source": [
    "# BEGIN QUESTION\n",
    "name: q2\n",
    "manual: true"
   ]
  },
  {
   "cell_type": "markdown",
   "metadata": {},
   "source": [
    "**Question 2.** Evaluate the integral:\n",
    "\n",
    "$$\n",
    "\\int x e^x \\, \\mathrm dx\n",
    "$$"
   ]
  },
  {
   "cell_type": "raw",
   "metadata": {},
   "source": [
    "# BEGIN PROMPT"
   ]
  },
  {
   "cell_type": "markdown",
   "metadata": {},
   "source": [
    "$$\n",
    "\\begin{aligned}\n",
    "\\int x e^x \\, \\mathrm dx &= \\texttt{# YOUR MATH HERE} \\\\\n",
    "\\end{aligned}\n",
    "$$"
   ]
  },
  {
   "cell_type": "raw",
   "metadata": {},
   "source": [
    "# END PROMPT"
   ]
  },
  {
   "cell_type": "raw",
   "metadata": {
    "tags": []
   },
   "source": [
    "# BEGIN SOLUTION"
   ]
  },
  {
   "cell_type": "markdown",
   "metadata": {},
   "source": [
    "**SOLUTION:**\n",
    "\n",
    "$$\n",
    "\\begin{aligned}\n",
    "\\int x e^x \\, \\mathrm dx &= x e^x - \\int e^x \\, \\mathrm dx \\\\\n",
    "&= x e^x - e^x + C \\\\\n",
    "&= e^x (x - 1) + C \\\\\n",
    "\\end{aligned}\n",
    "$$"
   ]
  },
  {
   "cell_type": "raw",
   "metadata": {},
   "source": [
    "# END SOLUTION"
   ]
  },
  {
   "cell_type": "raw",
   "metadata": {},
   "source": [
    "# END QUESTION"
   ]
  },
  {
   "cell_type": "raw",
   "metadata": {},
   "source": [
    "# BEGIN QUESTION\n",
    "name: q3\n",
    "manual: true"
   ]
  },
  {
   "cell_type": "markdown",
   "metadata": {},
   "source": [
    "**Question 3.** Graph the function $f(x) = \\arctan \\left ( e^x \\right )$."
   ]
  },
  {
   "cell_type": "raw",
   "metadata": {
    "tags": []
   },
   "source": [
    "# BEGIN SOLUTION"
   ]
  },
  {
   "cell_type": "code",
   "execution_count": 5,
   "metadata": {},
   "outputs": [
    {
     "data": {
      "image/png": "[encoded data removed]",
      "text/plain": [
       "<Figure size 432x288 with 1 Axes>"
      ]
     },
     "metadata": {
      "needs_background": "light"
     },
     "output_type": "display_data"
    }
   ],
   "source": [
    "# BEGIN SOLUTION\n",
    "f = lambda x: np.arctan(np.exp(x))\n",
    "xs = np.linspace(-10, 10, 100)\n",
    "ys = f(xs)\n",
    "\n",
    "plt.plot(xs, ys)\n",
    "plt.xlabel(\"$x$\")\n",
    "plt.ylabel(\"$f(x)$\")\n",
    "plt.title(r\"$f(x) = \\arctan \\left ( e^x \\right )$\");\n",
    "# END SOLUTION"
   ]
  },
  {
   "cell_type": "raw",
   "metadata": {},
   "source": [
    "# END SOLUTION"
   ]
  },
  {
   "cell_type": "raw",
   "metadata": {},
   "source": [
    "# END QUESTION"
   ]
  },
  {
   "cell_type": "raw",
   "metadata": {},
   "source": [
    "# BEGIN QUESTION\n",
    "name: q4"
   ]
  },
  {
   "cell_type": "markdown",
   "metadata": {},
   "source": [
    "**Question 4.** Write a function `hailstone` that returns the hailstone sequence for a positive integer ``n`` as a ``list``."
   ]
  },
  {
   "cell_type": "raw",
   "metadata": {},
   "source": [
    "# BEGIN SOLUTION"
   ]
  },
  {
   "cell_type": "code",
   "execution_count": 6,
   "metadata": {},
   "outputs": [],
   "source": [
    "def hailstone(n):\n",
    "    \"\"\"\n",
    "    Generate the hailstone sequence of a positive integer.\n",
    "    \"\"\"\n",
    "    # BEGIN SOLUTION\n",
    "    if n == 1:\n",
    "        return [n]\n",
    "    elif n % 2 == 0:\n",
    "        return [n] + hailstone(n // 2)\n",
    "    else:\n",
    "        return [n] + hailstone(3 * n + 1)\n",
    "    # END SOLUTION"
   ]
  },
  {
   "cell_type": "raw",
   "metadata": {},
   "source": [
    "# END SOLUTION"
   ]
  },
  {
   "cell_type": "raw",
   "metadata": {},
   "source": [
    "# BEGIN TESTS"
   ]
  },
  {
   "cell_type": "code",
   "execution_count": 7,
   "metadata": {},
   "outputs": [],
   "source": [
    "def test_low_hailstones(hailstone):\n",
    "    assert hailstone(1) == [1]\n",
    "    assert hailstone(2)  == [2, 1]\n",
    "    assert hailstone(4) == [4, 2, 1]\n",
    "\n",
    "test_low_hailstones(hailstone)  # IGNORE"
   ]
  },
  {
   "cell_type": "code",
   "execution_count": 8,
   "metadata": {},
   "outputs": [],
   "source": [
    "\"\"\" # BEGIN TEST CONFIG\n",
    "points: 3\n",
    "hidden: true\n",
    "\"\"\" # END TEST CONFIG\n",
    "def test_high_hailstones(hailstone):\n",
    "    assert hailstone(20) == [20, 10, 5, 16, 8, 4, 2, 1]\n",
    "    assert hailstone(9) == [9, 28, 14, 7, 22, 11, 34, 17, 52, 26, 13, 40, 20, 10, 5, 16, 8, 4, 2, 1]\n",
    "\n",
    "test_high_hailstones(hailstone)  # IGNORE"
   ]
  },
  {
   "cell_type": "raw",
   "metadata": {},
   "source": [
    "# END TESTS"
   ]
  },
  {
   "cell_type": "raw",
   "metadata": {},
   "source": [
    "# END QUESTION"
   ]
  },
  {
   "cell_type": "raw",
   "metadata": {},
   "source": [
    "# BEGIN QUESTION\n",
    "name: q5"
   ]
  },
  {
   "cell_type": "markdown",
   "metadata": {},
   "source": [
    "**Question 5.** Write a function ``gcd`` that takes in two positive integers ``a`` and ``b`` and returns their greatest common divisor."
   ]
  },
  {
   "cell_type": "raw",
   "metadata": {},
   "source": [
    "# BEGIN SOLUTION"
   ]
  },
  {
   "cell_type": "code",
   "execution_count": 9,
   "metadata": {},
   "outputs": [],
   "source": [
    "def gcd(a, b):\n",
    "    \"\"\"\n",
    "    Find the GCD of two positive integers.\n",
    "    \"\"\"\n",
    "    # BEGIN SOLUTION\n",
    "    if a == 0:\n",
    "        return b\n",
    "    return gcd(b % a, a)\n",
    "    # END SOLUTION"
   ]
  },
  {
   "cell_type": "raw",
   "metadata": {},
   "source": [
    "# END SOLUTION"
   ]
  },
  {
   "cell_type": "raw",
   "metadata": {},
   "source": [
    "# BEGIN TESTS"
   ]
  },
  {
   "cell_type": "code",
   "execution_count": 10,
   "metadata": {},
   "outputs": [],
   "source": [
    "def test_simple_gcds(gcd):\n",
    "    assert gcd(1, 1) == 1\n",
    "    assert gcd(2, 1) == 1\n",
    "    assert gcd(5, 5) == 5\n",
    "    assert gcd(10, 4) == 2\n",
    "\n",
    "test_simple_gcds(gcd)  # IGNORE"
   ]
  },
  {
   "cell_type": "code",
   "execution_count": 11,
   "metadata": {},
   "outputs": [],
   "source": [
    "\"\"\" # BEGIN TEST CONFIG\n",
    "points: 1\n",
    "hidden: true\n",
    "\"\"\" # END TEST CONFIG\n",
    "def test_larger_gcds(gcd):\n",
    "    assert gcd(121, 11) == 11\n",
    "    assert gcd(807306, 622896) == 4098\n",
    "\n",
    "test_larger_gcds(gcd)  # IGNORE"
   ]
  },
  {
   "cell_type": "raw",
   "metadata": {},
   "source": [
    "# END TESTS"
   ]
  },
  {
   "cell_type": "raw",
   "metadata": {},
   "source": [
    "# END QUESTION"
   ]
  },
  {
   "cell_type": "raw",
   "metadata": {},
   "source": [
    "# BEGIN QUESTION\n",
    "name: q6"
   ]
  },
  {
   "cell_type": "markdown",
   "metadata": {},
   "source": [
    "**Question 6.** Write a function `box_muller` that takes in two $U(0,1)$ random variables and returns two standard normal random variables using the Box-Muller algorithm. Use this function to generate 1000 standard normal random variables. Make sure to use the provided RNG to generate your $U(0,1)$ RVs."
   ]
  },
  {
   "cell_type": "raw",
   "metadata": {},
   "source": [
    "# BEGIN SOLUTION"
   ]
  },
  {
   "cell_type": "code",
   "execution_count": 12,
   "metadata": {},
   "outputs": [],
   "source": [
    "rng = np.random.default_rng(rng_seed)\n",
    "\n",
    "def box_muller(u1, u2):\n",
    "    \"\"\"\n",
    "    Generate two standard normal random variables from two U(0,1) random variables.\n",
    "    \"\"\"\n",
    "    # BEGIN SOLUTION\n",
    "    r = np.sqrt(-2 * np.log(u1))\n",
    "    theta = 2 * np.pi * u2\n",
    "    return r * np.cos(theta), r * np.sin(theta)\n",
    "    # END SOLUTION\n",
    "\n",
    "rvs = np.array([box_muller(rng.random(), rng.random()) for _ in range(500)]).flatten() # SOLUTION"
   ]
  },
  {
   "cell_type": "raw",
   "metadata": {},
   "source": [
    "# END SOLUTION"
   ]
  },
  {
   "cell_type": "raw",
   "metadata": {},
   "source": [
    "# BEGIN TESTS"
   ]
  },
  {
   "cell_type": "code",
   "execution_count": 13,
   "metadata": {},
   "outputs": [],
   "source": [
    "def test_validity(np, rvs, box_muller):\n",
    "    assert rvs.shape == (1000,)\n",
    "    assert np.allclose(box_muller(0.5, 0.5), (-1.1774100225154747, 1.4419114153575892e-16))\n",
    "\n",
    "test_simple_gcds(gcd)  # IGNORE"
   ]
  },
  {
   "cell_type": "code",
   "execution_count": 16,
   "metadata": {},
   "outputs": [],
   "source": [
    "\"\"\" # BEGIN TEST CONFIG\n",
    "points: 1\n",
    "hidden: true\n",
    "\"\"\" # END TEST CONFIG\n",
    "def test_values(np, rvs):\n",
    "    test_rng = np.random.default_rng(1048)\n",
    "    idx = test_rng.choice(np.arange(len(rvs)), 10)\n",
    "    assert np.allclose(rvs[idx], [2.06150769, -1.24834522, -1.03226524, -0.90264717, -0.71005571, -1.340234  ,  1.77047974, -0.31023336,  1.51417285,  0.64113867])\n",
    "\n",
    "test_values(np, rvs)  # IGNORE"
   ]
  },
  {
   "cell_type": "raw",
   "metadata": {},
   "source": [
    "# END TESTS"
   ]
  },
  {
   "cell_type": "raw",
   "metadata": {},
   "source": [
    "# END QUESTION"
   ]
  }
 ],
 "metadata": {
  "kernelspec": {
   "display_name": "Python 3",
   "language": "python",
   "name": "python3"
  },
  "language_info": {
   "codemirror_mode": {
    "name": "ipython",
    "version": 3
   },
   "file_extension": ".py",
   "mimetype": "text/x-python",
   "name": "python",
   "nbconvert_exporter": "python",
   "pygments_lexer": "ipython3",
   "version": "3.7.7"
  }
 },
 "nbformat": 4,
 "nbformat_minor": 4
}
