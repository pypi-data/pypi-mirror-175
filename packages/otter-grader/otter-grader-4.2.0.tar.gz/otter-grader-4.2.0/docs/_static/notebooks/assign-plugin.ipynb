{
 "cells": [
  {
   "cell_type": "markdown",
   "metadata": {},
   "source": [
    "The code below is an example of student-exposed plugins."
   ]
  },
  {
   "cell_type": "code",
   "execution_count": null,
   "metadata": {},
   "outputs": [],
   "source": [
    "\"\"\" # BEGIN PLUGIN\n",
    "plugin: myotterpackage.MyOtterPlugin\n",
    "args:\n",
    "    - pi\n",
    "    - z\n",
    "kwargs:\n",
    "    foo: circumference\n",
    "    bar: None\n",
    "    something: \"'else'\"\n",
    "\"\"\"; # END PLUGIN"
   ]
  },
  {
   "cell_type": "markdown",
   "metadata": {},
   "source": [
    "The plugin configuration above will be rendered as:"
   ]
  },
  {
   "cell_type": "code",
   "execution_count": null,
   "metadata": {},
   "outputs": [],
   "source": [
    "grader.run_plugin(\"myotterpackage.MyOtterPlugin\", pi, z, foo=circumference, bar=None, something='else')"
   ]
  }
 ],
 "metadata": {
  "kernelspec": {
   "display_name": "Python 3.7.3 64-bit",
   "language": "python",
   "name": "python37364bit90dbd76062a548f5876d8407d7c5d3c5"
  },
  "language_info": {
   "codemirror_mode": {
    "name": "ipython",
    "version": 3
   },
   "file_extension": ".py",
   "mimetype": "text/x-python",
   "name": "python",
   "nbconvert_exporter": "python",
   "pygments_lexer": "ipython3",
   "version": "3.7.3"
  }
 },
 "nbformat": 4,
 "nbformat_minor": 4
}
