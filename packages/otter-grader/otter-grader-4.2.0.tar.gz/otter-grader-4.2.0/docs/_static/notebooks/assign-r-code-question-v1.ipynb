{
 "cells": [
  {
   "cell_type": "raw",
   "id": "071c9411-e315-42a9-95e3-e08b78efc024",
   "metadata": {},
   "source": [
    "<div class=\"cell border-box-sizing text_cell rendered\"><div class=\"prompt input_prompt\">\n",
    "</div><div class=\"inner_cell\">\n",
    "<div class=\"\">\n",
    "<pre>\n",
    "# BEGIN QUESTION\n",
    "name: q1\n",
    "points: 2\n",
    "</pre>\n",
    "</div>\n",
    "</div>\n",
    "</div>"
   ]
  },
  {
   "cell_type": "markdown",
   "id": "986cb959-21e9-478c-b472-846c3282c03c",
   "metadata": {},
   "source": [
    "**Question 1.** Write a function called `sieve` that takes in a positive integer `n` and returns a sorted vector of the prime numbers less than or equal to `n`. Use the Sieve of Eratosthenes to find the primes."
   ]
  },
  {
   "cell_type": "raw",
   "id": "df75f8a9-09b3-489c-a95e-b346d36503e5",
   "metadata": {},
   "source": [
    "<div class=\"cell border-box-sizing text_cell rendered\"><div class=\"prompt input_prompt\">\n",
    "</div><div class=\"inner_cell\">\n",
    "<div class=\"\">\n",
    "<pre>\n",
    "# BEGIN SOLUTION\n",
    "</pre>\n",
    "</div>\n",
    "</div>\n",
    "</div>"
   ]
  },
  {
   "cell_type": "code",
   "execution_count": 2,
   "id": "c28dba6d-f041-4a63-8c51-07ba460159cf",
   "metadata": {},
   "outputs": [],
   "source": [
    "# BEGIN SOLUTION NO PROMPT\n",
    "sieve = function(n) {\n",
    "    is_prime = rep(TRUE, n)\n",
    "    p = 2\n",
    "    while (p^2 <= n) {\n",
    "        if (is_prime[p]) {\n",
    "            is_prime[seq(p^2, n, p)] = FALSE\n",
    "        }\n",
    "        p = p + 1\n",
    "    }\n",
    "    is_prime[1] = FALSE\n",
    "    return(seq(n)[is_prime])\n",
    "}\n",
    "# END SOLUTION\n",
    ". = \" # BEGIN PROMPT\n",
    "sieve = function(n) {\n",
    "    ...\n",
    "}\n",
    "\" # END PROMPT"
   ]
  },
  {
   "cell_type": "raw",
   "id": "abcef77a-b80a-41b2-94ae-bf0b0fd7f13c",
   "metadata": {},
   "source": [
    "<div class=\"cell border-box-sizing text_cell rendered\"><div class=\"prompt input_prompt\">\n",
    "</div><div class=\"inner_cell\">\n",
    "<div class=\"\">\n",
    "<pre>\n",
    "# END SOLUTION\n",
    "</pre>\n",
    "</div>\n",
    "</div>\n",
    "</div>"
   ]
  },
  {
   "cell_type": "raw",
   "id": "69fe1e7f-a88d-4e3f-b4bc-43b926375e37",
   "metadata": {},
   "source": [
    "<div class=\"cell border-box-sizing text_cell rendered\"><div class=\"prompt input_prompt\">\n",
    "</div><div class=\"inner_cell\">\n",
    "<div class=\"\">\n",
    "<pre>\n",
    "# BEGIN TESTS\n",
    "</pre>\n",
    "</div>\n",
    "</div>\n",
    "</div>"
   ]
  },
  {
   "cell_type": "code",
   "execution_count": 8,
   "id": "e6509d78-5d86-4e0b-ac29-4b71f5ef94da",
   "metadata": {},
   "outputs": [],
   "source": [
    "testthat::expect_equal(length(sieve(1)), 0)"
   ]
  },
  {
   "cell_type": "code",
   "execution_count": 9,
   "id": "a0e6159d-97ae-4ac9-9ad5-06db1d51f15c",
   "metadata": {},
   "outputs": [],
   "source": [
    "testthat::expect_equal(sieve(2), c(2))"
   ]
  },
  {
   "cell_type": "code",
   "execution_count": 11,
   "id": "fb46990f-9485-452b-a94f-6c6e0b08ae50",
   "metadata": {},
   "outputs": [],
   "source": [
    "testthat::expect_equal(sieve(3), c(2, 3))"
   ]
  },
  {
   "cell_type": "code",
   "execution_count": 12,
   "id": "3dd87983-19e1-4f3e-afb8-a557d75fe8c2",
   "metadata": {},
   "outputs": [],
   "source": [
    "# HIDDEN\n",
    "testthat::expect_equal(sieve(20), c(2, 3, 5, 7, 11, 13, 17, 19))"
   ]
  },
  {
   "cell_type": "code",
   "execution_count": 19,
   "id": "0f9b15ca-4101-4a13-ac59-e539e07f5fd2",
   "metadata": {},
   "outputs": [],
   "source": [
    ". = \" # BEGIN TEST CONFIG\n",
    "points: 1\n",
    "hidden: true\n",
    "\" # END TEST CONFIG\n",
    "testthat::expect_equal(sieve(100), c(2, 3, 5, 7, 11, 13, 17, 19, 23, 29, 31, 37, 41, 43, 47, 53, 59, 61, 67, 71, 73, 79, 83, 89, 97))"
   ]
  },
  {
   "cell_type": "raw",
   "id": "1edc8545-06c7-4f96-9757-715ddc761243",
   "metadata": {},
   "source": [
    "<div class=\"cell border-box-sizing text_cell rendered\"><div class=\"prompt input_prompt\">\n",
    "</div><div class=\"inner_cell\">\n",
    "<div class=\"\">\n",
    "<pre>\n",
    "# END TESTS\n",
    "</pre>\n",
    "</div>\n",
    "</div>\n",
    "</div>"
   ]
  },
  {
   "cell_type": "raw",
   "id": "5c628c1d-5295-4059-a7b1-82787a68fffa",
   "metadata": {},
   "source": [
    "<div class=\"cell border-box-sizing text_cell rendered\"><div class=\"prompt input_prompt\">\n",
    "</div><div class=\"inner_cell\">\n",
    "<div class=\"\">\n",
    "<pre>\n",
    "# END QUESTION\n",
    "</pre>\n",
    "</div>\n",
    "</div>\n",
    "</div>"
   ]
  }
 ],
 "metadata": {
  "kernelspec": {
   "display_name": "R",
   "language": "R",
   "name": "ir"
  },
  "language_info": {
   "codemirror_mode": "r",
   "file_extension": ".r",
   "mimetype": "text/x-r-source",
   "name": "R",
   "pygments_lexer": "r",
   "version": "4.0.2"
  }
 },
 "nbformat": 4,
 "nbformat_minor": 5
}
