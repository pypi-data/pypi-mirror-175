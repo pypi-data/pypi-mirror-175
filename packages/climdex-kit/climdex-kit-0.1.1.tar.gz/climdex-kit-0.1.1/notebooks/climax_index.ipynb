{
 "cells": [
  {
   "cell_type": "code",
   "execution_count": null,
   "id": "81bd3fc9",
   "metadata": {},
   "outputs": [],
   "source": [
    "import pandas as pd\n",
    "import numpy as np\n",
    "import xarray as xr\n",
    "import matplotlib.pyplot as plt\n",
    "from scipy import signal\n",
    "import glob\n",
    "\n",
    "import cartopy.crs as ccrs\n",
    "import cartopy.feature as cfeature\n",
    "import matplotlib.pyplot as plt\n",
    "import matplotlib.patches as mpatches\n",
    "from cartopy.feature import ShapelyFeature\n",
    "import numpy as np\n",
    "import xarray as xr\n",
    "import cartopy as cart\n",
    "import cartopy.io.shapereader as shpreader\n",
    "from mpl_toolkits.basemap import Basemap\n",
    "from xclim import ensembles\n",
    "import rioxarray\n",
    "import pathlib\n",
    "import pymannkendall as mk\n",
    "\n",
    "\n",
    "import geopandas\n",
    "from shapely.geometry import mapping"
   ]
  },
  {
   "cell_type": "code",
   "execution_count": null,
   "id": "760a9348",
   "metadata": {},
   "outputs": [],
   "source": [
    "ST=geopandas.read_file('/mnt/CEPH_PROJECTS/FACT_CLIMAX/OBS_DATA/shape_region/TrentinoAltoAdige.shp')\n",
    "\n",
    "ST=ST[ST.ID == 47046.0]\n",
    "\n",
    "ST=ST.to_crs(\"EPSG:3035\")\n",
    "\n",
    "#ST.crs"
   ]
  },
  {
   "cell_type": "code",
   "execution_count": null,
   "id": "56c507d3",
   "metadata": {},
   "outputs": [],
   "source": [
    "from glob import glob\n",
    "import xarray as xr\n",
    "\n",
    "def read_netcdfs(files,dim):\n",
    "    paths = sorted(glob(files))\n",
    "    datasets = [xr.open_dataset(p) for p in paths]\n",
    "    combined = xr.concat(datasets, dim = 'realization')\n",
    "    return combined\n",
    "\n",
    "#rioxarray.open_rasterio,masked=True\n",
    "\n",
    "var = 'spi12'\n",
    "Var = ['spi12']\n",
    "rcp = ['rcp85']\n",
    "\n",
    "\n",
    "\n",
    "for i in Var:\n",
    "    for j in rcp:\n",
    "        ind = read_netcdfs('/mnt/CEPH_PROJECTS/FACT_CLIMAX/CORDEX-Adjust/INDICES/{}/{}/{}_*.nc'.format(i,j,i),'realization')\n",
    "    \n",
    "index = ind.median(dim='realization')"
   ]
  },
  {
   "cell_type": "code",
   "execution_count": null,
   "id": "4b95c720",
   "metadata": {},
   "outputs": [],
   "source": [
    "#ind =ind.mean(dim='bnds')   # remove bnds- only for some variables"
   ]
  },
  {
   "cell_type": "code",
   "execution_count": null,
   "id": "4223e0e7",
   "metadata": {},
   "outputs": [],
   "source": [
    "ind = ind.rio.write_crs({'init': 'EPSG:3035'})\n",
    "#ind.rio.crs"
   ]
  },
  {
   "cell_type": "code",
   "execution_count": null,
   "id": "17fe13ef",
   "metadata": {},
   "outputs": [],
   "source": [
    "clipped_ind = ind.rio.clip(ST.geometry.apply(mapping), ST.crs, drop=True,invert=False)\n",
    "#all_touched=True"
   ]
  },
  {
   "cell_type": "code",
   "execution_count": null,
   "id": "df9164a5",
   "metadata": {},
   "outputs": [],
   "source": [
    "# digital elevation model: Copernicus EU-Dem v1.1\n",
    "dem_t=xr.open_dataset('/mnt/CEPH_PROJECTS/FACT_CLIMAX/DEM/eu_dem_v11_stt.nc')\n",
    "\n",
    "time=pd.date_range('1970-01-01','2100-12-01',freq='M')\n",
    "\n",
    "time=xr.DataArray(time,[('time',time)])\n",
    "\n",
    "dem_t=dem_t.Band1.to_dataset().rename({'Band1': 'elevation'})\n",
    "\n",
    "time_n, dem_t = xr.broadcast(time,dem_t)\n",
    "del time_n"
   ]
  },
  {
   "cell_type": "code",
   "execution_count": null,
   "id": "b499f645",
   "metadata": {},
   "outputs": [],
   "source": [
    "dem_t = dem_t.rio.write_crs({'init': 'EPSG:3035'})"
   ]
  },
  {
   "cell_type": "code",
   "execution_count": null,
   "id": "b389526e",
   "metadata": {},
   "outputs": [],
   "source": [
    "clipped_dem = dem_t.rio.clip(ST.geometry.apply(mapping), ST.crs, drop=True,invert=False)"
   ]
  },
  {
   "cell_type": "code",
   "execution_count": null,
   "id": "ef376df3",
   "metadata": {},
   "outputs": [],
   "source": [
    "clipped_ind=clipped_ind.sel(time=slice('1970-02-01','2100-12-01'))"
   ]
  },
  {
   "cell_type": "code",
   "execution_count": null,
   "id": "3badc0eb",
   "metadata": {},
   "outputs": [],
   "source": [
    "dem_t['time']=clipped_ind.time"
   ]
  },
  {
   "cell_type": "code",
   "execution_count": null,
   "id": "147cbf3a",
   "metadata": {},
   "outputs": [],
   "source": [
    "#clipped_ind = clipped_ind.isel(time=slice(1,133))  # only for some variables"
   ]
  },
  {
   "cell_type": "code",
   "execution_count": null,
   "id": "b82526aa",
   "metadata": {},
   "outputs": [],
   "source": [
    "#Create mask from DEM\n",
    "\n",
    "D= []\n",
    "for k, _ in enumerate(clipped_ind.realization):\n",
    "    #print(i)\n",
    "    dem_mask=np.ma.masked_where(clipped_dem['elevation']<1500,clipped_dem['elevation'])\n",
    "    D.append(clipped_ind.isel(realization=k).transpose('time','x','y').where(dem_mask.mask))\n",
    "    \n",
    "masked_ind=xr.concat(D,dim='realization')"
   ]
  },
  {
   "cell_type": "code",
   "execution_count": null,
   "id": "e80d8854",
   "metadata": {},
   "outputs": [],
   "source": [
    "VALID_PERIOD = slice('1981-12-31', '2010-12-31')\n",
    "F1_PERIOD = slice('2041-12-31', '2070-12-31')\n",
    "F2_PERIOD = slice('2071-12-31', '2100-12-31')\n",
    "\n",
    "H = clipped_ind.sel(time=VALID_PERIOD).median(dim=('realization')).mean('time')\n",
    "F1 = clipped_ind.sel(time=F1_PERIOD).median(dim=('realization')).mean('time')\n",
    "F2 = clipped_ind.sel(time=F2_PERIOD).median(dim=('realization')).mean('time')\n",
    "\n",
    "#for masked values\n",
    "H_m = masked_ind.sel(time=VALID_PERIOD).median(dim=('realization')).mean('time')\n",
    "F1_m = masked_ind.sel(time=F1_PERIOD).median(dim=('realization')).mean('time')\n",
    "F2_m = masked_ind.sel(time=F2_PERIOD).median(dim=('realization')).mean('time')\n",
    "\n",
    "\n",
    "d1=(F1-H)\n",
    "d2=(F2-H)\n",
    "\n",
    "d1_m=(F1_m-H_m)\n",
    "d2_m=(F2_m-H_m)"
   ]
  },
  {
   "cell_type": "code",
   "execution_count": null,
   "id": "ad9c5a85",
   "metadata": {},
   "outputs": [],
   "source": [
    "print(d2.max(),d2.min())"
   ]
  },
  {
   "cell_type": "code",
   "execution_count": null,
   "id": "3a68eac9",
   "metadata": {},
   "outputs": [],
   "source": [
    "NAMES = {'mat': 'Mean annual temperature', 'frd': 'Frost days', 'trn': 'Tropical nights', 'spr':'Summer total precipitation', 'wpr':'Winter total precipitation', '5dmax':'Maximum 5-day precipitation',\n",
    "        'hpr95wet':'Heavy precipitation (95-th P / wet days)', 'hpf95wet':'Heavy precipitation frequency (95-th P / wet days)', 'spi12':'SPI-12', 'spei12':'SPEI-12'} \n",
    "\n",
    "UNITS = {'mat': 'degree Celsius', 'frd': 'Number of days', 'trn': 'Number of days', 'spr':'mm', 'wpr':'mm', '5dmax':'mm',\n",
    "        'hpr95wet':'mm', 'hpf95wet':'Number of days', 'spi12':'Index', 'spei12':'Index'} \n"
   ]
  },
  {
   "cell_type": "code",
   "execution_count": null,
   "id": "2540c286",
   "metadata": {},
   "outputs": [],
   "source": [
    "fig, ax = plt.subplots(1, 2, figsize=(7,3), sharex=True, sharey=True)\n",
    "\n",
    "vmin=-2\n",
    "vmax=2\n",
    "x = np.linspace(vmin, vmax,11)\n",
    "\n",
    "variable=d1[var]\n",
    "variable2=d2[var]\n",
    "\n",
    "image=ax[0].contourf(variable.values,10,cmap='Blues')\n",
    "image2=ax[1].contourf(variable2.values,10,cmap='Blues')\n",
    "\n",
    "cbar_ax_predictand = fig.add_axes([ax[0].get_position().x0+0.173, ax[0].get_position().y0 - 0.2,\n",
    "                                   ax[-1].get_position().x0 - ax[0].get_position().x0,\n",
    "                                   0.05])\n",
    "\n",
    "cbar=fig.colorbar(image,cax=cbar_ax_predictand,orientation='horizontal',extend='both',shrink=0.60,format='%.1f')\n",
    "#cbar.set_label(UNITS[var])\n",
    "plt.title(NAMES[var])  \n",
    "ax[0].set_title('2041-2070')\n",
    "ax[1].set_title('2071-2100')\n",
    "\n",
    "for axes in ax.flat:\n",
    "    axes.set(xlabel='lon', ylabel='lat')\n",
    "    \n",
    "for axes in ax.flat:\n",
    "    axes.label_outer()\n",
    "        \n",
    "fig.tight_layout()\n",
    "\n",
    "\n",
    "fig.savefig('/mnt/CEPH_PROJECTS/FACT_CLIMAX/CORDEX-Adjust/plots/f1_f2_maps_{}_{}.png'.format(NAMES[var],rcp), dpi=300, bbox_inches='tight')"
   ]
  },
  {
   "cell_type": "code",
   "execution_count": null,
   "id": "cc1971e1",
   "metadata": {},
   "outputs": [],
   "source": [
    "#Ensamble statistics:\n",
    "index_stats = ensembles.ensemble_mean_std_max_min(clipped_ind.mean(dim=['y','x']))\n",
    "index_perc = ensembles.ensemble_percentiles(clipped_ind.mean(dim=['y','x']), values=[25, 50, 75], split=False)\n",
    "\n",
    "#for masked areas:\n",
    "index_stats_m = ensembles.ensemble_mean_std_max_min(masked_ind.mean(dim=['x','y']))\n",
    "index_perc_m = ensembles.ensemble_percentiles(masked_ind.mean(dim=['x','y']), values=[25, 50, 75], split=False)\n"
   ]
  },
  {
   "cell_type": "code",
   "execution_count": null,
   "id": "fa487941",
   "metadata": {},
   "outputs": [],
   "source": [
    "##Trend calculation for clipped area\n",
    "x=np.arange(0,len(clipped_ind.time.dt.year.values))\n",
    "z = np.polyfit(x, clipped_ind[var].mean(['x','y']).median(['realization']).fillna(0.0), 1)\n",
    "p = np.poly1d(z)\n",
    "\n",
    "#Plotting\n",
    "plt.plot(clipped_ind.time.dt.year.values,clipped_ind[var].mean(['x','y']).median(['realization']))\n",
    "plt.plot(clipped_ind.time.dt.year.values,p(x),\"r--\")\n",
    "plt.ylabel(NAMES[var])\n",
    "plt.xlabel('Year')"
   ]
  },
  {
   "cell_type": "code",
   "execution_count": null,
   "id": "d4fe4080",
   "metadata": {},
   "outputs": [],
   "source": [
    "##Trend calculation for clipped and masked area\n",
    "xi=np.arange(0,len(masked_ind.time.dt.year.values))\n",
    "zi = np.polyfit(xi, masked_ind[var].mean(['x','y']).median(['realization']).fillna(0.0), 1)\n",
    "pi = np.poly1d(zi)\n",
    "\n",
    "#Plotting\n",
    "plt.plot(masked_ind.time.dt.year.values,masked_ind[var].mean(['x','y']).median(['realization']))\n",
    "plt.plot(masked_ind.time.dt.year.values,pi(xi),\"r--\")\n",
    "plt.ylabel(var)\n",
    "plt.xlabel('Year')"
   ]
  },
  {
   "cell_type": "code",
   "execution_count": null,
   "id": "2031a9bd",
   "metadata": {},
   "outputs": [],
   "source": [
    "##Plotting\n",
    "\n",
    "#.isel(time=slice(1,131))  - only for 5dmax\n",
    "\n",
    "stat = index_stats_m\n",
    "perc = index_perc_m\n",
    "data = masked_ind\n",
    "fig, ax = plt.subplots(figsize=(10,7))\n",
    "ax.fill_between(stat.time.dt.year.values, stat['spi12_min'].squeeze(), stat['spi12_max'].squeeze(), alpha=0.3, label='Min-Max')\n",
    "ax.fill_between(stat.time.dt.year.values, perc[var].squeeze().sel(percentiles=25), perc[var].squeeze().sel(percentiles=75), alpha=0.5, label='Perc. 25-75')\n",
    "ax._get_lines.get_next_color()  # Hack to get different line\n",
    "ax._get_lines.get_next_color()\n",
    "\n",
    "ax.plot(data.time.dt.year.values,data[var].mean(['x','y']).median(['realization']), linewidth=1.2, label='Ensemble median')\n",
    "ax.plot(data.time.dt.year.values,pi(xi),\"b--\",linewidth=1,label='Trend')\n",
    "ax.legend(loc='best')\n",
    "plt.title(NAMES[var])\n",
    "plt.ylabel(NAMES[var])\n",
    "plt.xlabel('Year')\n",
    "\n",
    "#plt.savefig('/mnt/CEPH_PROJECTS/FACT_CLIMAX/CORDEX-Adjust/plots/stat_{}_{}.png'.format(NAMES[var],rcp), dpi=300, bbox_inches='tight')"
   ]
  },
  {
   "cell_type": "code",
   "execution_count": null,
   "id": "11d087c5",
   "metadata": {},
   "outputs": [],
   "source": [
    "fig, axes = plt.subplots(1, 1, figsize=(8, 6))\n",
    "\n",
    "clrs = ['blue' if (x >=0) else 'red' for x in masked_ind[var].mean(['x','y']).median(['realization']).fillna(0.0).values]\n",
    "\n",
    "axes.bar(masked_ind.time.dt.year.values,masked_ind[var].mean(['x','y']).median(['realization']).fillna(0.0).values, color=clrs, width=0.31)\n",
    "axes.axhline(y = -1, color = 'grey', linestyle = 'dashed',linewidth=1,alpha=0.3)\n",
    "axes.axhline(y = 1, color = 'grey', linestyle = 'dashed',linewidth=1,alpha=0.3)\n",
    "axes.axhline(y = -1.5, color = 'grey', linestyle = 'dashed',linewidth=1,alpha=0.9)\n",
    "axes.axhline(y = 1.5, color = 'grey', linestyle = 'dashed',linewidth=1,alpha=0.9)\n",
    "axes.set_ylim(-3,3)\n",
    "axes.set_ylabel(NAMES[var])\n",
    "axes.set_xlabel('Year')\n",
    "axes.set_title(NAMES[var])\n",
    "\n",
    "\n",
    "fig.savefig('/mnt/CEPH_PROJECTS/FACT_CLIMAX/CORDEX-Adjust/plots/{}_{}_m.png'.format(NAMES[var],rcp), dpi=300, bbox_inches='tight')"
   ]
  },
  {
   "cell_type": "code",
   "execution_count": null,
   "id": "bed6c57b",
   "metadata": {},
   "outputs": [],
   "source": [
    "df1 = masked_ind[var].mean(['x','y']).median(['realization']).fillna(0.0)[(np.where((masked_ind[var].mean(['x','y']).median(['realization']).fillna(0.0).values<=-1) ))]    # moderate event\n",
    "df1 = df1.groupby(df1.time.dt.year).count()"
   ]
  },
  {
   "cell_type": "code",
   "execution_count": null,
   "id": "667917de",
   "metadata": {},
   "outputs": [],
   "source": [
    "df1.drop_vars('lambert_azimuthal_equal_area').to_dataframe().to_csv('/mnt/CEPH_PROJECTS/FACT_CLIMAX/CORDEX-Adjust/plots/n_dr_events_{}_{}_m.csv'.format(NAMES[var],rcp))"
   ]
  },
  {
   "cell_type": "code",
   "execution_count": null,
   "id": "223ea619",
   "metadata": {},
   "outputs": [],
   "source": [
    "fig, axes = plt.subplots(1, 1, figsize=(12, 4))\n",
    "axes.bar(df1.year,df1, width=0.7)\n",
    "axes.set_ylabel('Number of dry events')\n",
    "axes.set_title('Number of dry events')\n",
    "axes.legend(loc='best')\n",
    "\n",
    "axes.set_ylim(0,3)\n",
    "\n",
    "\n",
    "fig.savefig('/mnt/CEPH_PROJECTS/FACT_CLIMAX/CORDEX-Adjust/plots/N_dr_events_{}_{}_v1_m.png'.format(NAMES[var],rcp), dpi=300, bbox_inches='tight')"
   ]
  },
  {
   "cell_type": "code",
   "execution_count": null,
   "id": "70be78c7",
   "metadata": {},
   "outputs": [],
   "source": [
    "fig, axes = plt.subplots(1, 1, figsize=(12, 4))\n",
    "axes.plot(df1.year,df1,linestyle=\"\",marker='o',c='purple',label='moderate')\n",
    "\n",
    "axes.set_ylabel('Number of dry events')\n",
    "axes.set_title('Number of dry events')\n",
    "axes.legend(loc='best')\n",
    "\n",
    "#fig.savefig('/mnt/CEPH_PROJECTS/FACT_CLIMAX/CORDEX-Adjust/plots/N_dr_events_{}_{}_v2.png'.format(NAMES[var],rcp), dpi=300, bbox_inches='tight')"
   ]
  },
  {
   "cell_type": "code",
   "execution_count": null,
   "id": "d9dbaf4a",
   "metadata": {},
   "outputs": [],
   "source": [
    "vari=clipped_ind[var].mean(['x','y']).median(['realization']).fillna(0.0).load()\n",
    "dry_days=vari[np.where((vari.values<=-0.5))]\n",
    "\n",
    "period=[]\n",
    "values=[]\n",
    "\n",
    "f=range(0,len(vari.time)-3)\n",
    "i=0\n",
    "\n",
    "while i<=len(f):    \n",
    "    A=vari.isel(time=i).values\n",
    "    B=vari.isel(time=i+1).values\n",
    "    C=vari.isel(time=i+2).values\n",
    "    \n",
    "    if A <=-1 and B in dry_days.values and C in dry_days.values:\n",
    "        while vari.isel(time=i).values in dry_days.values:\n",
    "            period.append(vari.isel(time=i).time.values)\n",
    "\n",
    "            values.append(vari.isel(time=i).values)\n",
    "            i+=1\n",
    "    i+=1"
   ]
  },
  {
   "cell_type": "code",
   "execution_count": null,
   "id": "65ff2e13",
   "metadata": {},
   "outputs": [],
   "source": [
    "time=pd.DataFrame(period,columns=['Time'])\n",
    "values=pd.DataFrame(values,columns=['Values'])\n",
    "\n",
    "time['id'] = range(0, len(time))\n",
    "values['id'] = range(0, len(time))\n",
    "dr=pd.merge(time,values,on='id')\n",
    "dr=dr.set_index('Time')\n",
    "time_all=pd.DataFrame(vari.time.values,columns=['Time'])\n",
    "\n",
    "time_all['id'] = range(0, len(time_all))\n",
    "time_all=time_all.set_index('Time')\n",
    "\n",
    "\n",
    "dr_ts=pd.merge(dr, time_all, left_index=True, right_index=True, how=\"outer\").reset_index('Time')\n",
    "dr_ts=dr_ts[['Time','Values']]\n",
    "dr_ts = dr_ts.replace(np.nan,  999.)  #\"%.1f\" %\n",
    "\n",
    "\n",
    "#Calculating magnitude(sum) of a single drought event\n",
    "\n",
    "ar=dr_ts.Values.array\n",
    "ar_r=range(0,len(ar))\n",
    "dr_sum=[]\n",
    "i=0\n",
    "while i<=len(ar_r)-3:\n",
    "    su=0\n",
    "    if ar[i] <=0:\n",
    "        while ar[i] <=0:\n",
    "            su += ar[i]\n",
    "            i+=1\n",
    "    i+=1\n",
    "    dr_sum.append(su)\n",
    "dr_magn=np.asarray(list(dict.fromkeys(dr_sum))[1:])\n",
    "\n",
    "\n",
    "#Looking for a starting date of a single drought event\n",
    "\n",
    "k=2\n",
    "dates_strt=[]\n",
    "while k <= len(ar_r)-2:\n",
    "    if ar[k]<=0 and ar[k-1]>=0:\n",
    "        while ar[k]<=0 and ar[k-1]>=0:\n",
    "            dates_strt.append(dr_ts.Time.array[k])\n",
    "            k+=1\n",
    "    k+=1\n",
    "time_strt=pd.DataFrame(dates_strt,columns=['Time_strt'])\n",
    "Magnitude=pd.DataFrame(dr_magn,columns=['Magnitude'])\n",
    "\n",
    "\n",
    "#Looking for an ending date of a single drought event\n",
    "\n",
    "z=0\n",
    "dates_nd=[]\n",
    "while z <= len(ar_r)-2:    \n",
    "    if ar[z]<=0 and ar[z+1]>=0:\n",
    "        while ar[z]<=0 and ar[z+1]>=0:\n",
    "            dates_nd.append(dr_ts.Time.array[z])\n",
    "            z+=1\n",
    "    z+=1\n",
    "time_nd=pd.DataFrame(dates_nd,columns=['Time_nd'])\n",
    "\n",
    "\n",
    "#Calculate severity of a drought\n",
    "\n",
    "from operator import attrgetter\n",
    "\n",
    "#drought duration\n",
    "duration=(time_nd['Time_nd'].apply(lambda x: x+np.timedelta64(1, 'M')).apply(lambda x: x.to_period('M'))\n",
    "      - time_strt['Time_strt'].apply(lambda x: x.to_period('M'))).apply(attrgetter('n')) \n",
    "\n",
    "dr_sev=np.asarray(dr_magn) / duration\n",
    "Severity=pd.DataFrame(dr_sev.values,columns=['Severity'])\n",
    "Duration=pd.DataFrame(duration.values,columns=['Duration'])"
   ]
  },
  {
   "cell_type": "code",
   "execution_count": null,
   "id": "59fa7479",
   "metadata": {},
   "outputs": [],
   "source": [
    "data_frames=[time_strt,time_nd,Duration,Severity,Magnitude]\n",
    "droughts_df=pd.concat(data_frames,axis=1).rename(columns={\"Time_strt\": \"Start date\", \"Time_nd\": \"End date\"}).round({'Severity': 1, 'Magnitude': 1})\n",
    "droughts_df"
   ]
  },
  {
   "cell_type": "code",
   "execution_count": null,
   "id": "a9dc5c03",
   "metadata": {},
   "outputs": [],
   "source": [
    "droughts_df.to_csv('/mnt/CEPH_PROJECTS/FACT_CLIMAX/CORDEX-Adjust/plots/droughts_{}_{}_m.csv'.format(NAMES[var],rcp))\n"
   ]
  },
  {
   "cell_type": "code",
   "execution_count": null,
   "id": "2179315b",
   "metadata": {},
   "outputs": [],
   "source": [
    "fig, axes = plt.subplots(1, 2, figsize=(16, 4))\n",
    "axes = axes.flatten()\n",
    "\n",
    "t_s=np.arange(0,len(droughts_df['Start date']))\n",
    "z_s=np.polyfit(t_s, droughts_df['Severity'].values, 1)\n",
    "p_s=np.poly1d(z_s)\n",
    "\n",
    "axes[0].plot(droughts_df['Start date'],droughts_df['Severity'],c='black')\n",
    "##axes[0].plot(droughts_df['Time_strt'].values,p_s(t_s),\"r\")\n",
    "axes[0].set_title('Severity of drought events')\n",
    "trend, h, p, z, Tau, s, var_s, slope, intercept= mk.original_test(droughts_df['Severity'].values)\n",
    "axes[0].text(x=30000 , y=-1.7, s='p-value = {:.2f}, trend - {}'.format(p.item(),trend), fontsize=12, ha='right')\n",
    "axes[0].set_ylabel(NAMES[var])\n",
    "axes[0].set_xlabel('Year')\n",
    "\n",
    "t_m=np.arange(0,len(droughts_df['Start date']))\n",
    "z_m=np.polyfit(t_m, droughts_df['Magnitude'].values, 1)\n",
    "p_m=np.poly1d(z_m)\n",
    "#res = stats.theilslopes(country.groupby(country.time.dt.month)[j].mean(['x','y']).values, p_s(x_s), 0.95)\n",
    "\n",
    "axes[1].plot(droughts_df['Start date'],droughts_df['Magnitude'],c='black')\n",
    "##axes[1].plot(droughts_df['Time_strt'].values,p_m(t_m),\"r\")\n",
    "axes[1].set_title('Magnitude of drought events')\n",
    "trend, h, p, z, Tau, s, var_s, slope, intercept= mk.original_test(droughts_df['Magnitude'].values)\n",
    "axes[1].text(x=30000 , y=-120, s='p-value = {:.2f}, trend - {}'.format(p.item(), trend), fontsize=12, ha='right')\n",
    "axes[1].set_ylabel(NAMES[var])\n",
    "axes[1].set_xlabel('Year')\n",
    "\n",
    "fig.savefig('/mnt/CEPH_PROJECTS/FACT_CLIMAX/CORDEX-Adjust/plots/sev_magn_{}_{}_m.png'.format(NAMES[var],rcp), dpi=300, bbox_inches='tight')"
   ]
  },
  {
   "cell_type": "code",
   "execution_count": null,
   "id": "27d3b96c",
   "metadata": {},
   "outputs": [],
   "source": []
  },
  {
   "cell_type": "code",
   "execution_count": null,
   "id": "191ff2bc",
   "metadata": {},
   "outputs": [],
   "source": []
  }
 ],
 "metadata": {
  "kernelspec": {
   "display_name": "Python 3",
   "language": "python",
   "name": "python3"
  },
  "language_info": {
   "codemirror_mode": {
    "name": "ipython",
    "version": 3
   },
   "file_extension": ".py",
   "mimetype": "text/x-python",
   "name": "python",
   "nbconvert_exporter": "python",
   "pygments_lexer": "ipython3",
   "version": "3.7.8"
  }
 },
 "nbformat": 4,
 "nbformat_minor": 5
}
