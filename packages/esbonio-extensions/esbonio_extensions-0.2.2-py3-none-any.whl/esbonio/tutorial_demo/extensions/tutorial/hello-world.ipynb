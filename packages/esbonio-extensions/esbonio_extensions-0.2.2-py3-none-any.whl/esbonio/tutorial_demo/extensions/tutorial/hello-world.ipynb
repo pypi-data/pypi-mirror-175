{
 "cells": [
  {
   "cell_type": "markdown",
   "id": "hello-world",
   "metadata": {},
   "source": [
    "\n",
    "# Hello World\n",
    "\n",
    "Here is how you print the string `Hello, World!` in Python:\n"
   ]
  },
  {
   "cell_type": "code",
   "execution_count": null,
   "id": "a0b5a72f",
   "metadata": {},
   "outputs": [],
   "source": [
    "print(\"Hello, World!\")"
   ]
  }
 ],
 "metadata": {},
 "nbformat": 4,
 "nbformat_minor": 5
}