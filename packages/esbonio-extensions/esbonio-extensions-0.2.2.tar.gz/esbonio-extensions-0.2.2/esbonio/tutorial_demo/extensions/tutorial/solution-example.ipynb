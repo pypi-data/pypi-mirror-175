{
 "cells": [
  {
   "cell_type": "markdown",
   "id": "solution-example",
   "metadata": {},
   "source": [
    "\n",
    "# Solution Example\n",
    "\n",
    "This is an example of how to write a tutorial that includes solutions\n",
    "\n",
    "[`sorted()`](https://docs.python.org/3/library/functions.html#sorted) is a function that can be used to sort a list of items:\n"
   ]
  },
  {
   "cell_type": "code",
   "execution_count": null,
   "id": "85333758",
   "metadata": {},
   "outputs": [],
   "source": [
    "nums = [5, 3, 8, -23, 11, 2, 1]\n",
    "sorted(nums)"
   ]
  },
  {
   "cell_type": "markdown",
   "id": "5986e929",
   "metadata": {},
   "source": [
    "\n",
    "The `reverse` flag can be used to sort the items in descending order:\n"
   ]
  },
  {
   "cell_type": "code",
   "execution_count": null,
   "id": "4d37ce9f",
   "metadata": {},
   "outputs": [],
   "source": [
    "sorted(nums, reverse=True)"
   ]
  },
  {
   "cell_type": "markdown",
   "id": "349d9197",
   "metadata": {},
   "source": [
    "\n",
    "Of course this function can be used to sort more than just numbers:\n"
   ]
  },
  {
   "cell_type": "code",
   "execution_count": null,
   "id": "001018b8",
   "metadata": {},
   "outputs": [],
   "source": [
    "fruit = [\"cherry\", \"apple\", \"kiwi\", \"orange\", \"strawberry\", \"banana\"]\n",
    "sorted(fruit)"
   ]
  },
  {
   "cell_type": "markdown",
   "id": "d0c18a96",
   "metadata": {},
   "source": [
    "\n",
    "It’s even possible to provide a custom function to specify the criteria by which\n",
    "you want the items sorted. For example, instead of sorting fruit alphabetically,\n",
    "we can sort them by the number of characters in their name:\n"
   ]
  },
  {
   "cell_type": "code",
   "execution_count": null,
   "id": "53f833f1",
   "metadata": {},
   "outputs": [],
   "source": [
    "sorted(fruit, key=len)"
   ]
  },
  {
   "cell_type": "markdown",
   "id": "e9436f78",
   "metadata": {},
   "source": [
    "\n",
    "## Exercises\n",
    "\n",
    "Test your understanding with the following excercises\n",
    "\n",
    "### Exercise 1\n",
    "\n",
    "Sort the list of fruit, by the number of characters in their name in descending\n",
    "order\n"
   ]
  },
  {
   "cell_type": "code",
   "execution_count": null,
   "id": "b2ec9f1e",
   "metadata": {},
   "outputs": [],
   "source": [
    "# Write your solution here...\n"
   ]
  },
  {
   "cell_type": "code",
   "execution_count": null,
   "id": "a60c5ce4",
   "metadata": {},
   "outputs": [],
   "source": [
    "# Execute this cell to load the example solution\n",
    "%load ../../resources/extensions/tutorial/solution-example/solution-example-soln-01.py\n"
   ]
  },
  {
   "cell_type": "markdown",
   "id": "cfa38d17",
   "metadata": {},
   "source": [
    "\n",
    "### Exercise 2\n",
    "\n",
    "Sort the list of fruit, by the number of vowels in their name in ascending order\n"
   ]
  },
  {
   "cell_type": "code",
   "execution_count": null,
   "id": "95836c12",
   "metadata": {},
   "outputs": [],
   "source": [
    "# Write your solution here...\n"
   ]
  },
  {
   "cell_type": "code",
   "execution_count": null,
   "id": "d86d72d4",
   "metadata": {},
   "outputs": [],
   "source": [
    "# Execute this cell to load the example solution\n",
    "%load ../../resources/extensions/tutorial/solution-example/solution-example-soln-02.py\n"
   ]
  },
  {
   "cell_type": "markdown",
   "id": "1fa1932e",
   "metadata": {},
   "source": [
    "\n",
    "### Exercise 3\n",
    "\n",
    "Given the following list of tuples, representing fruit and their corresponding\n",
    "cost, sort them from most to least expensive:\n"
   ]
  },
  {
   "cell_type": "code",
   "execution_count": null,
   "id": "405d7f17",
   "metadata": {},
   "outputs": [],
   "source": [
    "fruit = [(\"cherry\", 0.2), (\"apple\", 1.2), (\"kiwi\", 2.5), (\"orange\", 2), (\"strawberry\", 0.5), (\"banana\", 1.8)]"
   ]
  },
  {
   "cell_type": "code",
   "execution_count": null,
   "id": "7e925288",
   "metadata": {},
   "outputs": [],
   "source": [
    "# Write your solution here...\n"
   ]
  },
  {
   "cell_type": "code",
   "execution_count": null,
   "id": "a6182072",
   "metadata": {},
   "outputs": [],
   "source": [
    "# Execute this cell to load the example solution\n",
    "%load ../../resources/extensions/tutorial/solution-example/solution-example-soln-03.py\n"
   ]
  }
 ],
 "metadata": {},
 "nbformat": 4,
 "nbformat_minor": 5
}