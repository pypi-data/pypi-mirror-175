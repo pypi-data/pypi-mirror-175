{
 "cells": [
  {
   "cell_type": "markdown",
   "metadata": {},
   "source": [
    "# ❤️ Lovely JAX\n",
    "\n",
    "> After all, you are only human."
   ]
  },
  {
   "cell_type": "markdown",
   "metadata": {},
   "source": [
    "## Read full docs [here](https://xl0.github.io/lovely-tensors/)"
   ]
  },
  {
   "cell_type": "markdown",
   "metadata": {},
   "source": [
    "## Install\n",
    "\n",
    "```sh\n",
    "pip install lovely-jax\n",
    "```"
   ]
  },
  {
   "cell_type": "markdown",
   "metadata": {},
   "source": [
    "## How to use"
   ]
  },
  {
   "cell_type": "code",
   "execution_count": null,
   "metadata": {},
   "outputs": [],
   "source": [
    "# |hide\n",
    "import jax.numpy as jnp\n",
    "from PIL import Image\n",
    "from fastcore.test import test_eq"
   ]
  },
  {
   "cell_type": "code",
   "execution_count": null,
   "metadata": {},
   "outputs": [],
   "source": [
    "# |hide\n",
    "# torch.set_printoptions(linewidth=120)"
   ]
  },
  {
   "cell_type": "code",
   "execution_count": null,
   "metadata": {},
   "outputs": [],
   "source": [
    "# |hide\n",
    "# Don't depend on torchvision\n",
    "# numbers = VF.normalize(VF.center_crop(VF.to_tensor(Image.open(\"tenchman.jpg\")), 196), **in_stats)\n",
    "numbers = jnp.load(\"mysteryman.npy\")\n",
    "numbers1 = numbers"
   ]
  },
  {
   "cell_type": "markdown",
   "metadata": {},
   "source": [
    "How often do you find yourself debugging PyTorch code? You dump a tensor to the cell output, and see this:"
   ]
  },
  {
   "cell_type": "code",
   "execution_count": null,
   "metadata": {},
   "outputs": [],
   "source": [
    "# |hide\n",
    "import lovely_jax as lj"
   ]
  },
  {
   "cell_type": "code",
   "execution_count": null,
   "metadata": {},
   "outputs": [],
   "source": [
    "# |hide\n",
    "# A trick to make sure README.md shows the plain version.\n",
    "lj.monkey_patch()\n",
    "numbers = numbers.p"
   ]
  },
  {
   "cell_type": "code",
   "execution_count": null,
   "metadata": {},
   "outputs": [
    {
     "data": {
      "text/plain": [
       "DeviceArray([[[-0.35405433, -0.33692956, -0.4054286 , ..., -0.55955136,\n",
       "               -0.4739276 ,  2.2489083 ],\n",
       "              [-0.4054286 , -0.42255333, -0.49105233, ..., -0.91917115,\n",
       "               -0.8506721 ,  2.1632845 ],\n",
       "              [-0.4739276 , -0.4739276 , -0.5424266 , ..., -1.0390445 ,\n",
       "               -1.0390445 ,  2.1975338 ],\n",
       "              ...,\n",
       "              [-0.9020464 , -0.8335474 , -0.9362959 , ..., -1.4671633 ,\n",
       "               -1.2959158 ,  2.2317834 ],\n",
       "              [-0.8506721 , -0.78217316, -0.9362959 , ..., -1.6041614 ,\n",
       "               -1.5014129 ,  2.1804092 ],\n",
       "              [-0.8335474 , -0.81642264, -0.9705454 , ..., -1.6555357 ,\n",
       "               -1.5527872 ,  2.11191   ]],\n",
       "\n",
       "             [[-0.19747896, -0.19747896, -0.30252096, ..., -0.47759098,\n",
       "               -0.37254897,  2.4110641 ],\n",
       "              [-0.24999997, -0.23249297, -0.33753496, ..., -0.705182  ,\n",
       "               -0.670168  ,  2.3585434 ],\n",
       "              [-0.30252096, -0.28501397, -0.39005598, ..., -0.740196  ,\n",
       "               -0.810224  ,  2.3760502 ],\n",
       "              ...,\n",
       "              [-0.42507   , -0.23249297, -0.37254897, ..., -1.0903361 ,\n",
       "               -1.0203081 ,  2.4285715 ],\n",
       "              [-0.39005598, -0.23249297, -0.42507   , ..., -1.230392  ,\n",
       "               -1.230392  ,  2.4110641 ],\n",
       "              [-0.40756297, -0.28501397, -0.47759098, ..., -1.2829131 ,\n",
       "               -1.2829131 ,  2.3410363 ]],\n",
       "\n",
       "             [[-0.67154676, -0.9852723 , -0.88069713, ..., -0.9678431 ,\n",
       "               -0.68897593,  2.3959913 ],\n",
       "              [-0.7238344 , -1.0724182 , -0.9678431 , ..., -1.2467101 ,\n",
       "               -1.0201306 ,  2.3262744 ],\n",
       "              [-0.82840955, -1.1247058 , -1.0201306 , ..., -1.2641394 ,\n",
       "               -1.1595641 ,  2.3785625 ],\n",
       "              ...,\n",
       "              [-1.229281  , -1.4732897 , -1.3861438 , ..., -1.5081482 ,\n",
       "               -1.2641394 ,  2.5179958 ],\n",
       "              [-1.1944225 , -1.4558606 , -1.4210021 , ..., -1.6475817 ,\n",
       "               -1.4732897 ,  2.4308496 ],\n",
       "              [-1.229281  , -1.5255773 , -1.5081482 , ..., -1.68244   ,\n",
       "               -1.5255773 ,  2.3611329 ]]], dtype=float32)"
      ]
     },
     "execution_count": null,
     "metadata": {},
     "output_type": "execute_result"
    }
   ],
   "source": [
    "numbers "
   ]
  },
  {
   "cell_type": "code",
   "execution_count": null,
   "metadata": {},
   "outputs": [],
   "source": [
    "# | hide\n",
    "numbers = numbers1"
   ]
  },
  {
   "cell_type": "markdown",
   "metadata": {},
   "source": [
    "Was it really useful for you, as a human, to see all these numbers?\n",
    "\n",
    "What is the shape? The size?\\\n",
    "What are the statistics?\\\n",
    "Are any of the values `nan` or `inf`?\\\n",
    "Is it an image of a man holding a tench?"
   ]
  },
  {
   "cell_type": "code",
   "execution_count": null,
   "metadata": {},
   "outputs": [],
   "source": [
    "import lovely_jax as lj"
   ]
  },
  {
   "cell_type": "code",
   "execution_count": null,
   "metadata": {},
   "outputs": [],
   "source": [
    "lj.monkey_patch()"
   ]
  },
  {
   "cell_type": "markdown",
   "metadata": {},
   "source": [
    "## `__repr__`"
   ]
  },
  {
   "cell_type": "code",
   "execution_count": null,
   "metadata": {},
   "outputs": [
    {
     "data": {
      "text/plain": [
       "DeviceArray[3, 196, 196] n=115248 x∈[-2.118, 2.640] μ=-0.388 σ=1.073"
      ]
     },
     "execution_count": null,
     "metadata": {},
     "output_type": "execute_result"
    }
   ],
   "source": [
    "numbers # torch.Tensor"
   ]
  },
  {
   "cell_type": "markdown",
   "metadata": {},
   "source": [
    "Better, huh?"
   ]
  },
  {
   "cell_type": "code",
   "execution_count": null,
   "metadata": {},
   "outputs": [
    {
     "data": {
      "text/plain": [
       "DeviceArray[6] x∈[-0.443, -0.197] μ=-0.311 σ=0.083 [-0.197, -0.232, -0.285, -0.373, -0.443, -0.338]"
      ]
     },
     "execution_count": null,
     "metadata": {},
     "output_type": "execute_result"
    }
   ],
   "source": [
    "numbers[1,:6,1] # Still shows values if there are not too many."
   ]
  },
  {
   "cell_type": "code",
   "execution_count": null,
   "metadata": {},
   "outputs": [
    {
     "data": {
      "text/plain": [
       "DeviceArray[2, 6] n=12 x∈[-3.541e+03, -3.369e-05] μ=-393.776 σ=1.113e+03 \u001b[31m+inf!\u001b[0m \u001b[31m-inf!\u001b[0m \u001b[31mnan!\u001b[0m"
      ]
     },
     "execution_count": null,
     "metadata": {},
     "output_type": "execute_result"
    }
   ],
   "source": [
    "spicy = numbers.flatten()[:12].clone()\n",
    "\n",
    "spicy = (spicy  .at[0].mul(10000)\n",
    "                .at[1].divide(10000)\n",
    "                .at[2].set(float('inf'))\n",
    "                .at[3].set(float('-inf'))\n",
    "                .at[4].set(float('nan'))\n",
    "                .reshape((2,6)))\n",
    "spicy # Spicy stuff"
   ]
  },
  {
   "cell_type": "code",
   "execution_count": null,
   "metadata": {},
   "outputs": [
    {
     "data": {
      "text/plain": [
       "DeviceArray[10, 10] n=100 \u001b[38;2;127;127;127mall_zeros\u001b[0m"
      ]
     },
     "execution_count": null,
     "metadata": {},
     "output_type": "execute_result"
    }
   ],
   "source": [
    "jnp.zeros((10, 10)) # A zero tensor - make it obvious"
   ]
  },
  {
   "cell_type": "code",
   "execution_count": null,
   "metadata": {},
   "outputs": [
    {
     "data": {
      "text/plain": [
       "DeviceArray[2, 6] n=12 x∈[-3.541e+03, -3.369e-05] μ=-393.776 σ=1.113e+03 \u001b[31m+inf!\u001b[0m \u001b[31m-inf!\u001b[0m \u001b[31mnan!\u001b[0m\n",
       "DeviceArray([[-3.5405432e+03, -3.3692959e-05,            inf,\n",
       "                        -inf,            nan, -4.0542859e-01],\n",
       "             [-4.2255333e-01, -4.9105233e-01, -5.0817710e-01,\n",
       "              -5.5955136e-01, -5.4242659e-01, -5.0817710e-01]],            dtype=float32)"
      ]
     },
     "execution_count": null,
     "metadata": {},
     "output_type": "execute_result"
    }
   ],
   "source": [
    "spicy.v # Verbose"
   ]
  },
  {
   "cell_type": "code",
   "execution_count": null,
   "metadata": {},
   "outputs": [
    {
     "data": {
      "text/plain": [
       "DeviceArray([[-3.5405432e+03, -3.3692959e-05,            inf,\n",
       "                        -inf,            nan, -4.0542859e-01],\n",
       "             [-4.2255333e-01, -4.9105233e-01, -5.0817710e-01,\n",
       "              -5.5955136e-01, -5.4242659e-01, -5.0817710e-01]],            dtype=float32)"
      ]
     },
     "execution_count": null,
     "metadata": {},
     "output_type": "execute_result"
    }
   ],
   "source": [
    "spicy.p # The plain old way"
   ]
  },
  {
   "cell_type": "markdown",
   "metadata": {},
   "source": [
    "## Going `.deeper`"
   ]
  },
  {
   "cell_type": "code",
   "execution_count": null,
   "metadata": {},
   "outputs": [
    {
     "data": {
      "text/plain": [
       "DeviceArray[3, 196, 196] n=115248 x∈[-2.118, 2.640] μ=-0.388 σ=1.073\n",
       "  DeviceArray[196, 196] n=38416 x∈[-2.118, 2.249] μ=-0.324 σ=1.036\n",
       "  DeviceArray[196, 196] n=38416 x∈[-1.966, 2.429] μ=-0.274 σ=0.973\n",
       "  DeviceArray[196, 196] n=38416 x∈[-1.804, 2.640] μ=-0.567 σ=1.178"
      ]
     },
     "execution_count": null,
     "metadata": {},
     "output_type": "execute_result"
    }
   ],
   "source": [
    "numbers.deeper"
   ]
  },
  {
   "cell_type": "code",
   "execution_count": null,
   "metadata": {},
   "outputs": [
    {
     "data": {
      "text/plain": [
       "DeviceArray[3, 3, 5] n=45 x∈[-1.316, -0.197] μ=-0.593 σ=0.302\n",
       "  DeviceArray[3, 5] n=15 x∈[-0.765, -0.337] μ=-0.492 σ=0.119\n",
       "    DeviceArray[5] x∈[-0.440, -0.337] μ=-0.385 σ=0.037 [-0.354, -0.337, -0.405, -0.440, -0.388]\n",
       "    DeviceArray[5] x∈[-0.662, -0.405] μ=-0.512 σ=0.097 [-0.405, -0.423, -0.491, -0.577, -0.662]\n",
       "    DeviceArray[5] x∈[-0.765, -0.474] μ=-0.580 σ=0.112 [-0.474, -0.474, -0.542, -0.645, -0.765]\n",
       "  DeviceArray[3, 5] n=15 x∈[-0.513, -0.197] μ=-0.321 σ=0.096\n",
       "    DeviceArray[5] x∈[-0.303, -0.197] μ=-0.243 σ=0.049 [-0.197, -0.197, -0.303, -0.303, -0.215]\n",
       "    DeviceArray[5] x∈[-0.408, -0.232] μ=-0.327 σ=0.075 [-0.250, -0.232, -0.338, -0.408, -0.408]\n",
       "    DeviceArray[5] x∈[-0.513, -0.285] μ=-0.394 σ=0.091 [-0.303, -0.285, -0.390, -0.478, -0.513]\n",
       "  DeviceArray[3, 5] n=15 x∈[-1.316, -0.672] μ=-0.964 σ=0.170\n",
       "    DeviceArray[5] x∈[-0.985, -0.672] μ=-0.846 σ=0.110 [-0.672, -0.985, -0.881, -0.776, -0.916]\n",
       "    DeviceArray[5] x∈[-1.212, -0.724] μ=-0.989 σ=0.160 [-0.724, -1.072, -0.968, -0.968, -1.212]\n",
       "    DeviceArray[5] x∈[-1.316, -0.828] μ=-1.058 σ=0.160 [-0.828, -1.125, -1.020, -1.003, -1.316]"
      ]
     },
     "execution_count": null,
     "metadata": {},
     "output_type": "execute_result"
    }
   ],
   "source": [
    "# You can go deeper if you need to\n",
    "numbers[:,:3,:5].deeper(2)"
   ]
  },
  {
   "cell_type": "code",
   "execution_count": null,
   "metadata": {},
   "outputs": [],
   "source": [
    "# |hide\n",
    "\n",
    "# numbers.rgb"
   ]
  },
  {
   "cell_type": "code",
   "execution_count": null,
   "metadata": {},
   "outputs": [],
   "source": [
    "# |hide\n",
    "\n",
    "# in_stats = ( (0.485, 0.456, 0.406),     # mean \n",
    "#              (0.229, 0.224, 0.225) )    # std\n",
    "\n",
    "# numbers.rgb(in_stats, cl=True) # For channel-last input format\n",
    "# numbers.rgb(in_stats)"
   ]
  },
  {
   "cell_type": "code",
   "execution_count": null,
   "metadata": {},
   "outputs": [],
   "source": [
    "# |hide\n",
    "\n",
    "# torch.manual_seed(42) # For reproducibility of flots, otherwise we updatem the images in git every time."
   ]
  },
  {
   "cell_type": "code",
   "execution_count": null,
   "metadata": {},
   "outputs": [],
   "source": [
    "# |hide\n",
    "\n",
    "# (numbers+3).plt"
   ]
  },
  {
   "cell_type": "code",
   "execution_count": null,
   "metadata": {},
   "outputs": [],
   "source": [
    "# |hide\n",
    "\n",
    "# (numbers+3).plt(center=\"mean\", max_s=1000)"
   ]
  },
  {
   "cell_type": "code",
   "execution_count": null,
   "metadata": {},
   "outputs": [],
   "source": [
    "# |hide\n",
    "\n",
    "\n",
    "# (numbers+3).plt(center=\"range\")"
   ]
  },
  {
   "cell_type": "code",
   "execution_count": null,
   "metadata": {},
   "outputs": [],
   "source": [
    "# |hide\n",
    "\n",
    "# .chans will map values betwen [0,1] to colors.\n",
    "# Make our values fit into that range to avoid clipping.\n",
    "# mean = torch.tensor(in_stats[0])[:,None,None]\n",
    "# std = torch.tensor(in_stats[1])[:,None,None]\n",
    "# numbers_01 = (numbers*std + mean)\n",
    "# numbers_01"
   ]
  },
  {
   "cell_type": "code",
   "execution_count": null,
   "metadata": {},
   "outputs": [],
   "source": [
    "# |hide\n",
    "# |eval: false\n",
    "\n",
    "# numbers_01.chans"
   ]
  },
  {
   "cell_type": "code",
   "execution_count": null,
   "metadata": {},
   "outputs": [],
   "source": [
    "# |hide\n",
    "# |eval: false\n",
    "\n",
    "\n",
    "# |eval: false\n",
    "from torchvision.models import vgg11"
   ]
  },
  {
   "cell_type": "code",
   "execution_count": null,
   "metadata": {},
   "outputs": [],
   "source": [
    "# |hide\n",
    "# |eval: false\n",
    "\n",
    "# features = vgg11().features\n",
    "\n",
    "# Note: I only saved the first 5 layers in \"features.pt\"\n",
    "# _ = features.load_state_dict(torch.load(\"../features.pt\"), strict=False)"
   ]
  },
  {
   "cell_type": "code",
   "execution_count": null,
   "metadata": {},
   "outputs": [],
   "source": [
    "# |hide\n",
    "# |eval: false\n",
    "\n",
    "# Activatons of the second max pool layer of VGG11\n",
    "\n",
    "# print(features[5])\n",
    "\n",
    "# acts = (features[:6](numbers[None])[0]/2) # /2 to reduce clipping\n",
    "# acts"
   ]
  },
  {
   "cell_type": "code",
   "execution_count": null,
   "metadata": {},
   "outputs": [],
   "source": [
    "# |hide\n",
    "# |eval: false\n",
    "\n",
    "# acts.chans"
   ]
  },
  {
   "cell_type": "markdown",
   "metadata": {},
   "source": [
    "## Without `.monkey_patch`"
   ]
  },
  {
   "cell_type": "code",
   "execution_count": null,
   "metadata": {},
   "outputs": [
    {
     "data": {
      "text/plain": [
       "DeviceArray[2, 6] n=12 x∈[-3.541e+03, -3.369e-05] μ=-393.776 σ=1.113e+03 \u001b[31m+inf!\u001b[0m \u001b[31m-inf!\u001b[0m \u001b[31mnan!\u001b[0m"
      ]
     },
     "execution_count": null,
     "metadata": {},
     "output_type": "execute_result"
    }
   ],
   "source": [
    "lj.lovely(spicy)"
   ]
  },
  {
   "cell_type": "code",
   "execution_count": null,
   "metadata": {},
   "outputs": [
    {
     "data": {
      "text/plain": [
       "DeviceArray[2, 6] n=12 x∈[-3.541e+03, -3.369e-05] μ=-393.776 σ=1.113e+03 \u001b[31m+inf!\u001b[0m \u001b[31m-inf!\u001b[0m \u001b[31mnan!\u001b[0m\n",
       "DeviceArray([[-3.5405432e+03, -3.3692959e-05,            inf,\n",
       "                        -inf,            nan, -4.0542859e-01],\n",
       "             [-4.2255333e-01, -4.9105233e-01, -5.0817710e-01,\n",
       "              -5.5955136e-01, -5.4242659e-01, -5.0817710e-01]],            dtype=float32)"
      ]
     },
     "execution_count": null,
     "metadata": {},
     "output_type": "execute_result"
    }
   ],
   "source": [
    "lj.lovely(spicy, verbose=True)"
   ]
  },
  {
   "cell_type": "code",
   "execution_count": null,
   "metadata": {},
   "outputs": [
    {
     "data": {
      "text/plain": [
       "DeviceArray[3, 196, 196] n=115248 x∈[-2.118, 2.640] μ=-0.388 σ=1.073\n",
       "  DeviceArray[196, 196] n=38416 x∈[-2.118, 2.249] μ=-0.324 σ=1.036\n",
       "  DeviceArray[196, 196] n=38416 x∈[-1.966, 2.429] μ=-0.274 σ=0.973\n",
       "  DeviceArray[196, 196] n=38416 x∈[-1.804, 2.640] μ=-0.567 σ=1.178"
      ]
     },
     "execution_count": null,
     "metadata": {},
     "output_type": "execute_result"
    }
   ],
   "source": [
    "lj.lovely(numbers, depth=1)"
   ]
  },
  {
   "cell_type": "code",
   "execution_count": null,
   "metadata": {},
   "outputs": [],
   "source": [
    "# |hide\n",
    "\n",
    "#lj.rgb(numbers, in_stats)"
   ]
  },
  {
   "cell_type": "code",
   "execution_count": null,
   "metadata": {},
   "outputs": [],
   "source": [
    "# |hide\n",
    "# torch.manual_seed(42) # For reproducibility of flots, otherwise we updatem the images in git every time."
   ]
  },
  {
   "cell_type": "code",
   "execution_count": null,
   "metadata": {},
   "outputs": [],
   "source": [
    "# |hide\n",
    "\n",
    "# lt.plot(numbers, center=\"mean\")"
   ]
  },
  {
   "cell_type": "code",
   "execution_count": null,
   "metadata": {},
   "outputs": [],
   "source": [
    "# |hide\n",
    "\n",
    "# lt.chans(numbers_01)"
   ]
  }
 ],
 "metadata": {
  "kernelspec": {
   "display_name": "Python 3.10.6 ('torch')",
   "language": "python",
   "name": "python3"
  }
 },
 "nbformat": 4,
 "nbformat_minor": 4
}
