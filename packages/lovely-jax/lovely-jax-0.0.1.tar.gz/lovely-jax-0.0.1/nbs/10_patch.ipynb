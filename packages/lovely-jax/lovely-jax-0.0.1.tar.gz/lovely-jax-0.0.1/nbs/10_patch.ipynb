{
 "cells": [
  {
   "cell_type": "markdown",
   "metadata": {},
   "source": [
    "# Monkey-patching\n"
   ]
  },
  {
   "cell_type": "code",
   "execution_count": null,
   "metadata": {},
   "outputs": [],
   "source": [
    "#| default_exp patch"
   ]
  },
  {
   "cell_type": "code",
   "execution_count": null,
   "metadata": {},
   "outputs": [],
   "source": [
    "# |hide\n",
    "from nbdev.showdoc import *"
   ]
  },
  {
   "cell_type": "code",
   "execution_count": null,
   "metadata": {},
   "outputs": [],
   "source": [
    "#| hide\n",
    "#| export\n",
    "\n",
    "import jax.numpy as jnp\n",
    "from fastcore.foundation import patch_to\n",
    "import matplotlib.pyplot as plt\n",
    "\n",
    "from lovely_jax.repr_str import StrProxy\n",
    "# from lovely_tensors.repr_rgb import RGBProxy\n",
    "# from lovely_tensors.repr_plt import PlotProxy\n",
    "# from lovely_tensors.repr_chans import ChanProxy"
   ]
  },
  {
   "cell_type": "code",
   "execution_count": null,
   "metadata": {},
   "outputs": [],
   "source": [
    "# |export\n",
    "def monkey_patch(cls=jnp.DeviceArray):\n",
    "    \"Monkey-patch lovely features into `cls`\" \n",
    "\n",
    "    # print(cls)\n",
    "    # print(cls.__repr__)\n",
    "    # print(cls.__repr)\n",
    "\n",
    "    if not hasattr(cls, '_plain_repr'):\n",
    "        cls._plain_repr = cls.__repr__\n",
    "\n",
    "    @patch_to(cls)\n",
    "    def __repr__(self: jnp.DeviceArray):\n",
    "        \n",
    "        return str(StrProxy(self))\n",
    "\n",
    "    # Plain - the old behavior\n",
    "    @patch_to(cls, as_prop=True)\n",
    "    def p(self: jnp.DeviceArray):\n",
    "        return StrProxy(self, plain=True)\n",
    "\n",
    "    # Verbose - print both stats and plain values\n",
    "    @patch_to(cls, as_prop=True)\n",
    "    def v(self: jnp.DeviceArray):\n",
    "        return StrProxy(self, verbose=True)\n",
    "\n",
    "    @patch_to(cls, as_prop=True)\n",
    "    def deeper(self: jnp.DeviceArray):\n",
    "        return StrProxy(self, depth=1)\n",
    "\n",
    "    # @patch_to(cls, as_prop=True)\n",
    "    # def rgb(t: torch.Tensor):\n",
    "    #     return RGBProxy(t)\n",
    "    \n",
    "    # @patch_to(cls, as_prop=True)\n",
    "    # def chans(t: torch.Tensor):\n",
    "    #     return ChanProxy(t)\n",
    "\n",
    "    # @patch_to(cls, as_prop=True)\n",
    "    # def plt(t: torch.Tensor):\n",
    "    #     return PlotProxy(t)"
   ]
  },
  {
   "cell_type": "code",
   "execution_count": null,
   "metadata": {},
   "outputs": [],
   "source": [
    "monkey_patch()"
   ]
  },
  {
   "cell_type": "code",
   "execution_count": null,
   "metadata": {},
   "outputs": [],
   "source": []
  },
  {
   "cell_type": "code",
   "execution_count": null,
   "metadata": {},
   "outputs": [],
   "source": [
    "image = jnp.load(\"mysteryman.npy\")"
   ]
  },
  {
   "cell_type": "code",
   "execution_count": null,
   "metadata": {},
   "outputs": [
    {
     "data": {
      "text/plain": [
       "DeviceArray[2, 6] n=12 x∈[-3.541e+03, -3.369e-05] μ=-393.776 σ=1.113e+03 \u001b[31m+inf!\u001b[0m \u001b[31m-inf!\u001b[0m \u001b[31mnan!\u001b[0m"
      ]
     },
     "execution_count": null,
     "metadata": {},
     "output_type": "execute_result"
    }
   ],
   "source": [
    "spicy = image[0,0,:12].clone()\n",
    "\n",
    "spicy = (spicy  .at[0].mul(10000)\n",
    "                .at[1].divide(10000)\n",
    "                .at[2].set(float('inf'))\n",
    "                .at[3].set(float('-inf'))\n",
    "                .at[4].set(float('nan'))\n",
    "                .reshape((2,6)))\n",
    "\n",
    "spicy"
   ]
  },
  {
   "cell_type": "code",
   "execution_count": null,
   "metadata": {},
   "outputs": [
    {
     "data": {
      "text/plain": [
       "DeviceArray[2, 6] n=12 x∈[-3.541e+03, -3.369e-05] μ=-393.776 σ=1.113e+03 \u001b[31m+inf!\u001b[0m \u001b[31m-inf!\u001b[0m \u001b[31mnan!\u001b[0m\n",
       "DeviceArray([[-3.5405432e+03, -3.3692959e-05,            inf,\n",
       "                        -inf,            nan, -4.0542859e-01],\n",
       "             [-4.2255333e-01, -4.9105233e-01, -5.0817710e-01,\n",
       "              -5.5955136e-01, -5.4242659e-01, -5.0817710e-01]],            dtype=float32)"
      ]
     },
     "execution_count": null,
     "metadata": {},
     "output_type": "execute_result"
    }
   ],
   "source": [
    "spicy.v # Verbose"
   ]
  },
  {
   "cell_type": "code",
   "execution_count": null,
   "metadata": {},
   "outputs": [
    {
     "data": {
      "text/plain": [
       "DeviceArray([[-3.5405432e+03, -3.3692959e-05,            inf,\n",
       "                        -inf,            nan, -4.0542859e-01],\n",
       "             [-4.2255333e-01, -4.9105233e-01, -5.0817710e-01,\n",
       "              -5.5955136e-01, -5.4242659e-01, -5.0817710e-01]],            dtype=float32)"
      ]
     },
     "execution_count": null,
     "metadata": {},
     "output_type": "execute_result"
    }
   ],
   "source": [
    "spicy.p # Plain"
   ]
  },
  {
   "cell_type": "code",
   "execution_count": null,
   "metadata": {},
   "outputs": [
    {
     "data": {
      "text/plain": [
       "DeviceArray[3, 196, 196] n=115248 x∈[-2.118, 2.640] μ=-0.388 σ=1.073\n",
       "  DeviceArray[196, 196] n=38416 x∈[-2.118, 2.249] μ=-0.324 σ=1.036\n",
       "  DeviceArray[196, 196] n=38416 x∈[-1.966, 2.429] μ=-0.274 σ=0.973\n",
       "  DeviceArray[196, 196] n=38416 x∈[-1.804, 2.640] μ=-0.567 σ=1.178"
      ]
     },
     "execution_count": null,
     "metadata": {},
     "output_type": "execute_result"
    }
   ],
   "source": [
    "image.deeper"
   ]
  },
  {
   "cell_type": "code",
   "execution_count": null,
   "metadata": {},
   "outputs": [
    {
     "data": {
      "text/plain": [
       "DeviceArray[3, 3, 5] n=45 x∈[-1.316, -0.197] μ=-0.593 σ=0.302\n",
       "  DeviceArray[3, 5] n=15 x∈[-0.765, -0.337] μ=-0.492 σ=0.119\n",
       "    DeviceArray[5] x∈[-0.440, -0.337] μ=-0.385 σ=0.037 [-0.354, -0.337, -0.405, -0.440, -0.388]\n",
       "    DeviceArray[5] x∈[-0.662, -0.405] μ=-0.512 σ=0.097 [-0.405, -0.423, -0.491, -0.577, -0.662]\n",
       "    DeviceArray[5] x∈[-0.765, -0.474] μ=-0.580 σ=0.112 [-0.474, -0.474, -0.542, -0.645, -0.765]\n",
       "  DeviceArray[3, 5] n=15 x∈[-0.513, -0.197] μ=-0.321 σ=0.096\n",
       "    DeviceArray[5] x∈[-0.303, -0.197] μ=-0.243 σ=0.049 [-0.197, -0.197, -0.303, -0.303, -0.215]\n",
       "    DeviceArray[5] x∈[-0.408, -0.232] μ=-0.327 σ=0.075 [-0.250, -0.232, -0.338, -0.408, -0.408]\n",
       "    DeviceArray[5] x∈[-0.513, -0.285] μ=-0.394 σ=0.091 [-0.303, -0.285, -0.390, -0.478, -0.513]\n",
       "  DeviceArray[3, 5] n=15 x∈[-1.316, -0.672] μ=-0.964 σ=0.170\n",
       "    DeviceArray[5] x∈[-0.985, -0.672] μ=-0.846 σ=0.110 [-0.672, -0.985, -0.881, -0.776, -0.916]\n",
       "    DeviceArray[5] x∈[-1.212, -0.724] μ=-0.989 σ=0.160 [-0.724, -1.072, -0.968, -0.968, -1.212]\n",
       "    DeviceArray[5] x∈[-1.316, -0.828] μ=-1.058 σ=0.160 [-0.828, -1.125, -1.020, -1.003, -1.316]"
      ]
     },
     "execution_count": null,
     "metadata": {},
     "output_type": "execute_result"
    }
   ],
   "source": [
    "dt = image[:3,:3,:5]\n",
    "dt.deeper(3)"
   ]
  },
  {
   "cell_type": "code",
   "execution_count": null,
   "metadata": {},
   "outputs": [],
   "source": [
    "# |hide\n",
    "# image.rgb"
   ]
  },
  {
   "cell_type": "code",
   "execution_count": null,
   "metadata": {},
   "outputs": [],
   "source": [
    "# |hide\n",
    "# in_stats = ( (0.485, 0.456, 0.406),     # mean \n",
    "#              (0.229, 0.224, 0.225) )    # std\n",
    "# image.rgb(in_stats)"
   ]
  },
  {
   "cell_type": "code",
   "execution_count": null,
   "metadata": {},
   "outputs": [],
   "source": [
    "# |hide\n",
    "# mean = torch.tensor(in_stats[0])[:,None,None]\n",
    "# std = torch.tensor(in_stats[1])[:,None,None]\n",
    "\n",
    "# (image*std + mean).chans # all pixels in [0, 1] range"
   ]
  },
  {
   "cell_type": "code",
   "execution_count": null,
   "metadata": {},
   "outputs": [],
   "source": [
    "# |hide\n",
    "# (image*0.3+0.5) # Slightly outside of [0, 1] range"
   ]
  },
  {
   "cell_type": "code",
   "execution_count": null,
   "metadata": {},
   "outputs": [],
   "source": [
    "# |hide\n",
    "# (image*0.3+0.5).chans # shows clipping (bright blue/red)"
   ]
  },
  {
   "cell_type": "code",
   "execution_count": null,
   "metadata": {},
   "outputs": [],
   "source": [
    "# |hide\n",
    "# image.plt"
   ]
  },
  {
   "cell_type": "code",
   "execution_count": null,
   "metadata": {},
   "outputs": [],
   "source": [
    "# |hide\n",
    "# image.plt(center=\"mean\")"
   ]
  },
  {
   "cell_type": "code",
   "execution_count": null,
   "metadata": {},
   "outputs": [],
   "source": [
    "# |hide\n",
    "# fig, ax = plt.subplots(figsize=(6, 2))\n",
    "# plt.close(fig)\n",
    "# image.plt(ax=ax)\n",
    "# fig"
   ]
  },
  {
   "cell_type": "code",
   "execution_count": null,
   "metadata": {},
   "outputs": [],
   "source": [
    "# |hide\n",
    "import nbdev; nbdev.nbdev_export()"
   ]
  }
 ],
 "metadata": {
  "kernelspec": {
   "display_name": "Python 3.10.6 ('torch')",
   "language": "python",
   "name": "python3"
  }
 },
 "nbformat": 4,
 "nbformat_minor": 2
}
