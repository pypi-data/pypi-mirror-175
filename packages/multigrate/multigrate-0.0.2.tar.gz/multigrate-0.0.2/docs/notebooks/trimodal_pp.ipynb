{
 "cells": [
  {
   "cell_type": "markdown",
   "id": "66c305f3",
   "metadata": {},
   "source": [
    "# Trimodal preprocessing\n",
    "\n",
    "In this notebooks, we prepare the data for trimodal integration. We will continue working with NeurIPS CITE-seq and multiome datasets. Here, we will add harmonized cell types and subset the RNA-seq data to common but batch-aware highly variable genes."
   ]
  },
  {
   "cell_type": "code",
   "execution_count": 1,
   "id": "e99fa33d",
   "metadata": {},
   "outputs": [],
   "source": [
    "import warnings\n",
    "warnings.filterwarnings('ignore')\n",
    "\n",
    "import scanpy as sc\n",
    "import numpy as np\n",
    "import pandas as pd\n",
    "import anndata as ad\n",
    "import json\n",
    "import muon"
   ]
  },
  {
   "cell_type": "markdown",
   "id": "fee0506d",
   "metadata": {},
   "source": [
    "## Read the data"
   ]
  },
  {
   "cell_type": "code",
   "execution_count": 2,
   "id": "c4bd088c",
   "metadata": {},
   "outputs": [
    {
     "data": {
      "text/plain": [
       "AnnData object with n_obs × n_vars = 69249 × 13431\n",
       "    obs: 'GEX_pct_counts_mt', 'GEX_n_counts', 'GEX_n_genes', 'GEX_size_factors', 'GEX_phase', 'ATAC_nCount_peaks', 'ATAC_atac_fragments', 'ATAC_reads_in_peaks_frac', 'ATAC_blacklist_fraction', 'ATAC_nucleosome_signal', 'cell_type', 'batch', 'ATAC_pseudotime_order', 'GEX_pseudotime_order', 'Samplename', 'Site', 'DonorNumber', 'Modality', 'VendorLot', 'DonorID', 'DonorAge', 'DonorBMI', 'DonorBloodType', 'DonorRace', 'Ethnicity', 'DonorGender', 'QCMeds', 'DonorSmoker'\n",
       "    var: 'feature_types', 'gene_id', 'highly_variable', 'means', 'dispersions', 'dispersions_norm', 'highly_variable_nbatches', 'highly_variable_intersection'\n",
       "    uns: 'ATAC_gene_activity_var_names', 'dataset_id', 'genome', 'hvg', 'log1p', 'organism'\n",
       "    obsm: 'ATAC_gene_activity', 'ATAC_lsi_full', 'ATAC_lsi_red', 'ATAC_umap', 'GEX_X_pca', 'GEX_X_umap'\n",
       "    layers: 'counts'"
      ]
     },
     "execution_count": 2,
     "metadata": {},
     "output_type": "execute_result"
    }
   ],
   "source": [
    "rna_multiome = sc.read('data/multiome/rna_multiome.h5ad')\n",
    "rna_multiome"
   ]
  },
  {
   "cell_type": "code",
   "execution_count": 3,
   "id": "3f0cb33c",
   "metadata": {},
   "outputs": [
    {
     "data": {
      "text/plain": [
       "AnnData object with n_obs × n_vars = 90261 × 13953\n",
       "    obs: 'GEX_n_genes_by_counts', 'GEX_pct_counts_mt', 'GEX_size_factors', 'GEX_phase', 'ADT_n_antibodies_by_counts', 'ADT_total_counts', 'ADT_iso_count', 'cell_type', 'batch', 'ADT_pseudotime_order', 'GEX_pseudotime_order', 'Samplename', 'Site', 'DonorNumber', 'Modality', 'VendorLot', 'DonorID', 'DonorAge', 'DonorBMI', 'DonorBloodType', 'DonorRace', 'Ethnicity', 'DonorGender', 'QCMeds', 'DonorSmoker', 'is_train'\n",
       "    var: 'feature_types', 'gene_id', 'highly_variable', 'means', 'dispersions', 'dispersions_norm', 'highly_variable_nbatches', 'highly_variable_intersection'\n",
       "    uns: 'dataset_id', 'genome', 'hvg', 'log1p', 'organism'\n",
       "    obsm: 'ADT_X_pca', 'ADT_X_umap', 'ADT_isotype_controls', 'GEX_X_pca', 'GEX_X_umap'\n",
       "    layers: 'counts'"
      ]
     },
     "execution_count": 3,
     "metadata": {},
     "output_type": "execute_result"
    }
   ],
   "source": [
    "rna_cite = sc.read('data/cite/rna_cite.h5ad')\n",
    "rna_cite"
   ]
  },
  {
   "cell_type": "code",
   "execution_count": 4,
   "id": "04ff1ecf",
   "metadata": {
    "scrolled": true
   },
   "outputs": [
    {
     "data": {
      "text/plain": [
       "AnnData object with n_obs × n_vars = 69249 × 20000\n",
       "    obs: 'GEX_pct_counts_mt', 'GEX_n_counts', 'GEX_n_genes', 'GEX_size_factors', 'GEX_phase', 'ATAC_nCount_peaks', 'ATAC_atac_fragments', 'ATAC_reads_in_peaks_frac', 'ATAC_blacklist_fraction', 'ATAC_nucleosome_signal', 'cell_type', 'batch', 'ATAC_pseudotime_order', 'GEX_pseudotime_order', 'Samplename', 'Site', 'DonorNumber', 'Modality', 'VendorLot', 'DonorID', 'DonorAge', 'DonorBMI', 'DonorBloodType', 'DonorRace', 'Ethnicity', 'DonorGender', 'QCMeds', 'DonorSmoker'\n",
       "    var: 'feature_types', 'gene_id', 'highly_variable', 'means', 'dispersions', 'dispersions_norm', 'highly_variable_nbatches', 'highly_variable_intersection'\n",
       "    uns: 'ATAC_gene_activity_var_names', 'dataset_id', 'genome', 'hvg', 'log1p', 'organism'\n",
       "    obsm: 'ATAC_gene_activity', 'ATAC_lsi_full', 'ATAC_lsi_red', 'ATAC_umap', 'GEX_X_pca', 'GEX_X_umap'\n",
       "    layers: 'counts', 'log-norm', 'tf-idf'"
      ]
     },
     "execution_count": 4,
     "metadata": {},
     "output_type": "execute_result"
    }
   ],
   "source": [
    "atac_hvf = sc.read('data/multiome/atac_hvf.h5ad')\n",
    "atac_hvf"
   ]
  },
  {
   "cell_type": "code",
   "execution_count": 5,
   "id": "f432926f",
   "metadata": {},
   "outputs": [
    {
     "data": {
      "text/plain": [
       "AnnData object with n_obs × n_vars = 90261 × 134\n",
       "    obs: 'GEX_n_genes_by_counts', 'GEX_pct_counts_mt', 'GEX_size_factors', 'GEX_phase', 'ADT_n_antibodies_by_counts', 'ADT_total_counts', 'ADT_iso_count', 'cell_type', 'batch', 'ADT_pseudotime_order', 'GEX_pseudotime_order', 'Samplename', 'Site', 'DonorNumber', 'Modality', 'VendorLot', 'DonorID', 'DonorAge', 'DonorBMI', 'DonorBloodType', 'DonorRace', 'Ethnicity', 'DonorGender', 'QCMeds', 'DonorSmoker', 'is_train'\n",
       "    var: 'feature_types', 'gene_id'\n",
       "    uns: 'dataset_id', 'genome', 'organism'\n",
       "    obsm: 'ADT_X_pca', 'ADT_X_umap', 'ADT_isotype_controls', 'GEX_X_pca', 'GEX_X_umap'\n",
       "    layers: 'clr', 'counts'"
      ]
     },
     "execution_count": 5,
     "metadata": {},
     "output_type": "execute_result"
    }
   ],
   "source": [
    "adt = sc.read('data/cite/adt.h5ad')\n",
    "adt"
   ]
  },
  {
   "cell_type": "markdown",
   "id": "5ae1ecdf",
   "metadata": {},
   "source": [
    "## Add harmonized cell types"
   ]
  },
  {
   "cell_type": "code",
   "execution_count": 6,
   "id": "d6cd4ad9",
   "metadata": {},
   "outputs": [
    {
     "data": {
      "text/plain": [
       "dict_keys(['cite_ct_l1_map', 'cite_ct_l2_map', 'multi_ct_l1_map', 'multi_ct_l2_map'])"
      ]
     },
     "execution_count": 6,
     "metadata": {},
     "output_type": "execute_result"
    }
   ],
   "source": [
    "with open('data/trimodal/cellttype_harmonize.json', 'r') as f:\n",
    "    harmonized_celltypes = json.load(f)\n",
    "harmonized_celltypes.keys()"
   ]
  },
  {
   "cell_type": "code",
   "execution_count": 7,
   "id": "f55fc362",
   "metadata": {},
   "outputs": [],
   "source": [
    "rna_multiome.obs['l1_cell_type'] = rna_multiome.obs['cell_type'].map(harmonized_celltypes['multi_ct_l1_map'])\n",
    "rna_multiome.obs['l2_cell_type'] = rna_multiome.obs['cell_type'].map(harmonized_celltypes['multi_ct_l2_map'])"
   ]
  },
  {
   "cell_type": "code",
   "execution_count": 8,
   "id": "e190fb65",
   "metadata": {},
   "outputs": [],
   "source": [
    "atac_hvf.obs['l1_cell_type'] = atac_hvf.obs['cell_type'].map(harmonized_celltypes['multi_ct_l1_map'])\n",
    "atac_hvf.obs['l2_cell_type'] = atac_hvf.obs['cell_type'].map(harmonized_celltypes['multi_ct_l2_map'])"
   ]
  },
  {
   "cell_type": "code",
   "execution_count": 9,
   "id": "e9f522d1",
   "metadata": {},
   "outputs": [],
   "source": [
    "rna_cite.obs['l1_cell_type'] = rna_cite.obs['cell_type'].map(harmonized_celltypes['cite_ct_l1_map'])\n",
    "rna_cite.obs['l2_cell_type'] = rna_cite.obs['cell_type'].map(harmonized_celltypes['cite_ct_l2_map'])"
   ]
  },
  {
   "cell_type": "code",
   "execution_count": 10,
   "id": "0b3ba2fa",
   "metadata": {},
   "outputs": [],
   "source": [
    "adt.obs['l1_cell_type'] = adt.obs['cell_type'].map(harmonized_celltypes['cite_ct_l1_map'])\n",
    "adt.obs['l2_cell_type'] = adt.obs['cell_type'].map(harmonized_celltypes['cite_ct_l2_map'])"
   ]
  },
  {
   "cell_type": "markdown",
   "id": "207f5649",
   "metadata": {},
   "source": [
    "## Subset genes to highly variable"
   ]
  },
  {
   "cell_type": "code",
   "execution_count": 11,
   "id": "e7d2f19c",
   "metadata": {},
   "outputs": [
    {
     "data": {
      "text/plain": [
       "AnnData object with n_obs × n_vars = 159510 × 12059\n",
       "    obs: 'GEX_pct_counts_mt', 'GEX_size_factors', 'GEX_phase', 'cell_type', 'batch', 'GEX_pseudotime_order', 'Samplename', 'Site', 'DonorNumber', 'Modality', 'VendorLot', 'DonorID', 'DonorAge', 'DonorBMI', 'DonorBloodType', 'DonorRace', 'Ethnicity', 'DonorGender', 'QCMeds', 'DonorSmoker', 'l1_cell_type', 'l2_cell_type'\n",
       "    obsm: 'GEX_X_pca', 'GEX_X_umap'\n",
       "    layers: 'counts'"
      ]
     },
     "execution_count": 11,
     "metadata": {},
     "output_type": "execute_result"
    }
   ],
   "source": [
    "rna = ad.concat([rna_multiome, rna_cite])\n",
    "rna"
   ]
  },
  {
   "cell_type": "code",
   "execution_count": 12,
   "id": "3edd2b3c",
   "metadata": {},
   "outputs": [],
   "source": [
    "rna.X = rna.layers['counts'].copy()\n",
    "sc.pp.normalize_total(rna, target_sum=1e4)\n",
    "sc.pp.log1p(rna)"
   ]
  },
  {
   "cell_type": "code",
   "execution_count": 13,
   "id": "b401899e",
   "metadata": {},
   "outputs": [
    {
     "data": {
      "text/plain": [
       "View of AnnData object with n_obs × n_vars = 159510 × 4000\n",
       "    obs: 'GEX_pct_counts_mt', 'GEX_size_factors', 'GEX_phase', 'cell_type', 'batch', 'GEX_pseudotime_order', 'Samplename', 'Site', 'DonorNumber', 'Modality', 'VendorLot', 'DonorID', 'DonorAge', 'DonorBMI', 'DonorBloodType', 'DonorRace', 'Ethnicity', 'DonorGender', 'QCMeds', 'DonorSmoker', 'l1_cell_type', 'l2_cell_type'\n",
       "    var: 'highly_variable', 'means', 'dispersions', 'dispersions_norm', 'highly_variable_nbatches', 'highly_variable_intersection'\n",
       "    uns: 'log1p', 'hvg'\n",
       "    obsm: 'GEX_X_pca', 'GEX_X_umap'\n",
       "    layers: 'counts'"
      ]
     },
     "execution_count": 13,
     "metadata": {},
     "output_type": "execute_result"
    }
   ],
   "source": [
    "sc.pp.highly_variable_genes(rna, n_top_genes=4000, batch_key='Samplename')\n",
    "rna = rna[:, rna.var.highly_variable]\n",
    "rna"
   ]
  },
  {
   "cell_type": "code",
   "execution_count": 14,
   "id": "b2486881",
   "metadata": {},
   "outputs": [],
   "source": [
    "rna_multiome = rna[rna.obs['Modality'] == 'multiome'].copy()\n",
    "rna_cite = rna[rna.obs['Modality'] == 'cite'].copy()"
   ]
  },
  {
   "cell_type": "markdown",
   "id": "e5467e4f",
   "metadata": {},
   "source": [
    "## Save files"
   ]
  },
  {
   "cell_type": "code",
   "execution_count": 15,
   "id": "9dc120a3",
   "metadata": {},
   "outputs": [],
   "source": [
    "rna_multiome.write('data/trimodal/rna_multiome_hvg.h5ad')"
   ]
  },
  {
   "cell_type": "code",
   "execution_count": 16,
   "id": "bcc4e169",
   "metadata": {},
   "outputs": [],
   "source": [
    "rna_cite.write('data/trimodal/rna_cite_hvg.h5ad')"
   ]
  },
  {
   "cell_type": "code",
   "execution_count": 17,
   "id": "50fabe51",
   "metadata": {},
   "outputs": [],
   "source": [
    "atac_hvf.write('data/trimodal/atac_hvf.h5ad')"
   ]
  },
  {
   "cell_type": "code",
   "execution_count": 18,
   "id": "2ed84e2d",
   "metadata": {},
   "outputs": [],
   "source": [
    "adt.write('data/trimodal/adt.h5ad')"
   ]
  },
  {
   "cell_type": "code",
   "execution_count": null,
   "id": "857a1bf9",
   "metadata": {},
   "outputs": [],
   "source": []
  }
 ],
 "metadata": {
  "kernelspec": {
   "display_name": "Python 3 (ipykernel)",
   "language": "python",
   "name": "python3"
  },
  "language_info": {
   "codemirror_mode": {
    "name": "ipython",
    "version": 3
   },
   "file_extension": ".py",
   "mimetype": "text/x-python",
   "name": "python",
   "nbconvert_exporter": "python",
   "pygments_lexer": "ipython3",
   "version": "3.9.13"
  }
 },
 "nbformat": 4,
 "nbformat_minor": 5
}
