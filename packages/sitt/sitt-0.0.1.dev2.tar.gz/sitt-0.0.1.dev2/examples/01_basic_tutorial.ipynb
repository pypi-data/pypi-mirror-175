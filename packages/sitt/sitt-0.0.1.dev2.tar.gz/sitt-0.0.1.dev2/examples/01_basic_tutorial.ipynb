{
 "cells": [
  {
   "cell_type": "markdown",
   "metadata": {},
   "source": [
    "# Si.T.T. Basic Example\n",
    "\n",
    "In this notebook, we will explore the basic features of Si.T.T. and show how to make the platform work on a basic level.\n",
    "\n",
    "## Installing Si.T.T.\n",
    "\n",
    "First, we need to integrate the Python library. Note, you need to install the required Python packages, first. A common way to do this is to use pip (search the Web for venv, Conda etc. for specific environments).\n",
    "\n",
    "This is pretty straightforward (upgrade will ensure you have the latest version of Si.T.T. installed):"
   ]
  },
  {
   "cell_type": "code",
   "execution_count": null,
   "metadata": {},
   "outputs": [],
   "source": [
    "# uncomment to install\n",
    "# !pip install --upgrade sitt"
   ]
  },
  {
   "cell_type": "markdown",
   "metadata": {},
   "source": [
    "If you want to uninstall Si.T.T., you can do so by running the following command:\n",
    "\n",
    "```console\n",
    "pip uninstall -y sitt\n",
    "```"
   ]
  },
  {
   "cell_type": "markdown",
   "metadata": {},
   "source": [
    "## Basic Usage\n",
    "\n",
    "After you have installed Si.T.T., you can import the library (we will also import a couple if other modules):"
   ]
  },
  {
   "cell_type": "code",
   "execution_count": 1,
   "metadata": {},
   "outputs": [],
   "source": [
    "import sitt"
   ]
  },
  {
   "cell_type": "markdown",
   "metadata": {},
   "source": [
    "## Configuration\n",
    "\n",
    "In order to run a simulation, you need a configuration. The configuration defines all the variables, modules and simulation steps needed. For the sake of demonstration, we will create the configuration using Python."
   ]
  },
  {
   "cell_type": "code",
   "execution_count": null,
   "metadata": {},
   "outputs": [],
   "source": [
    "config = sitt.Configuration()\n",
    "print(config)"
   ]
  },
  {
   "cell_type": "markdown",
   "metadata": {},
   "source": [
    "As you can see, the configuration is a simple Python object. There are three main components of the simulation:\n",
    "\n",
    "* Preparation: prepare data\n",
    "* Simulation: actual simulation\n",
    "* Output: showing or saving data\n",
    "\n",
    "You can read more on these components in the [Concept Readme](../readmes/concept.md)."
   ]
  },
  {
   "cell_type": "markdown",
   "metadata": {},
   "source": [
    "\n",
    "## Preparation\n",
    "\n",
    "For now, let us look at the first part, the preparation. We will skip the simulation and output steps, and import a serialized graph (containing an arbitrary set of hubs and roads in Southern Austria):"
   ]
  },
  {
   "cell_type": "code",
   "execution_count": null,
   "metadata": {},
   "outputs": [],
   "source": [
    "# Skip simulation (and output)\n",
    "config.skip_step = sitt.SkipStep.SIMULATION\n",
    "\n",
    "# we will also make the output verbose, so we can see what the application is doing in its log output.\n",
    "config.verbose = True\n",
    "\n",
    "# Create an import module for the preparation component and add it the preparation component\n",
    "graph_load = sitt.preparation.GraphLoad(filename='example_graph.pkl')\n",
    "config.preparation.append(graph_load)"
   ]
  },
  {
   "cell_type": "markdown",
   "metadata": {},
   "source": [
    "To see what is in the graph, we can use another module:"
   ]
  },
  {
   "cell_type": "code",
   "execution_count": null,
   "metadata": {},
   "outputs": [],
   "source": [
    "preparation_debug = sitt.preparation.DebugDisplayRoadsAndHubs()\n",
    "config.preparation.append(preparation_debug)"
   ]
  },
  {
   "cell_type": "markdown",
   "metadata": {},
   "source": [
    "Now let us run the application (the preparation, that is) and see what the debug output will show us. The simulation can be run by creating a core object and running it:"
   ]
  },
  {
   "cell_type": "code",
   "execution_count": null,
   "metadata": {},
   "outputs": [],
   "source": [
    "core = sitt.Core(config)\n",
    "core.run()"
   ]
  },
  {
   "cell_type": "markdown",
   "metadata": {},
   "source": [
    "You can see the network... kind of, the image is a bit too small, but you get a first impression. Now let us check the data a bit more thoroughly. What paths could we take from point A to point B and how would the roads look like?\n",
    "\n",
    "No problem, let us update the debug and just output all possible paths between Lienz and Villach:"
   ]
  },
  {
   "cell_type": "code",
   "execution_count": null,
   "metadata": {},
   "outputs": [],
   "source": [
    "# turn off showing whole network\n",
    "preparation_debug.draw_network = False\n",
    "\n",
    "# set start and end points\n",
    "preparation_debug.start = 'LIENZ'\n",
    "preparation_debug.end = 'VILLACH'\n",
    "\n",
    "core.run()"
   ]
  },
  {
   "cell_type": "markdown",
   "metadata": {},
   "source": [
    "Wow, there six possible routes including height profiles. Time to start the simulation!"
   ]
  },
  {
   "cell_type": "markdown",
   "metadata": {},
   "source": [
    "## A Simple Simulation\n",
    "\n",
    "Now we want to actually run the simulation. Like above, we have to create a configuration first. In addition to the things shown above, we will add a preparation component to precalculate the possible routes used in the simulation."
   ]
  },
  {
   "cell_type": "code",
   "execution_count": null,
   "metadata": {},
   "outputs": [],
   "source": [
    "# create new config\n",
    "config = sitt.Configuration()\n",
    "\n",
    "# Skip output\n",
    "config.skip_step = sitt.SkipStep.OUTPUT\n",
    "\n",
    "# we will also make the output verbose, so we can see what the application is doing in its log output.\n",
    "config.verbose = True\n",
    "\n",
    "# We want to tell our simulation where to start and end the simulation:\n",
    "config.simulation_start = 'LIENZ'\n",
    "config.simulation_end = 'VILLACH'\n",
    "\n",
    "# Create an import module for the preparation component and add it the preparation component\n",
    "graph_load = sitt.preparation.GraphLoad(filename='example_graph.pkl')\n",
    "config.preparation.append(graph_load)\n",
    "\n",
    "# Before we can run our simulation, we need to create all possible routes - here is a simple route creator\n",
    "create_routes = sitt.preparation.CreateRoutes()\n",
    "config.preparation.append(create_routes)"
   ]
  },
  {
   "cell_type": "markdown",
   "metadata": {},
   "source": [
    "We will use a very simple simulation runner: An agent travelling 4 kph up to a maximum of 8 hours a day (so 32 km maximum which is a good average for a normal person on foot). The agent will slow a bit on slopes, we will use a linear factor to simulate this. Granted, this is not a very good simulation (some exponential function would be more precise), but for the sake of simplicity, it will do."
   ]
  },
  {
   "cell_type": "code",
   "execution_count": null,
   "metadata": {},
   "outputs": [],
   "source": [
    "# This is the new part: Create a simple simulation stepper\n",
    "simple_stepper = sitt.simulation_step.Simple(speed=4.0)\n",
    "config.simulation_step.append(simple_stepper)\n",
    "\n",
    "# Set start and end points of the simulation\n",
    "config.simulation_start = 'LIENZ'\n",
    "config.simulation_end = 'VILLACH'\n",
    "\n",
    "# Run the core\n",
    "core = sitt.Core(config)\n",
    "core.run()"
   ]
  },
  {
   "cell_type": "markdown",
   "metadata": {},
   "source": [
    "As you can experiment a bit, changing values or reversing the order of the simulation start and end. If you change the values too much, you might end up with paths that are cancelled due to the agent not being able to traverse this particular path.\n",
    "\n",
    "It is also possible to chain steppers. This does not make sense with the simple stepper, but there are use cases where environmental changes might change travel times, and you want to make this modular."
   ]
  },
  {
   "cell_type": "markdown",
   "metadata": {},
   "source": [
    "## Simulation Output\n",
    "\n",
    "The last step showed you how to run a basic simulation. We are still missing some output we can analyze. This can be done by adding output modules. Like preparation and simulation modules, you can chain output modules to create multiple outputs at once.\n",
    "\n",
    "We will expand our simple simulation and add a JSON output module:"
   ]
  },
  {
   "cell_type": "code",
   "execution_count": 2,
   "metadata": {},
   "outputs": [
    {
     "name": "stdout",
     "output_type": "stream",
     "text": [
      "1\n"
     ]
    }
   ],
   "source": [
    "# create new config\n",
    "config = sitt.Configuration()\n",
    "\n",
    "# We will make out application quiet this time, we do not need any debug output.\n",
    "config.quiet = True\n",
    "\n",
    "# We want to tell our simulation where to start and end the simulation:\n",
    "config.simulation_start = 'LIENZ'\n",
    "config.simulation_end = 'VILLACH'\n",
    "\n",
    "# Create an import module for the preparation component and add it the preparation component\n",
    "graph_load = sitt.preparation.GraphLoad(filename='example_graph.pkl')\n",
    "config.preparation.append(graph_load)\n",
    "\n",
    "# Before we can run our simulation, we need to create all possible routes - here is a simple route creator\n",
    "create_routes = sitt.preparation.CreateRoutes()\n",
    "config.preparation.append(create_routes)\n",
    "\n",
    "# Create a simple simulation stepper\n",
    "simple_stepper = sitt.simulation_step.Simple(speed=4.0)\n",
    "config.simulation_step.append(simple_stepper)\n",
    "\n",
    "# New: Add the JSON output module - do not convert output data to string, leave it as it is\n",
    "json_output = sitt.output.JSONOutput(to_string=False)\n",
    "config.output.append(json_output)\n",
    "\n",
    "# Set start and end points of the simulation\n",
    "config.simulation_start = 'LIENZ'\n",
    "config.simulation_end = 'VILLACH'\n",
    "\n",
    "# Run the core\n",
    "core = sitt.Core(config)\n",
    "outputs = core.run()\n",
    "\n",
    "print(len(outputs))"
   ]
  },
  {
   "cell_type": "markdown",
   "metadata": {},
   "source": [
    "As we can see, `core.run()` has a return value: A list of outputs, equal to the number of output modules defined in the configuration. So our output will be in `outputs[0]`. It is quite longish, so we will check the keys first:"
   ]
  },
  {
   "cell_type": "code",
   "execution_count": 3,
   "metadata": {},
   "outputs": [
    {
     "data": {
      "text/plain": [
       "['simulation_start',\n",
       " 'simulation_end',\n",
       " 'agents_finished',\n",
       " 'agents_cancelled',\n",
       " 'legs',\n",
       " 'nodes',\n",
       " 'paths']"
      ]
     },
     "execution_count": 3,
     "metadata": {},
     "output_type": "execute_result"
    }
   ],
   "source": [
    "list(outputs[0].keys())"
   ]
  },
  {
   "cell_type": "markdown",
   "metadata": {},
   "source": [
    "Show the agents:"
   ]
  },
  {
   "cell_type": "code",
   "execution_count": 4,
   "metadata": {},
   "outputs": [
    {
     "data": {
      "text/plain": [
       "[{'uid': '7s5Azwi5VRlS',\n",
       "  'uids': ['7s5Azwi5VRlS',\n",
       "   'C3vYdaHCIDhz',\n",
       "   'aia5kIohPSpa',\n",
       "   'fcYv2rrUgWWr',\n",
       "   'E5iecvSaNg01'],\n",
       "  'status': 'finished',\n",
       "  'day': 5,\n",
       "  'hour': 11.499848697791732},\n",
       " {'uid': 'TFt372vtWW2R',\n",
       "  'uids': ['TFt372vtWW2R',\n",
       "   'C3vYdaHCIDhz',\n",
       "   'aia5kIohPSpa',\n",
       "   'fcYv2rrUgWWr',\n",
       "   'E5iecvSaNg01'],\n",
       "  'status': 'finished',\n",
       "  'day': 5,\n",
       "  'hour': 13.09813788939288}]"
      ]
     },
     "execution_count": 4,
     "metadata": {},
     "output_type": "execute_result"
    }
   ],
   "source": [
    "outputs[0]['agents_finished']"
   ]
  },
  {
   "cell_type": "code",
   "execution_count": 59,
   "metadata": {},
   "outputs": [],
   "source": [
    "import json\n",
    "\n",
    "def get_output():\n",
    "    return json.dumps(outputs[0])"
   ]
  },
  {
   "cell_type": "code",
   "execution_count": 60,
   "metadata": {},
   "outputs": [
    {
     "data": {
      "application/javascript": [
       "// The output of get_data will be stored in the following function\n",
       "window.outputVar = null\n",
       "\n",
       "IPython.notebook.kernel.execute(\n",
       "    \"get_output()\", \n",
       "    {\n",
       "        iopub: {\n",
       "            output: function(response) {\n",
       "                // Get output as plain text\n",
       "                var output = response.content.data[\"text/plain\"];\n",
       "                // Remove unwanted characters\n",
       "                output = output.substring(1, output.length-1).replace(\"\\\\'\",\"'\")\n",
       "                // Set the variable\n",
       "                 window.outputVar = JSON.parse(output)\n",
       "            }\n",
       "        }\n",
       "    },\n",
       "    {\n",
       "        silent: false, \n",
       "        store_history: false, \n",
       "        stop_on_error: true\n",
       "    }\n",
       ")\n"
      ],
      "text/plain": [
       "<IPython.core.display.Javascript object>"
      ]
     },
     "metadata": {},
     "output_type": "display_data"
    }
   ],
   "source": [
    "%%javascript\n",
    "// The output of get_data will be stored in the following function\n",
    "window.outputVar = null\n",
    "\n",
    "IPython.notebook.kernel.execute(\n",
    "    \"get_output()\", \n",
    "    {\n",
    "        iopub: {\n",
    "            output: function(response) {\n",
    "                // Get output as plain text\n",
    "                var output = response.content.data[\"text/plain\"];\n",
    "                // Remove unwanted characters\n",
    "                output = output.substring(1, output.length-1).replace(\"\\\\'\",\"'\")\n",
    "                // Set the variable\n",
    "                 window.outputVar = JSON.parse(output)\n",
    "            }\n",
    "        }\n",
    "    },\n",
    "    {\n",
    "        silent: false, \n",
    "        store_history: false, \n",
    "        stop_on_error: true\n",
    "    }\n",
    ")"
   ]
  },
  {
   "cell_type": "code",
   "execution_count": 61,
   "metadata": {},
   "outputs": [
    {
     "data": {
      "application/javascript": [
       "console.log(window.outputVar)\n"
      ],
      "text/plain": [
       "<IPython.core.display.Javascript object>"
      ]
     },
     "metadata": {},
     "output_type": "display_data"
    }
   ],
   "source": [
    "%%javascript\n",
    "console.log(window.outputVar)"
   ]
  },
  {
   "cell_type": "code",
   "execution_count": null,
   "metadata": {
    "scrolled": true
   },
   "outputs": [],
   "source": [
    "# uncomment to install leaflet and widgets for Jupyter\n",
    "# !pip install ipyleaflet ipywidgets"
   ]
  },
  {
   "cell_type": "code",
   "execution_count": 7,
   "metadata": {},
   "outputs": [],
   "source": [
    "from ipyleaflet import (Map, LayerGroup, basemaps, basemap_to_tiles, Marker, Polyline, Popup)\n",
    "import ipywidgets as widgets\n",
    "from IPython.display import display"
   ]
  },
  {
   "cell_type": "code",
   "execution_count": 8,
   "metadata": {},
   "outputs": [],
   "source": [
    "# Create markers\n",
    "markers = LayerGroup()\n",
    "points = []\n",
    "\n",
    "for node in outputs[0]['nodes']:\n",
    "    message = widgets.HTML()\n",
    "    message.value = f\"<b>{node['id']}</b><br />Overnight: {node['overnight']}\"\n",
    "    \n",
    "    # note that leaflet needs coordinates in lat, lng order\n",
    "    marker = Marker(location=[node['geom']['coordinates'][1], node['geom']['coordinates'][0]], draggable=False,\n",
    "                   title=node['id'])\n",
    "    markers.add_layer(marker)\n",
    "    # , popup=message\n",
    "    \n",
    "    points.extend([node['geom']['coordinates'][1], node['geom']['coordinates'][0]])\n",
    "    \n",
    "# create bounding box from array values - stolen from gbbox\n",
    "min_x = min(points[::2])\n",
    "min_y = min(points[1::2])\n",
    "max_x = max(points[::2])\n",
    "max_y = max(points[1::2])\n",
    "padding = 0.025\n",
    "\n",
    "bbox = ((min_x - padding, min_y - padding), (max_x + padding, max_y + padding))\n",
    "center = [(min_x + max_x) / 2, (min_y + max_y) / 2]"
   ]
  },
  {
   "cell_type": "code",
   "execution_count": 9,
   "metadata": {},
   "outputs": [],
   "source": [
    "# Create lines\n",
    "paths = LayerGroup()\n",
    "\n",
    "html = widgets.HTML()\n",
    "def get_mouseover(path, line):\n",
    "    def callback(*args, **kwargs):\n",
    "        line.color=\"green\"\n",
    "    \n",
    "    return callback\n",
    "        \n",
    "def get_mouseout(path, line):\n",
    "    def callback(*args, **kwargs):\n",
    "        line.color=\"#0033FF\"\n",
    "    \n",
    "    return callback\n",
    "\n",
    "\n",
    "for path in outputs[0]['paths']:\n",
    "    message = widgets.HTML()\n",
    "    message.value = f\"<b>{path['id']}</b>\"\n",
    "    \n",
    "    # note that leaflet needs coordinates in lat, lng order\n",
    "    lats = [coord[1] for coord in path['geom']['coordinates']]\n",
    "    lngs = [coord[0] for coord in path['geom']['coordinates']]\n",
    "    coords = []\n",
    "    \n",
    "    for i in range(len(lats)):\n",
    "        coords.append([lats[i], lngs[i]])\n",
    "        \n",
    "    line = Polyline(locations=coords, popup=message)\n",
    "    line.on_mouseover(get_mouseover(path, line))\n",
    "    line.on_mouseout(get_mouseout(path, line))\n",
    "    paths.add_layer(line)"
   ]
  },
  {
   "cell_type": "code",
   "execution_count": 10,
   "metadata": {
    "scrolled": false
   },
   "outputs": [
    {
     "data": {
      "application/vnd.jupyter.widget-view+json": {
       "model_id": "762f705557574146a4e2acdc7dd87dca",
       "version_major": 2,
       "version_minor": 0
      },
      "text/plain": [
       "Map(center=[46.77646547616253, 13.309529304531788], controls=(ZoomControl(options=['position', 'zoom_in_text',…"
      ]
     },
     "metadata": {},
     "output_type": "display_data"
    }
   ],
   "source": [
    "m = Map(\n",
    "    basemap=basemap_to_tiles(basemaps.OpenStreetMap.Mapnik),\n",
    "    center=center,\n",
    "    zoom=9\n",
    "    )\n",
    "m.fit_bounds(bbox)\n",
    "\n",
    "m.add_layer(paths)\n",
    "m.add_layer(markers)\n",
    "\n",
    "m"
   ]
  },
  {
   "cell_type": "code",
   "execution_count": 14,
   "metadata": {},
   "outputs": [
    {
     "name": "stdout",
     "output_type": "stream",
     "text": [
      "Agent 7s5Azwi5VRlS, finished day 5, hour day 11.499848697791732\n"
     ]
    },
    {
     "data": {
      "application/vnd.jupyter.widget-view+json": {
       "model_id": "c10076c53d854364b2c06c619c3437d5",
       "version_major": 2,
       "version_minor": 0
      },
      "text/plain": [
       "Button(description='Show iteration', style=ButtonStyle())"
      ]
     },
     "metadata": {},
     "output_type": "display_data"
    },
    {
     "data": {
      "application/vnd.jupyter.widget-view+json": {
       "model_id": "160b9d3ae7ad4b809c20fc1f813af7b0",
       "version_major": 2,
       "version_minor": 0
      },
      "text/plain": [
       "Output()"
      ]
     },
     "metadata": {},
     "output_type": "display_data"
    },
    {
     "name": "stdout",
     "output_type": "stream",
     "text": [
      "Agent TFt372vtWW2R, finished day 5, hour day 13.09813788939288\n"
     ]
    },
    {
     "data": {
      "application/vnd.jupyter.widget-view+json": {
       "model_id": "135563c3034f40cf8584b31c8df1f522",
       "version_major": 2,
       "version_minor": 0
      },
      "text/plain": [
       "Button(description='Show iteration', style=ButtonStyle())"
      ]
     },
     "metadata": {},
     "output_type": "display_data"
    },
    {
     "data": {
      "application/vnd.jupyter.widget-view+json": {
       "model_id": "160b9d3ae7ad4b809c20fc1f813af7b0",
       "version_major": 2,
       "version_minor": 0
      },
      "text/plain": [
       "Output()"
      ]
     },
     "metadata": {},
     "output_type": "display_data"
    },
    {
     "name": "stdout",
     "output_type": "stream",
     "text": [
      "(Button(description='Show iteration', style=ButtonStyle()),)\n"
     ]
    }
   ],
   "source": [
    "output = widgets.Output()\n",
    "\n",
    "def get_button_clicked_callback(agent):\n",
    "    def callback(*args, **kwargs):\n",
    "        print(args)\n",
    "        with output:\n",
    "            print(agent)\n",
    "\n",
    "    return callback\n",
    "\n",
    "for agent in outputs[0]['agents_finished']:\n",
    "    print(f\"Agent {agent['uid']}, finished day {agent['day']}, hour day {agent['hour']}\")\n",
    "    \n",
    "    button = widgets.Button(description='Show iteration')\n",
    "    display(button, output)\n",
    "                  \n",
    "    button.on_click(get_button_clicked_callback(agent))"
   ]
  },
  {
   "cell_type": "code",
   "execution_count": 15,
   "metadata": {},
   "outputs": [
    {
     "data": {
      "application/vnd.jupyter.widget-view+json": {
       "model_id": "a98094c5aa9f419a9a79376909e93dc6",
       "version_major": 2,
       "version_minor": 0
      },
      "text/plain": [
       "HBox(children=(Play(value=50, description='Press play', interval=500), IntSlider(value=0)))"
      ]
     },
     "metadata": {},
     "output_type": "display_data"
    }
   ],
   "source": [
    "play = widgets.Play(\n",
    "    value=50,\n",
    "    min=0,\n",
    "    max=100,\n",
    "    step=1,\n",
    "    interval=500,\n",
    "    description=\"Press play\",\n",
    "    disabled=False\n",
    ")\n",
    "slider = widgets.IntSlider()\n",
    "widgets.jslink((play, 'value'), (slider, 'value'))\n",
    "widgets.HBox([play, slider])"
   ]
  },
  {
   "cell_type": "code",
   "execution_count": null,
   "metadata": {},
   "outputs": [],
   "source": []
  }
 ],
 "metadata": {
  "kernelspec": {
   "display_name": "Python 3 (ipykernel)",
   "language": "python",
   "name": "python3"
  },
  "language_info": {
   "codemirror_mode": {
    "name": "ipython",
    "version": 3
   },
   "file_extension": ".py",
   "mimetype": "text/x-python",
   "name": "python",
   "nbconvert_exporter": "python",
   "pygments_lexer": "ipython3",
   "version": "3.10.6"
  }
 },
 "nbformat": 4,
 "nbformat_minor": 1
}
