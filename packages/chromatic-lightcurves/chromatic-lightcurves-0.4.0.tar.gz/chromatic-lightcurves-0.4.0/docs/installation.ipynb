{
 "cells": [
  {
   "cell_type": "markdown",
   "id": "d3f6e12e",
   "metadata": {},
   "source": [
    "# Installation\n",
    "\n",
    "For installing this code we assume you have a Python environment set up, into which you can install packages via `pip`. If this isn't the case, we recommend installing the Anaconda `python` distribution, and using `conda` to manage the version(s) of `python` you have installed on your computer. One tutorial (of many) about how to get started with Python and creating `conda` environments is available [here](https://github.com/ers-transit/hackathon-2021-day0).\n",
    "\n",
    "## Basic Installation\n",
    "\n",
    "If you want to install this code, run\n",
    "```\n",
    "pip install chromatic-lightcurves\n",
    "```\n",
    "and it should install everything, along with all the dependencies needed to run the code. If you previously installed this package and need to grab a newer version, run\n",
    "```\n",
    "pip install --upgrade chromatic-lightcurves\n",
    "```\n",
    "\n",
    "## Developer Installation\n",
    "\n",
    "If you want to install this code while being able to edit and develop it, you can clone its [GitHub repository](https://github.com/zkbt/chromatic.git) onto your own computer. This allows you to edit it for your own sake and/or to draft changes that can be contributed to the public package (see [Contributing 🌈 Code with GitHub](../github)).\n",
    "\n",
    "To install directly as an editable package on your local computer, run\n",
    "```\n",
    "git clone https://github.com/zkbt/chromatic.git\n",
    "cd chromatic\n",
    "pip install -e '.[develop]'\n",
    "```\n",
    "The `-e .` will point your environment's `chromatic` package to your local folder, meaning that any changes you make in the repository will be reflected in what Python sees when it tries to `import chromatic`. Including the `[develop]` after the `.` will install both the dependencies for the package itself and the extra dependencies required for development (= testing and documentation).\n",
    "\n",
    "You can quickly test whether your installation worked, and what version you have, by running the Python code"
   ]
  },
  {
   "cell_type": "code",
   "execution_count": null,
   "id": "5720be97",
   "metadata": {},
   "outputs": [],
   "source": [
    "import chromatic\n",
    "\n",
    "chromatic.version()"
   ]
  },
  {
   "cell_type": "markdown",
   "id": "0c539c79",
   "metadata": {},
   "source": [
    "Happy `chromatic`-ing!"
   ]
  }
 ],
 "metadata": {
  "kernelspec": {
   "display_name": "Python 3",
   "language": "python",
   "name": "python3"
  },
  "language_info": {
   "codemirror_mode": {
    "name": "ipython",
    "version": 3
   },
   "file_extension": ".py",
   "mimetype": "text/x-python",
   "name": "python",
   "nbconvert_exporter": "python",
   "pygments_lexer": "ipython3",
   "version": "3.9.12"
  }
 },
 "nbformat": 4,
 "nbformat_minor": 5
}
