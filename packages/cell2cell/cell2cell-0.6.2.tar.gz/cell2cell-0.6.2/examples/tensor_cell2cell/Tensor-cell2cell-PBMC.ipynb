{
 "cells": [
  {
   "cell_type": "code",
   "execution_count": 1,
   "metadata": {},
   "outputs": [],
   "source": [
    "import cell2cell as c2c\n",
    "import scanpy as sc\n",
    "\n",
    "import pandas as pd\n",
    "import numpy as np\n",
    "\n",
    "from tqdm.auto import tqdm\n",
    "\n",
    "%matplotlib inline"
   ]
  },
  {
   "cell_type": "markdown",
   "metadata": {},
   "source": [
    "# Data"
   ]
  },
  {
   "cell_type": "markdown",
   "metadata": {},
   "source": [
    "**RNA-seq data**\n",
    "\n",
    "In this case is a published dataset of ~14000 IFN-beta treated and control PBMCs from 8 donors (GSE96583; see Kang et al.). (obtained from: https://scelvis.readthedocs.io/en/latest/tutorial_analysis.html)\n",
    "\n",
    "Download this dataset here: https://files.figshare.com/18037739/pbmc.h5ad"
   ]
  },
  {
   "cell_type": "code",
   "execution_count": 2,
   "metadata": {},
   "outputs": [],
   "source": [
    "rnaseq = sc.read_h5ad('pbmc.h5ad')"
   ]
  },
  {
   "cell_type": "code",
   "execution_count": 3,
   "metadata": {},
   "outputs": [
    {
     "data": {
      "text/plain": [
       "AnnData object with n_obs × n_vars = 13836 × 14053\n",
       "    obs: 'n_genes', 'n_counts', 'orig_ident', 'stim', 'cluster', 'Donor'\n",
       "    var: 'gene.mean', 'gene.dispersion', 'gene.dispersion.scaled'\n",
       "    uns: 'about_readme', 'about_short_title', 'about_title', 'marker_avg_logFC', 'marker_cluster', 'marker_gene', 'marker_p_val_adj'\n",
       "    obsm: 'X_tsne'"
      ]
     },
     "execution_count": 3,
     "metadata": {},
     "output_type": "execute_result"
    }
   ],
   "source": [
    "rnaseq"
   ]
  },
  {
   "cell_type": "markdown",
   "metadata": {},
   "source": [
    "**Protein-Protein Interactions or Ligand-Receptor Pairs**\n",
    "\n",
    "In this case, we use a list of LR pairs published with CellChat (Jin et al. 2021, Nature Communications)."
   ]
  },
  {
   "cell_type": "code",
   "execution_count": 4,
   "metadata": {},
   "outputs": [],
   "source": [
    "lr_pairs = pd.read_csv('https://raw.githubusercontent.com/LewisLabUCSD/Ligand-Receptor-Pairs/master/Human/Human-2020-Jin-LR-pairs.csv')"
   ]
  },
  {
   "cell_type": "code",
   "execution_count": 5,
   "metadata": {},
   "outputs": [
    {
     "data": {
      "text/html": [
       "<div>\n",
       "<style scoped>\n",
       "    .dataframe tbody tr th:only-of-type {\n",
       "        vertical-align: middle;\n",
       "    }\n",
       "\n",
       "    .dataframe tbody tr th {\n",
       "        vertical-align: top;\n",
       "    }\n",
       "\n",
       "    .dataframe thead th {\n",
       "        text-align: right;\n",
       "    }\n",
       "</style>\n",
       "<table border=\"1\" class=\"dataframe\">\n",
       "  <thead>\n",
       "    <tr style=\"text-align: right;\">\n",
       "      <th></th>\n",
       "      <th>interaction_name</th>\n",
       "      <th>pathway_name</th>\n",
       "      <th>ligand</th>\n",
       "      <th>receptor</th>\n",
       "      <th>agonist</th>\n",
       "      <th>antagonist</th>\n",
       "      <th>co_A_receptor</th>\n",
       "      <th>co_I_receptor</th>\n",
       "      <th>evidence</th>\n",
       "      <th>annotation</th>\n",
       "      <th>interaction_name_2</th>\n",
       "      <th>ligand_symbol</th>\n",
       "      <th>receptor_symbol</th>\n",
       "      <th>ligand_ensembl</th>\n",
       "      <th>receptor_ensembl</th>\n",
       "      <th>interaction_symbol</th>\n",
       "      <th>interaction_ensembl</th>\n",
       "    </tr>\n",
       "  </thead>\n",
       "  <tbody>\n",
       "    <tr>\n",
       "      <th>0</th>\n",
       "      <td>TGFB1_TGFBR1_TGFBR2</td>\n",
       "      <td>TGFb</td>\n",
       "      <td>TGFB1</td>\n",
       "      <td>TGFbR1_R2</td>\n",
       "      <td>TGFb agonist</td>\n",
       "      <td>TGFb antagonist</td>\n",
       "      <td>NaN</td>\n",
       "      <td>TGFb inhibition receptor</td>\n",
       "      <td>KEGG: hsa04350</td>\n",
       "      <td>Secreted Signaling</td>\n",
       "      <td>TGFB1 - (TGFBR1+TGFBR2)</td>\n",
       "      <td>TGFB1</td>\n",
       "      <td>TGFBR1&amp;TGFBR2</td>\n",
       "      <td>ENSG00000105329</td>\n",
       "      <td>ENSG00000106799&amp;ENSG00000163513</td>\n",
       "      <td>TGFB1^TGFBR1&amp;TGFBR2</td>\n",
       "      <td>ENSG00000105329^ENSG00000106799&amp;ENSG00000163513</td>\n",
       "    </tr>\n",
       "    <tr>\n",
       "      <th>1</th>\n",
       "      <td>TGFB2_TGFBR1_TGFBR2</td>\n",
       "      <td>TGFb</td>\n",
       "      <td>TGFB2</td>\n",
       "      <td>TGFbR1_R2</td>\n",
       "      <td>TGFb agonist</td>\n",
       "      <td>TGFb antagonist</td>\n",
       "      <td>NaN</td>\n",
       "      <td>TGFb inhibition receptor</td>\n",
       "      <td>KEGG: hsa04350</td>\n",
       "      <td>Secreted Signaling</td>\n",
       "      <td>TGFB2 - (TGFBR1+TGFBR2)</td>\n",
       "      <td>TGFB2</td>\n",
       "      <td>TGFBR1&amp;TGFBR2</td>\n",
       "      <td>ENSG00000092969</td>\n",
       "      <td>ENSG00000106799&amp;ENSG00000163513</td>\n",
       "      <td>TGFB2^TGFBR1&amp;TGFBR2</td>\n",
       "      <td>ENSG00000092969^ENSG00000106799&amp;ENSG00000163513</td>\n",
       "    </tr>\n",
       "    <tr>\n",
       "      <th>2</th>\n",
       "      <td>TGFB3_TGFBR1_TGFBR2</td>\n",
       "      <td>TGFb</td>\n",
       "      <td>TGFB3</td>\n",
       "      <td>TGFbR1_R2</td>\n",
       "      <td>TGFb agonist</td>\n",
       "      <td>TGFb antagonist</td>\n",
       "      <td>NaN</td>\n",
       "      <td>TGFb inhibition receptor</td>\n",
       "      <td>KEGG: hsa04350</td>\n",
       "      <td>Secreted Signaling</td>\n",
       "      <td>TGFB3 - (TGFBR1+TGFBR2)</td>\n",
       "      <td>TGFB3</td>\n",
       "      <td>TGFBR1&amp;TGFBR2</td>\n",
       "      <td>ENSG00000119699</td>\n",
       "      <td>ENSG00000106799&amp;ENSG00000163513</td>\n",
       "      <td>TGFB3^TGFBR1&amp;TGFBR2</td>\n",
       "      <td>ENSG00000119699^ENSG00000106799&amp;ENSG00000163513</td>\n",
       "    </tr>\n",
       "    <tr>\n",
       "      <th>3</th>\n",
       "      <td>TGFB1_ACVR1B_TGFBR2</td>\n",
       "      <td>TGFb</td>\n",
       "      <td>TGFB1</td>\n",
       "      <td>ACVR1B_TGFbR2</td>\n",
       "      <td>TGFb agonist</td>\n",
       "      <td>TGFb antagonist</td>\n",
       "      <td>NaN</td>\n",
       "      <td>TGFb inhibition receptor</td>\n",
       "      <td>PMID: 27449815</td>\n",
       "      <td>Secreted Signaling</td>\n",
       "      <td>TGFB1 - (ACVR1B+TGFBR2)</td>\n",
       "      <td>TGFB1</td>\n",
       "      <td>ACVR1B&amp;TGFBR2</td>\n",
       "      <td>ENSG00000105329</td>\n",
       "      <td>ENSG00000135503&amp;ENSG00000163513</td>\n",
       "      <td>TGFB1^ACVR1B&amp;TGFBR2</td>\n",
       "      <td>ENSG00000105329^ENSG00000135503&amp;ENSG00000163513</td>\n",
       "    </tr>\n",
       "    <tr>\n",
       "      <th>4</th>\n",
       "      <td>TGFB1_ACVR1C_TGFBR2</td>\n",
       "      <td>TGFb</td>\n",
       "      <td>TGFB1</td>\n",
       "      <td>ACVR1C_TGFbR2</td>\n",
       "      <td>TGFb agonist</td>\n",
       "      <td>TGFb antagonist</td>\n",
       "      <td>NaN</td>\n",
       "      <td>TGFb inhibition receptor</td>\n",
       "      <td>PMID: 27449815</td>\n",
       "      <td>Secreted Signaling</td>\n",
       "      <td>TGFB1 - (ACVR1C+TGFBR2)</td>\n",
       "      <td>TGFB1</td>\n",
       "      <td>ACVR1C&amp;TGFBR2</td>\n",
       "      <td>ENSG00000105329</td>\n",
       "      <td>ENSG00000123612&amp;ENSG00000163513</td>\n",
       "      <td>TGFB1^ACVR1C&amp;TGFBR2</td>\n",
       "      <td>ENSG00000105329^ENSG00000123612&amp;ENSG00000163513</td>\n",
       "    </tr>\n",
       "  </tbody>\n",
       "</table>\n",
       "</div>"
      ],
      "text/plain": [
       "      interaction_name pathway_name ligand       receptor       agonist  \\\n",
       "0  TGFB1_TGFBR1_TGFBR2         TGFb  TGFB1      TGFbR1_R2  TGFb agonist   \n",
       "1  TGFB2_TGFBR1_TGFBR2         TGFb  TGFB2      TGFbR1_R2  TGFb agonist   \n",
       "2  TGFB3_TGFBR1_TGFBR2         TGFb  TGFB3      TGFbR1_R2  TGFb agonist   \n",
       "3  TGFB1_ACVR1B_TGFBR2         TGFb  TGFB1  ACVR1B_TGFbR2  TGFb agonist   \n",
       "4  TGFB1_ACVR1C_TGFBR2         TGFb  TGFB1  ACVR1C_TGFbR2  TGFb agonist   \n",
       "\n",
       "        antagonist co_A_receptor             co_I_receptor        evidence  \\\n",
       "0  TGFb antagonist           NaN  TGFb inhibition receptor  KEGG: hsa04350   \n",
       "1  TGFb antagonist           NaN  TGFb inhibition receptor  KEGG: hsa04350   \n",
       "2  TGFb antagonist           NaN  TGFb inhibition receptor  KEGG: hsa04350   \n",
       "3  TGFb antagonist           NaN  TGFb inhibition receptor  PMID: 27449815   \n",
       "4  TGFb antagonist           NaN  TGFb inhibition receptor  PMID: 27449815   \n",
       "\n",
       "           annotation       interaction_name_2 ligand_symbol receptor_symbol  \\\n",
       "0  Secreted Signaling  TGFB1 - (TGFBR1+TGFBR2)         TGFB1   TGFBR1&TGFBR2   \n",
       "1  Secreted Signaling  TGFB2 - (TGFBR1+TGFBR2)         TGFB2   TGFBR1&TGFBR2   \n",
       "2  Secreted Signaling  TGFB3 - (TGFBR1+TGFBR2)         TGFB3   TGFBR1&TGFBR2   \n",
       "3  Secreted Signaling  TGFB1 - (ACVR1B+TGFBR2)         TGFB1   ACVR1B&TGFBR2   \n",
       "4  Secreted Signaling  TGFB1 - (ACVR1C+TGFBR2)         TGFB1   ACVR1C&TGFBR2   \n",
       "\n",
       "    ligand_ensembl                 receptor_ensembl   interaction_symbol  \\\n",
       "0  ENSG00000105329  ENSG00000106799&ENSG00000163513  TGFB1^TGFBR1&TGFBR2   \n",
       "1  ENSG00000092969  ENSG00000106799&ENSG00000163513  TGFB2^TGFBR1&TGFBR2   \n",
       "2  ENSG00000119699  ENSG00000106799&ENSG00000163513  TGFB3^TGFBR1&TGFBR2   \n",
       "3  ENSG00000105329  ENSG00000135503&ENSG00000163513  TGFB1^ACVR1B&TGFBR2   \n",
       "4  ENSG00000105329  ENSG00000123612&ENSG00000163513  TGFB1^ACVR1C&TGFBR2   \n",
       "\n",
       "                               interaction_ensembl  \n",
       "0  ENSG00000105329^ENSG00000106799&ENSG00000163513  \n",
       "1  ENSG00000092969^ENSG00000106799&ENSG00000163513  \n",
       "2  ENSG00000119699^ENSG00000106799&ENSG00000163513  \n",
       "3  ENSG00000105329^ENSG00000135503&ENSG00000163513  \n",
       "4  ENSG00000105329^ENSG00000123612&ENSG00000163513  "
      ]
     },
     "execution_count": 5,
     "metadata": {},
     "output_type": "execute_result"
    }
   ],
   "source": [
    "lr_pairs.head()"
   ]
  },
  {
   "cell_type": "code",
   "execution_count": 6,
   "metadata": {},
   "outputs": [],
   "source": [
    "# interaction columns:\n",
    "int_columns = ('ligand_symbol', 'receptor_symbol')"
   ]
  },
  {
   "cell_type": "markdown",
   "metadata": {},
   "source": [
    "Remove bidirectionality in the list of ligand-receptor pairs. That is, remove repeated interactions where both interactions are the same but in different order:\n",
    "\n",
    "From this list:\n",
    "\n",
    "| Ligand | Receptor |\n",
    "| --- | --- |\n",
    "| Protein A | Protein B |\n",
    "| Protein B | Protein A |\n",
    "\n",
    "We will have:\n",
    "\n",
    "| Ligand | Receptor |\n",
    "| --- | --- |\n",
    "| Protein A | Protein B |"
   ]
  },
  {
   "cell_type": "code",
   "execution_count": 7,
   "metadata": {},
   "outputs": [
    {
     "name": "stdout",
     "output_type": "stream",
     "text": [
      "Removing bidirectionality of PPI network\n"
     ]
    }
   ],
   "source": [
    "lr_pairs = c2c.preprocessing.ppi.remove_ppi_bidirectionality(ppi_data=lr_pairs, \n",
    "                                                             interaction_columns=int_columns\n",
    "                                                             )"
   ]
  },
  {
   "cell_type": "code",
   "execution_count": 8,
   "metadata": {},
   "outputs": [
    {
     "data": {
      "text/plain": [
       "(1988, 17)"
      ]
     },
     "execution_count": 8,
     "metadata": {},
     "output_type": "execute_result"
    }
   ],
   "source": [
    "lr_pairs.shape"
   ]
  },
  {
   "cell_type": "markdown",
   "metadata": {},
   "source": [
    "**Generate a dictionary with function info for each LR pairs. Keys are LIGAND_NAME^RECEPTOR_NAME and values are the function in the annotation column in the dataframe containing ligand-receptor pairs.**"
   ]
  },
  {
   "cell_type": "code",
   "execution_count": 9,
   "metadata": {},
   "outputs": [],
   "source": [
    "ppi_functions = dict()\n",
    "\n",
    "for idx, row in lr_pairs.iterrows():\n",
    "    ppi_label = row[int_columns[0]] + '^' + row[int_columns[1]]\n",
    "    ppi_functions[ppi_label] = row['annotation']"
   ]
  },
  {
   "cell_type": "markdown",
   "metadata": {},
   "source": [
    "**Metadata**\n",
    "\n",
    "Metadata for the single cells"
   ]
  },
  {
   "cell_type": "code",
   "execution_count": 10,
   "metadata": {},
   "outputs": [],
   "source": [
    "meta = rnaseq.obs.copy()"
   ]
  },
  {
   "cell_type": "code",
   "execution_count": 11,
   "metadata": {},
   "outputs": [
    {
     "data": {
      "text/html": [
       "<div>\n",
       "<style scoped>\n",
       "    .dataframe tbody tr th:only-of-type {\n",
       "        vertical-align: middle;\n",
       "    }\n",
       "\n",
       "    .dataframe tbody tr th {\n",
       "        vertical-align: top;\n",
       "    }\n",
       "\n",
       "    .dataframe thead th {\n",
       "        text-align: right;\n",
       "    }\n",
       "</style>\n",
       "<table border=\"1\" class=\"dataframe\">\n",
       "  <thead>\n",
       "    <tr style=\"text-align: right;\">\n",
       "      <th></th>\n",
       "      <th>n_genes</th>\n",
       "      <th>n_counts</th>\n",
       "      <th>orig_ident</th>\n",
       "      <th>stim</th>\n",
       "      <th>cluster</th>\n",
       "      <th>Donor</th>\n",
       "    </tr>\n",
       "    <tr>\n",
       "      <th>index</th>\n",
       "      <th></th>\n",
       "      <th></th>\n",
       "      <th></th>\n",
       "      <th></th>\n",
       "      <th></th>\n",
       "      <th></th>\n",
       "    </tr>\n",
       "  </thead>\n",
       "  <tbody>\n",
       "    <tr>\n",
       "      <th>CTRL_AAACATACATTTCC.1</th>\n",
       "      <td>878.0</td>\n",
       "      <td>3018.0</td>\n",
       "      <td>CTRL</td>\n",
       "      <td>CTRL</td>\n",
       "      <td>CD14 Mono</td>\n",
       "      <td>SNG-1016</td>\n",
       "    </tr>\n",
       "    <tr>\n",
       "      <th>CTRL_AAACATACCAGAAA.1</th>\n",
       "      <td>713.0</td>\n",
       "      <td>2481.0</td>\n",
       "      <td>CTRL</td>\n",
       "      <td>CTRL</td>\n",
       "      <td>CD14 Mono</td>\n",
       "      <td>SNG-1256</td>\n",
       "    </tr>\n",
       "    <tr>\n",
       "      <th>CTRL_AAACATACCTCGCT.1</th>\n",
       "      <td>850.0</td>\n",
       "      <td>3420.0</td>\n",
       "      <td>CTRL</td>\n",
       "      <td>CTRL</td>\n",
       "      <td>CD14 Mono</td>\n",
       "      <td>SNG-1256</td>\n",
       "    </tr>\n",
       "    <tr>\n",
       "      <th>CTRL_AAACATACGGCATT.1</th>\n",
       "      <td>558.0</td>\n",
       "      <td>1582.0</td>\n",
       "      <td>CTRL</td>\n",
       "      <td>CTRL</td>\n",
       "      <td>CD14 Mono</td>\n",
       "      <td>SNG-1015</td>\n",
       "    </tr>\n",
       "    <tr>\n",
       "      <th>CTRL_AAACATTGCTTCGC.1</th>\n",
       "      <td>669.0</td>\n",
       "      <td>2536.0</td>\n",
       "      <td>CTRL</td>\n",
       "      <td>CTRL</td>\n",
       "      <td>CD14 Mono</td>\n",
       "      <td>SNG-1256</td>\n",
       "    </tr>\n",
       "  </tbody>\n",
       "</table>\n",
       "</div>"
      ],
      "text/plain": [
       "                       n_genes  n_counts orig_ident  stim    cluster     Donor\n",
       "index                                                                         \n",
       "CTRL_AAACATACATTTCC.1    878.0    3018.0       CTRL  CTRL  CD14 Mono  SNG-1016\n",
       "CTRL_AAACATACCAGAAA.1    713.0    2481.0       CTRL  CTRL  CD14 Mono  SNG-1256\n",
       "CTRL_AAACATACCTCGCT.1    850.0    3420.0       CTRL  CTRL  CD14 Mono  SNG-1256\n",
       "CTRL_AAACATACGGCATT.1    558.0    1582.0       CTRL  CTRL  CD14 Mono  SNG-1015\n",
       "CTRL_AAACATTGCTTCGC.1    669.0    2536.0       CTRL  CTRL  CD14 Mono  SNG-1256"
      ]
     },
     "execution_count": 11,
     "metadata": {},
     "output_type": "execute_result"
    }
   ],
   "source": [
    "meta.head()"
   ]
  },
  {
   "cell_type": "markdown",
   "metadata": {},
   "source": [
    "# Tensor-cell2cell Analysis"
   ]
  },
  {
   "cell_type": "markdown",
   "metadata": {},
   "source": [
    "**Organize data to create tensor**"
   ]
  },
  {
   "cell_type": "markdown",
   "metadata": {},
   "source": [
    "**In this dataset, contexts correspond to donors in both conditions before and after treatment**, so we need to arrange their expression matrices and then preprocess them."
   ]
  },
  {
   "cell_type": "markdown",
   "metadata": {},
   "source": [
    "First, generate a dictionary indicating what condition is associated to each sample"
   ]
  },
  {
   "cell_type": "code",
   "execution_count": 12,
   "metadata": {},
   "outputs": [],
   "source": [
    "meta['Context'] = meta.apply(lambda row: row['Donor'] + '_' + row['stim'], axis=1)\n",
    "\n",
    "context_dict = dict()\n",
    "\n",
    "for stim, df in meta.groupby('stim'):\n",
    "    for donor in df.Context.unique():\n",
    "        context_dict[donor] = stim"
   ]
  },
  {
   "cell_type": "code",
   "execution_count": 13,
   "metadata": {},
   "outputs": [
    {
     "data": {
      "text/plain": [
       "{'SNG-1016_CTRL': 'CTRL',\n",
       " 'SNG-1256_CTRL': 'CTRL',\n",
       " 'SNG-1015_CTRL': 'CTRL',\n",
       " 'SNG-101_CTRL': 'CTRL',\n",
       " 'SNG-1488_CTRL': 'CTRL',\n",
       " 'SNG-1244_CTRL': 'CTRL',\n",
       " 'SNG-1039_CTRL': 'CTRL',\n",
       " 'SNG-107_CTRL': 'CTRL',\n",
       " 'SNG-101_STIM': 'STIM',\n",
       " 'SNG-1016_STIM': 'STIM',\n",
       " 'SNG-1244_STIM': 'STIM',\n",
       " 'SNG-1488_STIM': 'STIM',\n",
       " 'SNG-1015_STIM': 'STIM',\n",
       " 'SNG-1256_STIM': 'STIM',\n",
       " 'SNG-1039_STIM': 'STIM',\n",
       " 'SNG-107_STIM': 'STIM'}"
      ]
     },
     "execution_count": 13,
     "metadata": {},
     "output_type": "execute_result"
    }
   ],
   "source": [
    "context_dict"
   ]
  },
  {
   "cell_type": "markdown",
   "metadata": {},
   "source": [
    "Sort contexts to have them all together by condition, but donors in the same order within each condition"
   ]
  },
  {
   "cell_type": "code",
   "execution_count": 14,
   "metadata": {},
   "outputs": [],
   "source": [
    "context_names = meta.Donor.unique().tolist()\n",
    "context_names = [c + '_CTRL' for c in context_names] + [c + '_STIM' for c in context_names]"
   ]
  },
  {
   "cell_type": "code",
   "execution_count": 15,
   "metadata": {},
   "outputs": [
    {
     "data": {
      "text/plain": [
       "['SNG-1016_CTRL',\n",
       " 'SNG-1256_CTRL',\n",
       " 'SNG-1015_CTRL',\n",
       " 'SNG-101_CTRL',\n",
       " 'SNG-1488_CTRL',\n",
       " 'SNG-1244_CTRL',\n",
       " 'SNG-1039_CTRL',\n",
       " 'SNG-107_CTRL',\n",
       " 'SNG-1016_STIM',\n",
       " 'SNG-1256_STIM',\n",
       " 'SNG-1015_STIM',\n",
       " 'SNG-101_STIM',\n",
       " 'SNG-1488_STIM',\n",
       " 'SNG-1244_STIM',\n",
       " 'SNG-1039_STIM',\n",
       " 'SNG-107_STIM']"
      ]
     },
     "execution_count": 15,
     "metadata": {},
     "output_type": "execute_result"
    }
   ],
   "source": [
    "context_names"
   ]
  },
  {
   "cell_type": "markdown",
   "metadata": {},
   "source": [
    "**Generate list of RNA-seq data for each context**"
   ]
  },
  {
   "cell_type": "code",
   "execution_count": 16,
   "metadata": {
    "scrolled": true
   },
   "outputs": [
    {
     "data": {
      "application/vnd.jupyter.widget-view+json": {
       "model_id": "1148a464628d417ba319ad27f40e3bd8",
       "version_major": 2,
       "version_minor": 0
      },
      "text/plain": [
       "  0%|          | 0/16 [00:00<?, ?it/s]"
      ]
     },
     "metadata": {},
     "output_type": "display_data"
    },
    {
     "name": "stderr",
     "output_type": "stream",
     "text": [
      "Trying to set attribute `.var` of view, copying.\n",
      "Trying to set attribute `.var` of view, copying.\n",
      "Trying to set attribute `.var` of view, copying.\n",
      "Trying to set attribute `.var` of view, copying.\n",
      "Trying to set attribute `.var` of view, copying.\n",
      "Trying to set attribute `.var` of view, copying.\n",
      "Trying to set attribute `.var` of view, copying.\n",
      "Trying to set attribute `.var` of view, copying.\n",
      "Trying to set attribute `.var` of view, copying.\n",
      "Trying to set attribute `.var` of view, copying.\n",
      "Trying to set attribute `.var` of view, copying.\n",
      "Trying to set attribute `.var` of view, copying.\n",
      "Trying to set attribute `.var` of view, copying.\n",
      "Trying to set attribute `.var` of view, copying.\n",
      "Trying to set attribute `.var` of view, copying.\n",
      "Trying to set attribute `.var` of view, copying.\n"
     ]
    }
   ],
   "source": [
    "rnaseq_matrices = []\n",
    "\n",
    "for context in tqdm(context_names):\n",
    "        meta_context = meta.loc[meta['Context'] == context]\n",
    "        cells = list(meta_context.index)\n",
    "        \n",
    "        meta_context.index.name = 'barcode'\n",
    "        tmp_data = rnaseq[cells]\n",
    "        # Keep genes in each sample with at least 3 single cells expressing it\n",
    "        sc.pp.filter_genes(tmp_data, min_cells=3)\n",
    "        \n",
    "        # Aggregate gene expression of single cells into cell types\n",
    "        exp_df = c2c.preprocessing.aggregate_single_cells(rnaseq_data=tmp_data.to_df(),\n",
    "                                                          metadata=meta_context,\n",
    "                                                          barcode_col='barcode',\n",
    "                                                          celltype_col='cluster',\n",
    "                                                          method='nn_cell_fraction',\n",
    "                                                         )\n",
    "        \n",
    "        rnaseq_matrices.append(exp_df)"
   ]
  },
  {
   "cell_type": "markdown",
   "metadata": {},
   "source": [
    "**Build 4D-Communication Tensor**\n",
    "\n",
    "```how='inner'``` is used to keep only cell types and genes that are across all contexts.\n",
    "\n",
    "```complex_sep='&'``` is used to specify that the list of ligand-receptor pairs contains protein complexes and that subunits are separated by '&'. If the list does not have complexes, use ```complex_sep=None``` instead."
   ]
  },
  {
   "cell_type": "code",
   "execution_count": 17,
   "metadata": {},
   "outputs": [
    {
     "name": "stdout",
     "output_type": "stream",
     "text": [
      "Getting expression values for protein complexes\n",
      "Building tensor for the provided context\n"
     ]
    }
   ],
   "source": [
    "tensor = c2c.tensor.InteractionTensor(rnaseq_matrices=rnaseq_matrices,\n",
    "                                      ppi_data=lr_pairs,\n",
    "                                      context_names=context_names,\n",
    "                                      how='inner',\n",
    "                                      complex_sep='&',\n",
    "                                      interaction_columns=int_columns,\n",
    "                                      communication_score='expression_mean',\n",
    "                                     )"
   ]
  },
  {
   "cell_type": "markdown",
   "metadata": {},
   "source": [
    "(# Contexts, # LR pairs, # Sender cell types, # Receiver cell types) contained in the tensor, after all the preprocessing"
   ]
  },
  {
   "cell_type": "code",
   "execution_count": 18,
   "metadata": {},
   "outputs": [
    {
     "data": {
      "text/plain": [
       "(16, 46, 12, 12)"
      ]
     },
     "execution_count": 18,
     "metadata": {},
     "output_type": "execute_result"
    }
   ],
   "source": [
    "tensor.tensor.shape"
   ]
  },
  {
   "cell_type": "markdown",
   "metadata": {},
   "source": [
    "**Generate a list containing metadata for each tensor order/dimension - Later used for coloring factor plots**"
   ]
  },
  {
   "cell_type": "code",
   "execution_count": 19,
   "metadata": {},
   "outputs": [],
   "source": [
    "meta_tf = c2c.tensor.generate_tensor_metadata(interaction_tensor=tensor,\n",
    "                                              metadata_dicts=[context_dict, ppi_functions, None, None],\n",
    "                                              fill_with_order_elements=True\n",
    "                                             )"
   ]
  },
  {
   "cell_type": "markdown",
   "metadata": {},
   "source": [
    "**Elbow analysis for selecting Rank for Tensor-Factorization**"
   ]
  },
  {
   "cell_type": "code",
   "execution_count": 20,
   "metadata": {},
   "outputs": [
    {
     "data": {
      "application/vnd.jupyter.widget-view+json": {
       "model_id": "a6c290a3cbfb445fb09c6d95dab9d6ae",
       "version_major": 2,
       "version_minor": 0
      },
      "text/plain": [
       "  0%|          | 0/25 [00:00<?, ?it/s]"
      ]
     },
     "metadata": {},
     "output_type": "display_data"
    },
    {
     "name": "stdout",
     "output_type": "stream",
     "text": [
      "The rank at the elbow is: 7\n"
     ]
    },
    {
     "data": {
      "image/png": "[encoded data removed]",
      "text/plain": [
       "<Figure size 288x162 with 1 Axes>"
      ]
     },
     "metadata": {
      "needs_background": "light"
     },
     "output_type": "display_data"
    }
   ],
   "source": [
    "fig, error = tensor.elbow_rank_selection(upper_rank=25,\n",
    "                                         runs=10,\n",
    "                                         init='svd', # If it outputs a memory error, replace by 'random'\n",
    "                                         automatic_elbow=True,\n",
    "                                         random_state=888,\n",
    "                                         filename=None # Put a path (e.g. ./Elbow.png) to save the figure\n",
    "                                        )"
   ]
  },
  {
   "cell_type": "markdown",
   "metadata": {},
   "source": [
    "**Tensor decomposition**"
   ]
  },
  {
   "cell_type": "code",
   "execution_count": 21,
   "metadata": {},
   "outputs": [],
   "source": [
    "tensor.compute_tensor_factorization(rank=tensor.rank,\n",
    "                                    init='svd', # If it outputs a memory error, replace by 'random'\n",
    "                                    random_state=888)"
   ]
  },
  {
   "cell_type": "markdown",
   "metadata": {},
   "source": [
    "# Results"
   ]
  },
  {
   "cell_type": "markdown",
   "metadata": {},
   "source": [
    "**Plot factors**"
   ]
  },
  {
   "cell_type": "markdown",
   "metadata": {},
   "source": [
    "Color palettes for each dimension"
   ]
  },
  {
   "cell_type": "code",
   "execution_count": 22,
   "metadata": {},
   "outputs": [],
   "source": [
    "cmaps = ['plasma', 'Dark2_r', 'tab20', 'tab20']"
   ]
  },
  {
   "cell_type": "markdown",
   "metadata": {},
   "source": [
    "Plot factor loadings"
   ]
  },
  {
   "cell_type": "code",
   "execution_count": 23,
   "metadata": {},
   "outputs": [
    {
     "data": {
      "image/png": "[encoded data removed]",
      "text/plain": [
       "<Figure size 720x648 with 28 Axes>"
      ]
     },
     "metadata": {
      "needs_background": "light"
     },
     "output_type": "display_data"
    }
   ],
   "source": [
    "fig, axes = c2c.plotting.tensor_factors_plot(interaction_tensor=tensor,\n",
    "                                             metadata = meta_tf,\n",
    "                                             sample_col='Element',\n",
    "                                             group_col='Category',\n",
    "                                             meta_cmaps=cmaps,\n",
    "                                             fontsize=14,\n",
    "                                             filename=None # Put a path (e.g. ./TF.png) to save the figure\n",
    "                                            )"
   ]
  },
  {
   "cell_type": "markdown",
   "metadata": {},
   "source": [
    "**Top-5 LR pairs in each factor**"
   ]
  },
  {
   "cell_type": "code",
   "execution_count": 24,
   "metadata": {
    "scrolled": false
   },
   "outputs": [
    {
     "name": "stdout",
     "output_type": "stream",
     "text": [
      "ANXA1^FPR1         0.508938\n",
      "ANXA1^FPR2&FPR3    0.508792\n",
      "ANXA1^FPR2         0.508081\n",
      "CD86^CD28          0.238849\n",
      "LGALS9^CD44        0.197889\n",
      "Name: Factor 1, dtype: float64\n",
      "\n",
      "CD99^PILRA       0.436925\n",
      "APP^CD74         0.414914\n",
      "THBS1^CD47       0.280924\n",
      "LGALS9^HAVCR2    0.256824\n",
      "RETN^CAP1        0.240572\n",
      "Name: Factor 2, dtype: float64\n",
      "\n",
      "CXCL10^CXCR3     0.638723\n",
      "LGALS9^PTPRC     0.406027\n",
      "LGALS9^HAVCR2    0.340612\n",
      "SELPLG^SELL      0.238611\n",
      "LGALS9^CD44      0.236347\n",
      "Name: Factor 3, dtype: float64\n",
      "\n",
      "MIF^CD74&CD44     0.397370\n",
      "MIF^CD74&CXCR4    0.377213\n",
      "LGALS9^PTPRC      0.313042\n",
      "LCK^CD8A&CD8B     0.308035\n",
      "ANXA1^FPR1        0.305440\n",
      "Name: Factor 4, dtype: float64\n",
      "\n",
      "HLA-DMA^CD4       0.497129\n",
      "LGALS9^CD44       0.421062\n",
      "LGALS9^PTPRC      0.371442\n",
      "MIF^CD74&CD44     0.361457\n",
      "MIF^CD74&CXCR4    0.331099\n",
      "Name: Factor 5, dtype: float64\n",
      "\n",
      "APP^CD74          0.712736\n",
      "THBS1^CD47        0.430424\n",
      "MIF^CD74&CXCR4    0.327670\n",
      "RETN^CAP1         0.235732\n",
      "SELPLG^SELL       0.194715\n",
      "Name: Factor 6, dtype: float64\n",
      "\n",
      "CCL5^CCR1          0.582190\n",
      "CCL5^CCR5          0.574761\n",
      "ANXA1^FPR2&FPR3    0.285689\n",
      "ANXA1^FPR2         0.282376\n",
      "ANXA1^FPR1         0.276354\n",
      "Name: Factor 7, dtype: float64\n",
      "\n"
     ]
    }
   ],
   "source": [
    "for i in range(tensor.rank):\n",
    "    print(tensor.get_top_factor_elements('Ligand-Receptor Pairs', 'Factor {}'.format(i+1), 5))\n",
    "    print('')"
   ]
  },
  {
   "cell_type": "markdown",
   "metadata": {},
   "source": [
    "**Export an excel with all loadings**"
   ]
  },
  {
   "cell_type": "code",
   "execution_count": 25,
   "metadata": {},
   "outputs": [],
   "source": [
    "#tensor.export_factor_loadings('Loadings.xlsx')"
   ]
  },
  {
   "cell_type": "code",
   "execution_count": null,
   "metadata": {},
   "outputs": [],
   "source": []
  }
 ],
 "metadata": {
  "kernelspec": {
   "display_name": "Python 3 (ipykernel)",
   "language": "python",
   "name": "python3"
  },
  "language_info": {
   "codemirror_mode": {
    "name": "ipython",
    "version": 3
   },
   "file_extension": ".py",
   "mimetype": "text/x-python",
   "name": "python",
   "nbconvert_exporter": "python",
   "pygments_lexer": "ipython3",
   "version": "3.7.8"
  }
 },
 "nbformat": 4,
 "nbformat_minor": 4
}
