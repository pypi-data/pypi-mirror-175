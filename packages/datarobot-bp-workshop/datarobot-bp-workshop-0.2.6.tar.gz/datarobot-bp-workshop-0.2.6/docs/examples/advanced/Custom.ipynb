{
 "cells": [
  {
   "cell_type": "markdown",
   "source": [
    "# Custom Tasks\n",
    "\n",
    "The following provides an example workflow of creating a blueprint with a pre-existing\n",
    "custom task.\n",
    "\n",
    "Please note that for the time being, custom tasks should be created through\n",
    "the [DataRobot Python Client](https://datarobot-public-api-client.readthedocs-hosted.com/en/v2.27.0/reference/modeling/spec/custom_task.html)\n",
    "or via the UI."
   ],
   "metadata": {
    "collapsed": false
   }
  },
  {
   "cell_type": "code",
   "execution_count": null,
   "outputs": [],
   "source": [
    "from datarobot_bp_workshop import Workshop\n",
    "\n",
    "w = Workshop()"
   ],
   "metadata": {
    "collapsed": false,
    "pycharm": {
     "name": "#%%\n"
    }
   }
  },
  {
   "cell_type": "markdown",
   "id": "9176bf4c-1783-4bc3-87d4-6915e4e59291",
   "metadata": {},
   "source": [
    "## Find Custom Tasks"
   ]
  },
  {
   "cell_type": "code",
   "execution_count": 75,
   "id": "28714a43-b35d-4b15-b066-ccb12ef415b3",
   "metadata": {},
   "outputs": [
    {
     "data": {
      "text/plain": [
       "Awesome Model: [CUSTOMR_6019ae978cc598a46199cee1] \n",
       "  - This is the best model ever."
      ]
     },
     "execution_count": 75,
     "metadata": {},
     "output_type": "execute_result"
    }
   ],
   "source": [
    "w.search_tasks('awesome task')"
   ]
  },
  {
   "cell_type": "code",
   "execution_count": 76,
   "id": "69492172-09db-4985-baae-f5fc04477ced",
   "metadata": {},
   "outputs": [
    {
     "data": {
      "text/plain": [
       "Awesome Model: [CUSTOMR_6019ae978cc598a46199cee1] \n",
       "  - This is the best model ever."
      ]
     },
     "execution_count": 76,
     "metadata": {},
     "output_type": "execute_result"
    }
   ],
   "source": [
    "w.CustomTasks.CUSTOMR_6019ae978cc598a46199cee1"
   ]
  },
  {
   "cell_type": "code",
   "execution_count": 77,
   "id": "97663da6-681e-4f39-93f9-bd1467c57a6f",
   "metadata": {},
   "outputs": [
    {
     "data": {
      "text/plain": [
       "Awesome Model (CUSTOMR_6019ae978cc598a46199cee1)\n",
       "\n",
       "Input Summary: Numeric Data\n",
       "Output Method: TaskOutputMethod.PREDICT\n",
       "\n",
       "Task Parameters:\n",
       "  version_id (version_id) = latest_6019ae978cc598a46199cee1"
      ]
     },
     "execution_count": 77,
     "metadata": {},
     "output_type": "execute_result"
    }
   ],
   "source": [
    "w.CustomTasks.CUSTOMR_6019ae978cc598a46199cee1(w.TaskInputs.NUM)"
   ]
  },
  {
   "cell_type": "code",
   "execution_count": 78,
   "id": "2fd47145-9eca-4876-91ab-42a54579f4de",
   "metadata": {},
   "outputs": [
    {
     "data": {
      "text/plain": [
       "Awesome Model (CUSTOMR_6019ae978cc598a46199cee1)\n",
       "\n",
       "Input Summary: (None)\n",
       "Output Method: TaskOutputMethod.PREDICT\n",
       "\n",
       "Task Parameters:\n",
       "  version_id (version_id) = latest_6019ae978cc598a46199cee1"
      ]
     },
     "execution_count": 78,
     "metadata": {},
     "output_type": "execute_result"
    }
   ],
   "source": [
    "w.CustomTask('CUSTOMR_6019ae978cc598a46199cee1')"
   ]
  },
  {
   "cell_type": "code",
   "execution_count": 79,
   "id": "9fbcab2f-2cf8-4423-ab03-8d0dd9e4dd67",
   "metadata": {
    "tags": []
   },
   "outputs": [
    {
     "data": {
      "text/plain": [
       "Latest (latest_6019ae978cc598a46199cee1): str\n",
       "\n",
       "v3.0 (6019e2418311cc8207a5f8e1): str\n",
       "\n",
       "v2.10 (6019dff0509159ede309f9c9): str\n",
       "\n",
       "v2.9 (6019dc3b8311cc8207a5f7d9): str\n",
       "\n",
       "v2.8 (6019dbcb4f6322a6283883d9): str\n",
       "\n",
       "v2.7 (6019db4d041c71bd7ea1c670): str\n",
       "\n",
       "v2.6 (6019da5d4f6322a628388364): str\n",
       "\n",
       "v2.5 (6019d924be257008648e3c62): str\n",
       "\n",
       "v2.4 (6019d7db3d7d080b078e3c39): str\n",
       "\n",
       "v2.3 (6019d744356f3c430b38828d): str\n",
       "\n",
       "v2.2 (6019d305be257008648e3c0c): str\n",
       "\n",
       "v2.1 (6019d2e045e619fc03a2eead): str\n",
       "\n",
       "v2.0 (6019d2bd3d7d080b078e3b66): str\n",
       "\n",
       "v1.3 (6019cf0735270cbe238e3c76): str\n",
       "\n",
       "v1.2 (6019b9fdbf5b0a42aba1c6e9): str\n",
       "\n",
       "v1.1 (6019b81729ae9ab5ad8e3c26): str\n",
       "\n",
       "v1.0 (6019afe4dcd97e1e5ebfee13): str"
      ]
     },
     "execution_count": 79,
     "metadata": {},
     "output_type": "execute_result"
    }
   ],
   "source": [
    "w.CustomTasks.CUSTOMR_6019ae978cc598a46199cee1.versions"
   ]
  },
  {
   "cell_type": "markdown",
   "id": "e263d92b-6c0f-45a7-bf89-96081882028f",
   "metadata": {},
   "source": [
    "## Build a blueprint with a custom task"
   ]
  },
  {
   "cell_type": "code",
   "execution_count": 80,
   "id": "8ed5b209-5401-4df4-9df5-660221eebaa5",
   "metadata": {},
   "outputs": [],
   "source": [
    "pni = w.Tasks.PNI2(w.TaskInputs.NUM)\n",
    "rdt = w.Tasks.RDT5(pni)\n",
    "binning = w.Tasks.BINNING(pni)\n",
    "customr = w.CustomTasks.CUSTOMR_6019ae978cc598a46199cee1(rdt, binning)\n",
    "custom_bp = w.BlueprintGraph(customr, name='My Fun Custom Blueprint').save()"
   ]
  },
  {
   "cell_type": "markdown",
   "id": "c287e072-24e2-442d-9ecb-f4039b10ab5d",
   "metadata": {},
   "source": [
    "## Set custom task version"
   ]
  },
  {
   "cell_type": "code",
   "execution_count": 81,
   "id": "e20cd7d4-8e1b-488b-83d2-5383001b7ac4",
   "metadata": {},
   "outputs": [],
   "source": [
    "customr.version = w.CustomTasks.CUSTOMR_6019ae978cc598a46199cee1.versions.v2_7"
   ]
  },
  {
   "cell_type": "code",
   "execution_count": 82,
   "id": "f09b97b3-6d0d-4a51-9e76-5cd9abdc66ed",
   "metadata": {},
   "outputs": [
    {
     "data": {
      "text/plain": [
       "Awesome Model (CUSTOMR_6019ae978cc598a46199cee1)\n",
       "\n",
       "Input Summary: Smooth Ridit Transform (RDT5) | Binning of numerical variables (BINNING)\n",
       "Output Method: TaskOutputMethod.PREDICT\n",
       "\n",
       "Task Parameters:\n",
       "  version_id (version_id) = 6019db4d041c71bd7ea1c670"
      ]
     },
     "execution_count": 82,
     "metadata": {},
     "output_type": "execute_result"
    }
   ],
   "source": [
    "customr"
   ]
  },
  {
   "cell_type": "code",
   "execution_count": 83,
   "id": "d7d71399-d9ee-4013-bd52-af9faef26e8f",
   "metadata": {},
   "outputs": [],
   "source": [
    "customr.version = w.CustomTasks.CUSTOMR_6019ae978cc598a46199cee1.versions.Latest"
   ]
  },
  {
   "cell_type": "code",
   "execution_count": 84,
   "id": "2ae48e48-b5c3-4c4d-84d1-43b79fa9da72",
   "metadata": {},
   "outputs": [
    {
     "data": {
      "text/plain": [
       "Name: 'My Fun Custom Blueprint'\n",
       "\n",
       "Input Data: Numeric\n",
       "Tasks: Missing Values Imputed | Smooth Ridit Transform | Binning of numerical variables | Awesome Model"
      ]
     },
     "execution_count": 84,
     "metadata": {},
     "output_type": "execute_result"
    }
   ],
   "source": [
    "custom_bp.save()"
   ]
  },
  {
   "cell_type": "markdown",
   "id": "2240b29b-58de-45e2-b61a-e97070a7acfb",
   "metadata": {},
   "source": [
    "### Find, View, and Train"
   ]
  },
  {
   "cell_type": "code",
   "execution_count": 85,
   "id": "5ad30a7c-8a8d-4006-b1a9-73fdaf553735",
   "metadata": {},
   "outputs": [],
   "source": [
    "bps = list(w.list(limit=3))"
   ]
  },
  {
   "cell_type": "code",
   "execution_count": 86,
   "id": "50c58a9e-42b9-4bd5-aacc-72fa3d913f62",
   "metadata": {},
   "outputs": [
    {
     "data": {
      "image/png": "[encoded data removed]",
      "text/plain": [
       "<IPython.core.display.Image object>"
      ]
     },
     "metadata": {},
     "output_type": "display_data"
    }
   ],
   "source": [
    "bps[0].show()"
   ]
  },
  {
   "cell_type": "code",
   "execution_count": 87,
   "id": "9ebe1423-263b-4ed2-b2e7-4ba0c9d0f270",
   "metadata": {},
   "outputs": [
    {
     "data": {
      "text/plain": [
       "Name: 'My Fun Custom Blueprint'\n",
       "\n",
       "Input Data: Numeric\n",
       "Tasks: Missing Values Imputed | Smooth Ridit Transform | Binning of numerical variables | Awesome Model"
      ]
     },
     "execution_count": 87,
     "metadata": {},
     "output_type": "execute_result"
    }
   ],
   "source": [
    "custom_bp.train(project_id=project_id)"
   ]
  },
  {
   "cell_type": "code",
   "execution_count": 88,
   "id": "3939c4cb-dde3-49f2-9d6f-97e76e9cc6e4",
   "metadata": {},
   "outputs": [
    {
     "name": "stdout",
     "output_type": "stream",
     "text": [
      "\u001B[32mBlueprint deleted.\u001B[0m\n"
     ]
    }
   ],
   "source": [
    "custom_bp.delete()"
   ]
  }
 ],
 "metadata": {
  "kernelspec": {
   "display_name": "Python 3",
   "language": "python",
   "name": "python3"
  },
  "language_info": {
   "codemirror_mode": {
    "name": "ipython",
    "version": 2
   },
   "file_extension": ".py",
   "mimetype": "text/x-python",
   "name": "python",
   "nbconvert_exporter": "python",
   "pygments_lexer": "ipython2",
   "version": "2.7.6"
  }
 },
 "nbformat": 4,
 "nbformat_minor": 5
}